{
  "nbformat": 4,
  "nbformat_minor": 0,
  "metadata": {
    "colab": {
      "provenance": [],
      "authorship_tag": "ABX9TyNAZPAYFo4z2ln6VdYi9G2Y",
      "include_colab_link": true
    },
    "kernelspec": {
      "name": "python3",
      "display_name": "Python 3"
    },
    "language_info": {
      "name": "python"
    }
  },
  "cells": [
    {
      "cell_type": "markdown",
      "metadata": {
        "id": "view-in-github",
        "colab_type": "text"
      },
      "source": [
        "<a href=\"https://colab.research.google.com/github/Sameer3814/Portfolio-Project/blob/main/Predicting_Road_Clearance_Time_After_an_Accident.ipynb\" target=\"_parent\"><img src=\"https://colab.research.google.com/assets/colab-badge.svg\" alt=\"Open In Colab\"/></a>"
      ]
    },
    {
      "cell_type": "markdown",
      "source": [
        "#**Predicting Road Clearance Time After an Accident**"
      ],
      "metadata": {
        "id": "lASNjSG8gGP_"
      }
    },
    {
      "cell_type": "markdown",
      "source": [
        "In this project, I developed a machine learning model to predict the time it takes to clear roads after an accident. The dataset included various factors such as weather conditions, crash severity, vehicle damage ratings, and demographics.\n",
        "\n",
        "**Key Steps Taken:**\n",
        "\n",
        "✅ **Data Preprocessing**: Handled missing values, encoded categorical variables, removed irrelevant columns, and created meaningful feature bins.\n",
        "\n",
        "✅ **Feature Engineering & Selection:** Transformed time-related variables, applied one-hot encoding, and selected the most relevant features.\n",
        "\n",
        "✅ **Model Development:** Trained a Random Forest Regressor, fine-tuned hyperparameters, and evaluated the model’s performance.\n",
        "\n",
        "✅ **Results:** Achieved an R² score of 84%, significantly improving prediction accuracy.\n",
        "\n",
        "This project showcases my data preprocessing, feature engineering, and machine learning skills, demonstrating my ability to build impactful predictive models."
      ],
      "metadata": {
        "id": "tS33aiLUeme6"
      }
    },
    {
      "cell_type": "markdown",
      "source": [
        "# **Data preprocessing**"
      ],
      "metadata": {
        "id": "8RSEoKgz0yGa"
      }
    },
    {
      "cell_type": "code",
      "source": [
        "import pandas as pd\n",
        "import numpy as np\n",
        "import matplotlib.pyplot as plt\n",
        "import seaborn as sns\n",
        "\n",
        "import warnings\n",
        "warnings.filterwarnings(\"ignore\")\n",
        "\n",
        "# To display all columns when viewing the DataFrame\n",
        "pd.set_option(\"display.max_columns\", None)\n",
        "\n",
        "# For a consistent style for visualizations\n",
        "sns.set_style(\"whitegrid\")"
      ],
      "metadata": {
        "id": "rEbIn41ib9K9"
      },
      "execution_count": 1,
      "outputs": []
    },
    {
      "cell_type": "code",
      "source": [
        "import os\n",
        "\n",
        "# List files in the current directory\n",
        "print(\"Files in local memory:\", os.listdir())"
      ],
      "metadata": {
        "colab": {
          "base_uri": "https://localhost:8080/"
        },
        "id": "FF4njkXY4H8O",
        "outputId": "5da9a11d-ff24-4055-ccdd-c168f56f5981"
      },
      "execution_count": 2,
      "outputs": [
        {
          "output_type": "stream",
          "name": "stdout",
          "text": [
            "Files in local memory: ['.config', 'Regression_test.csv', 'Regression_train.csv', 'sample_data']\n"
          ]
        }
      ]
    },
    {
      "cell_type": "code",
      "source": [
        "# Loading the datasets\n",
        "df_train = pd.read_csv(\"Regression_train.csv\")\n",
        "df_test = pd.read_csv(\"Regression_test.csv\")\n",
        "\n",
        "print(\"Training Data:\")\n",
        "print(df_train.head())\n",
        "\n",
        "print(\"\\nTest Data:\")\n",
        "print(df_test.head())\n"
      ],
      "metadata": {
        "colab": {
          "base_uri": "https://localhost:8080/"
        },
        "id": "WDfehIQB1tFD",
        "outputId": "02625a1a-2511-4263-aab9-8536de4ab846"
      },
      "execution_count": 3,
      "outputs": [
        {
          "output_type": "stream",
          "name": "stdout",
          "text": [
            "Training Data:\n",
            "   Unnamed: 0    Crash ID Crash Date       Crash Severity Crash Time  \\\n",
            "0           0         NaN   5/1/2023      N - NOT INJURED      16:04   \n",
            "1           1  19524300.0   5/1/2023                  NaN      17:49   \n",
            "2           2  19524300.0   5/1/2023  C - POSSIBLE INJURY      17:49   \n",
            "3           3  19524300.0   5/1/2023  C - POSSIBLE INJURY      17:49   \n",
            "4           4  19524300.0   5/1/2023  C - POSSIBLE INJURY      17:49   \n",
            "\n",
            "  Day of Week Nearest Trauma Center Distance Time Arrived Time Notified  \\\n",
            "0         NaN                        No Data      No Data       No Data   \n",
            "1      MONDAY                          5.916        17:59         17:52   \n",
            "2      MONDAY                          5.916        17:59         17:52   \n",
            "3      MONDAY                          5.916          NaN         17:52   \n",
            "4      MONDAY                          5.916        17:59         17:52   \n",
            "\n",
            "  Time Roadway Cleared Weather Condition Autonomous Level Engaged  \\\n",
            "0                16:26         1 - CLEAR        0 - NO AUTOMATION   \n",
            "1                19:08         1 - CLEAR        0 - NO AUTOMATION   \n",
            "2                19:08         1 - CLEAR        0 - NO AUTOMATION   \n",
            "3                19:08         1 - CLEAR        0 - NO AUTOMATION   \n",
            "4                19:08         1 - CLEAR        0 - NO AUTOMATION   \n",
            "\n",
            "  Autonomous Unit - Reported Vehicle Damage Rating 1 - Severity  \\\n",
            "0                     2 - NO                      3 - DAMAGED 3   \n",
            "1                     2 - NO                      4 - DAMAGED 4   \n",
            "2                     2 - NO              1 - DAMAGED 1 MINIMUM   \n",
            "3                     2 - NO                      3 - DAMAGED 3   \n",
            "4                     2 - NO                      3 - DAMAGED 3   \n",
            "\n",
            "  Vehicle Model Year Person Age Person Alcohol Result Person Drug Test Result  \\\n",
            "0               2019         19               No Data     97 - NOT APPLICABLE   \n",
            "1               2006         37               No Data     97 - NOT APPLICABLE   \n",
            "2               2008        NaN               No Data     97 - NOT APPLICABLE   \n",
            "3               2018         23               No Data     97 - NOT APPLICABLE   \n",
            "4               2018         24               No Data                 No Data   \n",
            "\n",
            "  Person Ethnicity Person Gender  \n",
            "0     H - HISPANIC      1 - MALE  \n",
            "1        W - WHITE    2 - FEMALE  \n",
            "2        W - WHITE      1 - MALE  \n",
            "3        W - WHITE      1 - MALE  \n",
            "4        W - WHITE      1 - MALE  \n",
            "\n",
            "Test Data:\n",
            "   Unnamed: 0    Crash ID  Crash Date   Crash Severity Day of Week  \\\n",
            "0           0  19896631.0  11/30/2023  N - NOT INJURED    THURSDAY   \n",
            "1           1  19568388.0   5/26/2023  N - NOT INJURED      FRIDAY   \n",
            "2           2  19675565.0   7/29/2023  N - NOT INJURED    SATURDAY   \n",
            "3           3  19636995.0    7/6/2023  N - NOT INJURED    THURSDAY   \n",
            "4           4  19605340.0   6/15/2023  N - NOT INJURED    THURSDAY   \n",
            "\n",
            "  Nearest Trauma Center Distance Time Arrived Time Notified Weather Condition  \\\n",
            "0                        No Data      No Data       No Data           6 - FOG   \n",
            "1                        No Data      No Data       No Data         1 - CLEAR   \n",
            "2                        No Data      No Data       No Data         1 - CLEAR   \n",
            "3                        No Data      No Data       No Data         1 - CLEAR   \n",
            "4                        No Data      No Data       No Data         1 - CLEAR   \n",
            "\n",
            "  Autonomous Level Engaged Autonomous Unit - Reported  \\\n",
            "0        0 - NO AUTOMATION                     2 - NO   \n",
            "1        0 - NO AUTOMATION                     2 - NO   \n",
            "2        0 - NO AUTOMATION                     2 - NO   \n",
            "3        0 - NO AUTOMATION                     2 - NO   \n",
            "4        0 - NO AUTOMATION                     2 - NO   \n",
            "\n",
            "  Vehicle Damage Rating 1 - Severity Vehicle Model Year Person Age  \\\n",
            "0                      2 - DAMAGED 2               2010         19   \n",
            "1                      3 - DAMAGED 3               2015         59   \n",
            "2                      3 - DAMAGED 3               2009         41   \n",
            "3                      3 - DAMAGED 3               2020         56   \n",
            "4                      3 - DAMAGED 3               2019         31   \n",
            "\n",
            "  Person Alcohol Result Person Drug Test Result Person Ethnicity Person Gender  \n",
            "0               No Data     97 - NOT APPLICABLE        W - WHITE      1 - MALE  \n",
            "1               No Data     97 - NOT APPLICABLE        W - WHITE      1 - MALE  \n",
            "2               No Data     97 - NOT APPLICABLE        B - BLACK    2 - FEMALE  \n",
            "3               No Data     97 - NOT APPLICABLE        W - WHITE    2 - FEMALE  \n",
            "4               No Data     97 - NOT APPLICABLE        B - BLACK      1 - MALE  \n"
          ]
        }
      ]
    },
    {
      "cell_type": "code",
      "source": [
        "df_train.info()"
      ],
      "metadata": {
        "id": "8OsDjnxY4mE3",
        "colab": {
          "base_uri": "https://localhost:8080/"
        },
        "outputId": "2810b6ec-ab17-4da3-a172-c72292e9866f"
      },
      "execution_count": 4,
      "outputs": [
        {
          "output_type": "stream",
          "name": "stdout",
          "text": [
            "<class 'pandas.core.frame.DataFrame'>\n",
            "RangeIndex: 5376 entries, 0 to 5375\n",
            "Data columns (total 20 columns):\n",
            " #   Column                              Non-Null Count  Dtype  \n",
            "---  ------                              --------------  -----  \n",
            " 0   Unnamed: 0                          5376 non-null   int64  \n",
            " 1   Crash ID                            5266 non-null   float64\n",
            " 2   Crash Date                          5267 non-null   object \n",
            " 3   Crash Severity                      5259 non-null   object \n",
            " 4   Crash Time                          5376 non-null   object \n",
            " 5   Day of Week                         5264 non-null   object \n",
            " 6   Nearest Trauma Center Distance      5266 non-null   object \n",
            " 7   Time Arrived                        5283 non-null   object \n",
            " 8   Time Notified                       5264 non-null   object \n",
            " 9   Time Roadway Cleared                5376 non-null   object \n",
            " 10  Weather Condition                   5376 non-null   object \n",
            " 11  Autonomous Level Engaged            5273 non-null   object \n",
            " 12  Autonomous Unit - Reported          5274 non-null   object \n",
            " 13  Vehicle Damage Rating 1 - Severity  5269 non-null   object \n",
            " 14  Vehicle Model Year                  5273 non-null   object \n",
            " 15  Person Age                          5257 non-null   object \n",
            " 16  Person Alcohol Result               5285 non-null   object \n",
            " 17  Person Drug Test Result             5249 non-null   object \n",
            " 18  Person Ethnicity                    5376 non-null   object \n",
            " 19  Person Gender                       5268 non-null   object \n",
            "dtypes: float64(1), int64(1), object(18)\n",
            "memory usage: 840.1+ KB\n"
          ]
        }
      ]
    },
    {
      "cell_type": "code",
      "source": [
        "df_train.isna().sum()"
      ],
      "metadata": {
        "id": "yUP-YUbl1tCP",
        "colab": {
          "base_uri": "https://localhost:8080/",
          "height": 711
        },
        "outputId": "2e51faa1-bc69-488e-a821-bf5b681c22e7"
      },
      "execution_count": 5,
      "outputs": [
        {
          "output_type": "execute_result",
          "data": {
            "text/plain": [
              "Unnamed: 0                              0\n",
              "Crash ID                              110\n",
              "Crash Date                            109\n",
              "Crash Severity                        117\n",
              "Crash Time                              0\n",
              "Day of Week                           112\n",
              "Nearest Trauma Center Distance        110\n",
              "Time Arrived                           93\n",
              "Time Notified                         112\n",
              "Time Roadway Cleared                    0\n",
              "Weather Condition                       0\n",
              "Autonomous Level Engaged              103\n",
              "Autonomous Unit - Reported            102\n",
              "Vehicle Damage Rating 1 - Severity    107\n",
              "Vehicle Model Year                    103\n",
              "Person Age                            119\n",
              "Person Alcohol Result                  91\n",
              "Person Drug Test Result               127\n",
              "Person Ethnicity                        0\n",
              "Person Gender                         108\n",
              "dtype: int64"
            ],
            "text/html": [
              "<div>\n",
              "<style scoped>\n",
              "    .dataframe tbody tr th:only-of-type {\n",
              "        vertical-align: middle;\n",
              "    }\n",
              "\n",
              "    .dataframe tbody tr th {\n",
              "        vertical-align: top;\n",
              "    }\n",
              "\n",
              "    .dataframe thead th {\n",
              "        text-align: right;\n",
              "    }\n",
              "</style>\n",
              "<table border=\"1\" class=\"dataframe\">\n",
              "  <thead>\n",
              "    <tr style=\"text-align: right;\">\n",
              "      <th></th>\n",
              "      <th>0</th>\n",
              "    </tr>\n",
              "  </thead>\n",
              "  <tbody>\n",
              "    <tr>\n",
              "      <th>Unnamed: 0</th>\n",
              "      <td>0</td>\n",
              "    </tr>\n",
              "    <tr>\n",
              "      <th>Crash ID</th>\n",
              "      <td>110</td>\n",
              "    </tr>\n",
              "    <tr>\n",
              "      <th>Crash Date</th>\n",
              "      <td>109</td>\n",
              "    </tr>\n",
              "    <tr>\n",
              "      <th>Crash Severity</th>\n",
              "      <td>117</td>\n",
              "    </tr>\n",
              "    <tr>\n",
              "      <th>Crash Time</th>\n",
              "      <td>0</td>\n",
              "    </tr>\n",
              "    <tr>\n",
              "      <th>Day of Week</th>\n",
              "      <td>112</td>\n",
              "    </tr>\n",
              "    <tr>\n",
              "      <th>Nearest Trauma Center Distance</th>\n",
              "      <td>110</td>\n",
              "    </tr>\n",
              "    <tr>\n",
              "      <th>Time Arrived</th>\n",
              "      <td>93</td>\n",
              "    </tr>\n",
              "    <tr>\n",
              "      <th>Time Notified</th>\n",
              "      <td>112</td>\n",
              "    </tr>\n",
              "    <tr>\n",
              "      <th>Time Roadway Cleared</th>\n",
              "      <td>0</td>\n",
              "    </tr>\n",
              "    <tr>\n",
              "      <th>Weather Condition</th>\n",
              "      <td>0</td>\n",
              "    </tr>\n",
              "    <tr>\n",
              "      <th>Autonomous Level Engaged</th>\n",
              "      <td>103</td>\n",
              "    </tr>\n",
              "    <tr>\n",
              "      <th>Autonomous Unit - Reported</th>\n",
              "      <td>102</td>\n",
              "    </tr>\n",
              "    <tr>\n",
              "      <th>Vehicle Damage Rating 1 - Severity</th>\n",
              "      <td>107</td>\n",
              "    </tr>\n",
              "    <tr>\n",
              "      <th>Vehicle Model Year</th>\n",
              "      <td>103</td>\n",
              "    </tr>\n",
              "    <tr>\n",
              "      <th>Person Age</th>\n",
              "      <td>119</td>\n",
              "    </tr>\n",
              "    <tr>\n",
              "      <th>Person Alcohol Result</th>\n",
              "      <td>91</td>\n",
              "    </tr>\n",
              "    <tr>\n",
              "      <th>Person Drug Test Result</th>\n",
              "      <td>127</td>\n",
              "    </tr>\n",
              "    <tr>\n",
              "      <th>Person Ethnicity</th>\n",
              "      <td>0</td>\n",
              "    </tr>\n",
              "    <tr>\n",
              "      <th>Person Gender</th>\n",
              "      <td>108</td>\n",
              "    </tr>\n",
              "  </tbody>\n",
              "</table>\n",
              "</div><br><label><b>dtype:</b> int64</label>"
            ]
          },
          "metadata": {},
          "execution_count": 5
        }
      ]
    },
    {
      "cell_type": "code",
      "source": [
        "# Filtering the rows where 'Crash ID' is missing\n",
        "missing_crash_id = df_train[df_train['Crash ID'].isnull()]\n",
        "\n",
        "print(missing_crash_id)"
      ],
      "metadata": {
        "id": "ZqyHaRMY1s_N",
        "colab": {
          "base_uri": "https://localhost:8080/"
        },
        "outputId": "0b12b6fc-e03f-41d8-a008-513ffdb281e3"
      },
      "execution_count": 6,
      "outputs": [
        {
          "output_type": "stream",
          "name": "stdout",
          "text": [
            "      Unnamed: 0  Crash ID Crash Date              Crash Severity Crash Time  \\\n",
            "0              0       NaN   5/1/2023             N - NOT INJURED      16:04   \n",
            "67            67       NaN   5/5/2023             N - NOT INJURED      16:30   \n",
            "168          168       NaN  5/11/2023             N - NOT INJURED      16:43   \n",
            "241          241       NaN  5/13/2023  B - SUSPECTED MINOR INJURY      01:55   \n",
            "369          369       NaN  5/19/2023             N - NOT INJURED      15:53   \n",
            "...          ...       ...        ...                         ...        ...   \n",
            "5167        5167       NaN  2/15/2024             N - NOT INJURED      06:40   \n",
            "5213        5213       NaN  2/19/2024             N - NOT INJURED      11:36   \n",
            "5243        5243       NaN  2/21/2024  B - SUSPECTED MINOR INJURY      07:35   \n",
            "5322        5322       NaN  2/26/2024             N - NOT INJURED      08:40   \n",
            "5344        5344       NaN  2/27/2024             N - NOT INJURED      16:55   \n",
            "\n",
            "     Day of Week Nearest Trauma Center Distance Time Arrived Time Notified  \\\n",
            "0            NaN                        No Data      No Data       No Data   \n",
            "67        FRIDAY                        No Data      No Data       No Data   \n",
            "168     THURSDAY                        No Data      No Data       No Data   \n",
            "241     SATURDAY                        No Data      No Data       No Data   \n",
            "369       FRIDAY                        No Data      No Data       No Data   \n",
            "...          ...                            ...          ...           ...   \n",
            "5167    THURSDAY                          2.498        06:53         06:46   \n",
            "5213      MONDAY                          5.104        12:26         12:20   \n",
            "5243   WEDNESDAY                          5.205        07:40         07:38   \n",
            "5322      MONDAY                          6.744        08:51         08:42   \n",
            "5344     TUESDAY                          2.491        17:00         16:56   \n",
            "\n",
            "     Time Roadway Cleared Weather Condition Autonomous Level Engaged  \\\n",
            "0                   16:26         1 - CLEAR        0 - NO AUTOMATION   \n",
            "67                  16:40         1 - CLEAR             99 - UNKNOWN   \n",
            "168                 16:43         1 - CLEAR        0 - NO AUTOMATION   \n",
            "241                 03:03          3 - RAIN             99 - UNKNOWN   \n",
            "369                 15:53         1 - CLEAR        0 - NO AUTOMATION   \n",
            "...                   ...               ...                      ...   \n",
            "5167                07:58        2 - CLOUDY             99 - UNKNOWN   \n",
            "5213                14:30         1 - CLEAR        0 - NO AUTOMATION   \n",
            "5243                08:31         1 - CLEAR        0 - NO AUTOMATION   \n",
            "5322                09:30         1 - CLEAR        0 - NO AUTOMATION   \n",
            "5344                17:01         1 - CLEAR        0 - NO AUTOMATION   \n",
            "\n",
            "     Autonomous Unit - Reported Vehicle Damage Rating 1 - Severity  \\\n",
            "0                        2 - NO                      3 - DAMAGED 3   \n",
            "67                 99 - UNKNOWN                            No Data   \n",
            "168                      2 - NO              1 - DAMAGED 1 MINIMUM   \n",
            "241                99 - UNKNOWN                      5 - DAMAGED 5   \n",
            "369                      2 - NO                            No Data   \n",
            "...                         ...                                ...   \n",
            "5167               99 - UNKNOWN                      2 - DAMAGED 2   \n",
            "5213                     2 - NO                            No Data   \n",
            "5243                     2 - NO                      3 - DAMAGED 3   \n",
            "5322                     2 - NO                      2 - DAMAGED 2   \n",
            "5344                     2 - NO                      2 - DAMAGED 2   \n",
            "\n",
            "     Vehicle Model Year Person Age Person Alcohol Result  \\\n",
            "0                  2019         19               No Data   \n",
            "67              No Data    No Data               No Data   \n",
            "168                2021         55               No Data   \n",
            "241                2018         23               No Data   \n",
            "369                2022         43               No Data   \n",
            "...                 ...        ...                   ...   \n",
            "5167               2020         27               No Data   \n",
            "5213               2005         45               No Data   \n",
            "5243               2017         14               No Data   \n",
            "5322               2023         18               No Data   \n",
            "5344               2020         50               No Data   \n",
            "\n",
            "     Person Drug Test Result Person Ethnicity Person Gender  \n",
            "0        97 - NOT APPLICABLE     H - HISPANIC      1 - MALE  \n",
            "67       97 - NOT APPLICABLE     99 - UNKNOWN  99 - UNKNOWN  \n",
            "168      97 - NOT APPLICABLE     H - HISPANIC    2 - FEMALE  \n",
            "241      97 - NOT APPLICABLE        W - WHITE      1 - MALE  \n",
            "369      97 - NOT APPLICABLE     H - HISPANIC    2 - FEMALE  \n",
            "...                      ...              ...           ...  \n",
            "5167     97 - NOT APPLICABLE     H - HISPANIC      1 - MALE  \n",
            "5213     97 - NOT APPLICABLE     H - HISPANIC      1 - MALE  \n",
            "5243                 No Data        B - BLACK      1 - MALE  \n",
            "5322     97 - NOT APPLICABLE        W - WHITE    2 - FEMALE  \n",
            "5344     97 - NOT APPLICABLE        W - WHITE    2 - FEMALE  \n",
            "\n",
            "[110 rows x 20 columns]\n"
          ]
        }
      ]
    },
    {
      "cell_type": "code",
      "source": [
        "df_train.info()"
      ],
      "metadata": {
        "id": "BghHpclT1snA",
        "colab": {
          "base_uri": "https://localhost:8080/"
        },
        "outputId": "8a516f1a-2ec9-4fce-e167-e8f054775632"
      },
      "execution_count": 7,
      "outputs": [
        {
          "output_type": "stream",
          "name": "stdout",
          "text": [
            "<class 'pandas.core.frame.DataFrame'>\n",
            "RangeIndex: 5376 entries, 0 to 5375\n",
            "Data columns (total 20 columns):\n",
            " #   Column                              Non-Null Count  Dtype  \n",
            "---  ------                              --------------  -----  \n",
            " 0   Unnamed: 0                          5376 non-null   int64  \n",
            " 1   Crash ID                            5266 non-null   float64\n",
            " 2   Crash Date                          5267 non-null   object \n",
            " 3   Crash Severity                      5259 non-null   object \n",
            " 4   Crash Time                          5376 non-null   object \n",
            " 5   Day of Week                         5264 non-null   object \n",
            " 6   Nearest Trauma Center Distance      5266 non-null   object \n",
            " 7   Time Arrived                        5283 non-null   object \n",
            " 8   Time Notified                       5264 non-null   object \n",
            " 9   Time Roadway Cleared                5376 non-null   object \n",
            " 10  Weather Condition                   5376 non-null   object \n",
            " 11  Autonomous Level Engaged            5273 non-null   object \n",
            " 12  Autonomous Unit - Reported          5274 non-null   object \n",
            " 13  Vehicle Damage Rating 1 - Severity  5269 non-null   object \n",
            " 14  Vehicle Model Year                  5273 non-null   object \n",
            " 15  Person Age                          5257 non-null   object \n",
            " 16  Person Alcohol Result               5285 non-null   object \n",
            " 17  Person Drug Test Result             5249 non-null   object \n",
            " 18  Person Ethnicity                    5376 non-null   object \n",
            " 19  Person Gender                       5268 non-null   object \n",
            "dtypes: float64(1), int64(1), object(18)\n",
            "memory usage: 840.1+ KB\n"
          ]
        }
      ]
    },
    {
      "cell_type": "code",
      "source": [
        "df_train['Crash Severity'].value_counts()"
      ],
      "metadata": {
        "id": "KqvZvzBr1ska",
        "colab": {
          "base_uri": "https://localhost:8080/",
          "height": 303
        },
        "outputId": "63958b0c-1d77-4168-9836-1f99de03453d"
      },
      "execution_count": 8,
      "outputs": [
        {
          "output_type": "execute_result",
          "data": {
            "text/plain": [
              "Crash Severity\n",
              "N - NOT INJURED                 3459\n",
              "B - SUSPECTED MINOR INJURY       796\n",
              "C - POSSIBLE INJURY              733\n",
              "99 - UNKNOWN                     149\n",
              "A - SUSPECTED SERIOUS INJURY     101\n",
              "K - FATAL INJURY                  21\n",
              "Name: count, dtype: int64"
            ],
            "text/html": [
              "<div>\n",
              "<style scoped>\n",
              "    .dataframe tbody tr th:only-of-type {\n",
              "        vertical-align: middle;\n",
              "    }\n",
              "\n",
              "    .dataframe tbody tr th {\n",
              "        vertical-align: top;\n",
              "    }\n",
              "\n",
              "    .dataframe thead th {\n",
              "        text-align: right;\n",
              "    }\n",
              "</style>\n",
              "<table border=\"1\" class=\"dataframe\">\n",
              "  <thead>\n",
              "    <tr style=\"text-align: right;\">\n",
              "      <th></th>\n",
              "      <th>count</th>\n",
              "    </tr>\n",
              "    <tr>\n",
              "      <th>Crash Severity</th>\n",
              "      <th></th>\n",
              "    </tr>\n",
              "  </thead>\n",
              "  <tbody>\n",
              "    <tr>\n",
              "      <th>N - NOT INJURED</th>\n",
              "      <td>3459</td>\n",
              "    </tr>\n",
              "    <tr>\n",
              "      <th>B - SUSPECTED MINOR INJURY</th>\n",
              "      <td>796</td>\n",
              "    </tr>\n",
              "    <tr>\n",
              "      <th>C - POSSIBLE INJURY</th>\n",
              "      <td>733</td>\n",
              "    </tr>\n",
              "    <tr>\n",
              "      <th>99 - UNKNOWN</th>\n",
              "      <td>149</td>\n",
              "    </tr>\n",
              "    <tr>\n",
              "      <th>A - SUSPECTED SERIOUS INJURY</th>\n",
              "      <td>101</td>\n",
              "    </tr>\n",
              "    <tr>\n",
              "      <th>K - FATAL INJURY</th>\n",
              "      <td>21</td>\n",
              "    </tr>\n",
              "  </tbody>\n",
              "</table>\n",
              "</div><br><label><b>dtype:</b> int64</label>"
            ]
          },
          "metadata": {},
          "execution_count": 8
        }
      ]
    },
    {
      "cell_type": "code",
      "source": [
        "mapping = {\n",
        "    'N - NOT INJURED': 0,\n",
        "    'B - SUSPECTED MINOR INJURY': 1,\n",
        "    'C - POSSIBLE INJURY': 2,\n",
        "    'A - SUSPECTED SERIOUS INJURY': 3,\n",
        "    'K - FATAL INJURY': 4\n",
        "}\n",
        "df_train['Crash Severity'].replace('99 - UNKNOWN', pd.NA, inplace=True)\n",
        "\n",
        "df_train['Crash Severity'].isna().sum()"
      ],
      "metadata": {
        "id": "yugd7hzZ1shu",
        "colab": {
          "base_uri": "https://localhost:8080/"
        },
        "outputId": "30b43ad7-ad09-495d-b624-03796b08e38f"
      },
      "execution_count": 9,
      "outputs": [
        {
          "output_type": "execute_result",
          "data": {
            "text/plain": [
              "266"
            ]
          },
          "metadata": {},
          "execution_count": 9
        }
      ]
    },
    {
      "cell_type": "code",
      "source": [
        "# Imputing the missing values with mode (most common severity)\n",
        "most_common = df_train['Crash Severity'].mode()[0]\n",
        "df_train['Crash Severity'].fillna(most_common, inplace=True)"
      ],
      "metadata": {
        "id": "-Vij2Yxn1sfO"
      },
      "execution_count": 10,
      "outputs": []
    },
    {
      "cell_type": "code",
      "source": [
        "df_train['Crash Severity'].isna().sum()"
      ],
      "metadata": {
        "id": "KtzJAXhg1sc9",
        "colab": {
          "base_uri": "https://localhost:8080/"
        },
        "outputId": "6159ad2f-6c45-4afe-c028-639869d3853f"
      },
      "execution_count": 11,
      "outputs": [
        {
          "output_type": "execute_result",
          "data": {
            "text/plain": [
              "0"
            ]
          },
          "metadata": {},
          "execution_count": 11
        }
      ]
    },
    {
      "cell_type": "code",
      "source": [
        "df_train['Crash Severity'] = df_train['Crash Severity'].map(mapping)"
      ],
      "metadata": {
        "id": "O9HkSBXoKBdS"
      },
      "execution_count": 12,
      "outputs": []
    },
    {
      "cell_type": "code",
      "source": [
        "df_train['Crash Severity'].value_counts()"
      ],
      "metadata": {
        "id": "Rdcp8eAl1saJ",
        "colab": {
          "base_uri": "https://localhost:8080/",
          "height": 272
        },
        "outputId": "63c5e1da-fbc0-4a5b-9392-876c10332268"
      },
      "execution_count": 13,
      "outputs": [
        {
          "output_type": "execute_result",
          "data": {
            "text/plain": [
              "Crash Severity\n",
              "0    3725\n",
              "1     796\n",
              "2     733\n",
              "3     101\n",
              "4      21\n",
              "Name: count, dtype: int64"
            ],
            "text/html": [
              "<div>\n",
              "<style scoped>\n",
              "    .dataframe tbody tr th:only-of-type {\n",
              "        vertical-align: middle;\n",
              "    }\n",
              "\n",
              "    .dataframe tbody tr th {\n",
              "        vertical-align: top;\n",
              "    }\n",
              "\n",
              "    .dataframe thead th {\n",
              "        text-align: right;\n",
              "    }\n",
              "</style>\n",
              "<table border=\"1\" class=\"dataframe\">\n",
              "  <thead>\n",
              "    <tr style=\"text-align: right;\">\n",
              "      <th></th>\n",
              "      <th>count</th>\n",
              "    </tr>\n",
              "    <tr>\n",
              "      <th>Crash Severity</th>\n",
              "      <th></th>\n",
              "    </tr>\n",
              "  </thead>\n",
              "  <tbody>\n",
              "    <tr>\n",
              "      <th>0</th>\n",
              "      <td>3725</td>\n",
              "    </tr>\n",
              "    <tr>\n",
              "      <th>1</th>\n",
              "      <td>796</td>\n",
              "    </tr>\n",
              "    <tr>\n",
              "      <th>2</th>\n",
              "      <td>733</td>\n",
              "    </tr>\n",
              "    <tr>\n",
              "      <th>3</th>\n",
              "      <td>101</td>\n",
              "    </tr>\n",
              "    <tr>\n",
              "      <th>4</th>\n",
              "      <td>21</td>\n",
              "    </tr>\n",
              "  </tbody>\n",
              "</table>\n",
              "</div><br><label><b>dtype:</b> int64</label>"
            ]
          },
          "metadata": {},
          "execution_count": 13
        }
      ]
    },
    {
      "cell_type": "code",
      "source": [
        "df_train['Day of Week'].value_counts()"
      ],
      "metadata": {
        "id": "1BD-FPyQNahA",
        "colab": {
          "base_uri": "https://localhost:8080/",
          "height": 334
        },
        "outputId": "64b04fe9-9af2-4b8e-d0d1-c166d0504db6"
      },
      "execution_count": 14,
      "outputs": [
        {
          "output_type": "execute_result",
          "data": {
            "text/plain": [
              "Day of Week\n",
              "FRIDAY       961\n",
              "THURSDAY     833\n",
              "TUESDAY      774\n",
              "MONDAY       765\n",
              "WEDNESDAY    754\n",
              "SATURDAY     617\n",
              "SUNDAY       560\n",
              "Name: count, dtype: int64"
            ],
            "text/html": [
              "<div>\n",
              "<style scoped>\n",
              "    .dataframe tbody tr th:only-of-type {\n",
              "        vertical-align: middle;\n",
              "    }\n",
              "\n",
              "    .dataframe tbody tr th {\n",
              "        vertical-align: top;\n",
              "    }\n",
              "\n",
              "    .dataframe thead th {\n",
              "        text-align: right;\n",
              "    }\n",
              "</style>\n",
              "<table border=\"1\" class=\"dataframe\">\n",
              "  <thead>\n",
              "    <tr style=\"text-align: right;\">\n",
              "      <th></th>\n",
              "      <th>count</th>\n",
              "    </tr>\n",
              "    <tr>\n",
              "      <th>Day of Week</th>\n",
              "      <th></th>\n",
              "    </tr>\n",
              "  </thead>\n",
              "  <tbody>\n",
              "    <tr>\n",
              "      <th>FRIDAY</th>\n",
              "      <td>961</td>\n",
              "    </tr>\n",
              "    <tr>\n",
              "      <th>THURSDAY</th>\n",
              "      <td>833</td>\n",
              "    </tr>\n",
              "    <tr>\n",
              "      <th>TUESDAY</th>\n",
              "      <td>774</td>\n",
              "    </tr>\n",
              "    <tr>\n",
              "      <th>MONDAY</th>\n",
              "      <td>765</td>\n",
              "    </tr>\n",
              "    <tr>\n",
              "      <th>WEDNESDAY</th>\n",
              "      <td>754</td>\n",
              "    </tr>\n",
              "    <tr>\n",
              "      <th>SATURDAY</th>\n",
              "      <td>617</td>\n",
              "    </tr>\n",
              "    <tr>\n",
              "      <th>SUNDAY</th>\n",
              "      <td>560</td>\n",
              "    </tr>\n",
              "  </tbody>\n",
              "</table>\n",
              "</div><br><label><b>dtype:</b> int64</label>"
            ]
          },
          "metadata": {},
          "execution_count": 14
        }
      ]
    },
    {
      "cell_type": "code",
      "source": [
        "#We are replacing null values with FRIDAY since it appears the most number of times.\n",
        "df_train['Day of Week'].fillna('FRIDAY', inplace=True)"
      ],
      "metadata": {
        "id": "Y4zqW3dMLOa8"
      },
      "execution_count": 15,
      "outputs": []
    },
    {
      "cell_type": "code",
      "source": [
        "df_train['Day of Week'].isna().sum()"
      ],
      "metadata": {
        "id": "UsqYtcoPLOXh",
        "colab": {
          "base_uri": "https://localhost:8080/"
        },
        "outputId": "2d8071c8-b0e1-4430-87cf-d32c39f6e232"
      },
      "execution_count": 16,
      "outputs": [
        {
          "output_type": "execute_result",
          "data": {
            "text/plain": [
              "0"
            ]
          },
          "metadata": {},
          "execution_count": 16
        }
      ]
    },
    {
      "cell_type": "code",
      "source": [
        "import numpy as np\n",
        "\n",
        "# Mapping days to numbers (Monday = 0, ..., Sunday = 6)\n",
        "day_mapping = {\n",
        "    'MONDAY': 0, 'TUESDAY': 1, 'WEDNESDAY': 2, 'THURSDAY': 3,\n",
        "    'FRIDAY': 4, 'SATURDAY': 5, 'SUNDAY': 6\n",
        "}\n",
        "\n",
        "# Applying mapping\n",
        "df_train['Day of Week Num'] = df_train['Day of Week'].map(day_mapping)\n",
        "\n",
        "# Applying sine and cosine transformation\n",
        "df_train['Day_Sin'] = np.sin(2 * np.pi * df_train['Day of Week Num'] / 7)\n",
        "df_train['Day_Cos'] = np.cos(2 * np.pi * df_train['Day of Week Num'] / 7)\n",
        "\n",
        "# Dropping the original \"Day of Week\" column\n",
        "df_train.drop(columns=['Day of Week', 'Day of Week Num'], inplace=True)\n"
      ],
      "metadata": {
        "id": "VVkSRfvtLOU_"
      },
      "execution_count": 17,
      "outputs": []
    },
    {
      "cell_type": "markdown",
      "source": [
        "Here I applied sine and cosine transformation because I wanted the model to understand the cyclical nature of the column ***'Day of Week'***"
      ],
      "metadata": {
        "id": "Ge1IcqPng_hL"
      }
    },
    {
      "cell_type": "code",
      "source": [
        "df_train.info()"
      ],
      "metadata": {
        "id": "E8gfL07bLOSk",
        "colab": {
          "base_uri": "https://localhost:8080/"
        },
        "outputId": "51747b71-9371-4307-89d6-31b2a55661ed"
      },
      "execution_count": 18,
      "outputs": [
        {
          "output_type": "stream",
          "name": "stdout",
          "text": [
            "<class 'pandas.core.frame.DataFrame'>\n",
            "RangeIndex: 5376 entries, 0 to 5375\n",
            "Data columns (total 21 columns):\n",
            " #   Column                              Non-Null Count  Dtype  \n",
            "---  ------                              --------------  -----  \n",
            " 0   Unnamed: 0                          5376 non-null   int64  \n",
            " 1   Crash ID                            5266 non-null   float64\n",
            " 2   Crash Date                          5267 non-null   object \n",
            " 3   Crash Severity                      5376 non-null   int64  \n",
            " 4   Crash Time                          5376 non-null   object \n",
            " 5   Nearest Trauma Center Distance      5266 non-null   object \n",
            " 6   Time Arrived                        5283 non-null   object \n",
            " 7   Time Notified                       5264 non-null   object \n",
            " 8   Time Roadway Cleared                5376 non-null   object \n",
            " 9   Weather Condition                   5376 non-null   object \n",
            " 10  Autonomous Level Engaged            5273 non-null   object \n",
            " 11  Autonomous Unit - Reported          5274 non-null   object \n",
            " 12  Vehicle Damage Rating 1 - Severity  5269 non-null   object \n",
            " 13  Vehicle Model Year                  5273 non-null   object \n",
            " 14  Person Age                          5257 non-null   object \n",
            " 15  Person Alcohol Result               5285 non-null   object \n",
            " 16  Person Drug Test Result             5249 non-null   object \n",
            " 17  Person Ethnicity                    5376 non-null   object \n",
            " 18  Person Gender                       5268 non-null   object \n",
            " 19  Day_Sin                             5376 non-null   float64\n",
            " 20  Day_Cos                             5376 non-null   float64\n",
            "dtypes: float64(3), int64(2), object(16)\n",
            "memory usage: 882.1+ KB\n"
          ]
        }
      ]
    },
    {
      "cell_type": "code",
      "source": [
        "df_train['Nearest Trauma Center Distance'].isna().sum()"
      ],
      "metadata": {
        "id": "MW5K-qLCLOQL",
        "colab": {
          "base_uri": "https://localhost:8080/"
        },
        "outputId": "2a58003b-b47e-40cc-ded5-fda545a10c63"
      },
      "execution_count": 19,
      "outputs": [
        {
          "output_type": "execute_result",
          "data": {
            "text/plain": [
              "110"
            ]
          },
          "metadata": {},
          "execution_count": 19
        }
      ]
    },
    {
      "cell_type": "code",
      "source": [
        "df_train['Nearest Trauma Center Distance'].value_counts()"
      ],
      "metadata": {
        "id": "DTXNTzUjLOK3",
        "colab": {
          "base_uri": "https://localhost:8080/",
          "height": 489
        },
        "outputId": "da148a61-8266-46cd-c549-045f83325080"
      },
      "execution_count": 20,
      "outputs": [
        {
          "output_type": "execute_result",
          "data": {
            "text/plain": [
              "Nearest Trauma Center Distance\n",
              "No Data    4538\n",
              "5.916        19\n",
              "2.491        12\n",
              "4.489        11\n",
              "4.354        10\n",
              "           ... \n",
              "4.62          1\n",
              "0.988         1\n",
              "1.354         1\n",
              "5.685         1\n",
              "7.712         1\n",
              "Name: count, Length: 272, dtype: int64"
            ],
            "text/html": [
              "<div>\n",
              "<style scoped>\n",
              "    .dataframe tbody tr th:only-of-type {\n",
              "        vertical-align: middle;\n",
              "    }\n",
              "\n",
              "    .dataframe tbody tr th {\n",
              "        vertical-align: top;\n",
              "    }\n",
              "\n",
              "    .dataframe thead th {\n",
              "        text-align: right;\n",
              "    }\n",
              "</style>\n",
              "<table border=\"1\" class=\"dataframe\">\n",
              "  <thead>\n",
              "    <tr style=\"text-align: right;\">\n",
              "      <th></th>\n",
              "      <th>count</th>\n",
              "    </tr>\n",
              "    <tr>\n",
              "      <th>Nearest Trauma Center Distance</th>\n",
              "      <th></th>\n",
              "    </tr>\n",
              "  </thead>\n",
              "  <tbody>\n",
              "    <tr>\n",
              "      <th>No Data</th>\n",
              "      <td>4538</td>\n",
              "    </tr>\n",
              "    <tr>\n",
              "      <th>5.916</th>\n",
              "      <td>19</td>\n",
              "    </tr>\n",
              "    <tr>\n",
              "      <th>2.491</th>\n",
              "      <td>12</td>\n",
              "    </tr>\n",
              "    <tr>\n",
              "      <th>4.489</th>\n",
              "      <td>11</td>\n",
              "    </tr>\n",
              "    <tr>\n",
              "      <th>4.354</th>\n",
              "      <td>10</td>\n",
              "    </tr>\n",
              "    <tr>\n",
              "      <th>...</th>\n",
              "      <td>...</td>\n",
              "    </tr>\n",
              "    <tr>\n",
              "      <th>4.62</th>\n",
              "      <td>1</td>\n",
              "    </tr>\n",
              "    <tr>\n",
              "      <th>0.988</th>\n",
              "      <td>1</td>\n",
              "    </tr>\n",
              "    <tr>\n",
              "      <th>1.354</th>\n",
              "      <td>1</td>\n",
              "    </tr>\n",
              "    <tr>\n",
              "      <th>5.685</th>\n",
              "      <td>1</td>\n",
              "    </tr>\n",
              "    <tr>\n",
              "      <th>7.712</th>\n",
              "      <td>1</td>\n",
              "    </tr>\n",
              "  </tbody>\n",
              "</table>\n",
              "<p>272 rows × 1 columns</p>\n",
              "</div><br><label><b>dtype:</b> int64</label>"
            ]
          },
          "metadata": {},
          "execution_count": 20
        }
      ]
    },
    {
      "cell_type": "code",
      "source": [
        "print((df_train['Nearest Trauma Center Distance'] == 'No Data').sum()/len(df_train)*100)"
      ],
      "metadata": {
        "id": "Mre9DCCxLOIM",
        "colab": {
          "base_uri": "https://localhost:8080/"
        },
        "outputId": "337dd23d-cac4-4f01-910a-068b75de2d61"
      },
      "execution_count": 21,
      "outputs": [
        {
          "output_type": "stream",
          "name": "stdout",
          "text": [
            "84.41220238095238\n"
          ]
        }
      ]
    },
    {
      "cell_type": "markdown",
      "source": [
        "We'll drop the Nearest Trauma Center Distance column since it has almost 84% 'No Data' values."
      ],
      "metadata": {
        "id": "q29OJ27NPDSw"
      }
    },
    {
      "cell_type": "code",
      "source": [
        "df_train['Time Arrived'].value_counts()"
      ],
      "metadata": {
        "id": "b2SVw3E0LOFm",
        "colab": {
          "base_uri": "https://localhost:8080/",
          "height": 489
        },
        "outputId": "e15f5030-5d54-47d1-ec6f-a20f91dc5ea8"
      },
      "execution_count": 22,
      "outputs": [
        {
          "output_type": "execute_result",
          "data": {
            "text/plain": [
              "Time Arrived\n",
              "No Data    4451\n",
              "16:20        11\n",
              "15:50        10\n",
              "13:13        10\n",
              "13:39        10\n",
              "           ... \n",
              "23:40         1\n",
              "00:01         1\n",
              "11:32         1\n",
              "11:09         1\n",
              "18:26         1\n",
              "Name: count, Length: 327, dtype: int64"
            ],
            "text/html": [
              "<div>\n",
              "<style scoped>\n",
              "    .dataframe tbody tr th:only-of-type {\n",
              "        vertical-align: middle;\n",
              "    }\n",
              "\n",
              "    .dataframe tbody tr th {\n",
              "        vertical-align: top;\n",
              "    }\n",
              "\n",
              "    .dataframe thead th {\n",
              "        text-align: right;\n",
              "    }\n",
              "</style>\n",
              "<table border=\"1\" class=\"dataframe\">\n",
              "  <thead>\n",
              "    <tr style=\"text-align: right;\">\n",
              "      <th></th>\n",
              "      <th>count</th>\n",
              "    </tr>\n",
              "    <tr>\n",
              "      <th>Time Arrived</th>\n",
              "      <th></th>\n",
              "    </tr>\n",
              "  </thead>\n",
              "  <tbody>\n",
              "    <tr>\n",
              "      <th>No Data</th>\n",
              "      <td>4451</td>\n",
              "    </tr>\n",
              "    <tr>\n",
              "      <th>16:20</th>\n",
              "      <td>11</td>\n",
              "    </tr>\n",
              "    <tr>\n",
              "      <th>15:50</th>\n",
              "      <td>10</td>\n",
              "    </tr>\n",
              "    <tr>\n",
              "      <th>13:13</th>\n",
              "      <td>10</td>\n",
              "    </tr>\n",
              "    <tr>\n",
              "      <th>13:39</th>\n",
              "      <td>10</td>\n",
              "    </tr>\n",
              "    <tr>\n",
              "      <th>...</th>\n",
              "      <td>...</td>\n",
              "    </tr>\n",
              "    <tr>\n",
              "      <th>23:40</th>\n",
              "      <td>1</td>\n",
              "    </tr>\n",
              "    <tr>\n",
              "      <th>00:01</th>\n",
              "      <td>1</td>\n",
              "    </tr>\n",
              "    <tr>\n",
              "      <th>11:32</th>\n",
              "      <td>1</td>\n",
              "    </tr>\n",
              "    <tr>\n",
              "      <th>11:09</th>\n",
              "      <td>1</td>\n",
              "    </tr>\n",
              "    <tr>\n",
              "      <th>18:26</th>\n",
              "      <td>1</td>\n",
              "    </tr>\n",
              "  </tbody>\n",
              "</table>\n",
              "<p>327 rows × 1 columns</p>\n",
              "</div><br><label><b>dtype:</b> int64</label>"
            ]
          },
          "metadata": {},
          "execution_count": 22
        }
      ]
    },
    {
      "cell_type": "markdown",
      "source": [
        "We'll also drop the **'Time Arrived'** column since most of it's records contain 'No Data' value."
      ],
      "metadata": {
        "id": "2SWV7uTHQSng"
      }
    },
    {
      "cell_type": "code",
      "source": [
        "df_train['Time Notified'].value_counts()"
      ],
      "metadata": {
        "id": "12q92x1eLODT",
        "colab": {
          "base_uri": "https://localhost:8080/",
          "height": 489
        },
        "outputId": "61064305-7c56-488d-8952-c66c86fcdedc"
      },
      "execution_count": 23,
      "outputs": [
        {
          "output_type": "execute_result",
          "data": {
            "text/plain": [
              "Time Notified\n",
              "No Data    4432\n",
              "16:56        11\n",
              "16:20        10\n",
              "08:59         9\n",
              "13:03         9\n",
              "           ... \n",
              "20:06         1\n",
              "03:20         1\n",
              "08:15         1\n",
              "21:10         1\n",
              "11:58         1\n",
              "Name: count, Length: 321, dtype: int64"
            ],
            "text/html": [
              "<div>\n",
              "<style scoped>\n",
              "    .dataframe tbody tr th:only-of-type {\n",
              "        vertical-align: middle;\n",
              "    }\n",
              "\n",
              "    .dataframe tbody tr th {\n",
              "        vertical-align: top;\n",
              "    }\n",
              "\n",
              "    .dataframe thead th {\n",
              "        text-align: right;\n",
              "    }\n",
              "</style>\n",
              "<table border=\"1\" class=\"dataframe\">\n",
              "  <thead>\n",
              "    <tr style=\"text-align: right;\">\n",
              "      <th></th>\n",
              "      <th>count</th>\n",
              "    </tr>\n",
              "    <tr>\n",
              "      <th>Time Notified</th>\n",
              "      <th></th>\n",
              "    </tr>\n",
              "  </thead>\n",
              "  <tbody>\n",
              "    <tr>\n",
              "      <th>No Data</th>\n",
              "      <td>4432</td>\n",
              "    </tr>\n",
              "    <tr>\n",
              "      <th>16:56</th>\n",
              "      <td>11</td>\n",
              "    </tr>\n",
              "    <tr>\n",
              "      <th>16:20</th>\n",
              "      <td>10</td>\n",
              "    </tr>\n",
              "    <tr>\n",
              "      <th>08:59</th>\n",
              "      <td>9</td>\n",
              "    </tr>\n",
              "    <tr>\n",
              "      <th>13:03</th>\n",
              "      <td>9</td>\n",
              "    </tr>\n",
              "    <tr>\n",
              "      <th>...</th>\n",
              "      <td>...</td>\n",
              "    </tr>\n",
              "    <tr>\n",
              "      <th>20:06</th>\n",
              "      <td>1</td>\n",
              "    </tr>\n",
              "    <tr>\n",
              "      <th>03:20</th>\n",
              "      <td>1</td>\n",
              "    </tr>\n",
              "    <tr>\n",
              "      <th>08:15</th>\n",
              "      <td>1</td>\n",
              "    </tr>\n",
              "    <tr>\n",
              "      <th>21:10</th>\n",
              "      <td>1</td>\n",
              "    </tr>\n",
              "    <tr>\n",
              "      <th>11:58</th>\n",
              "      <td>1</td>\n",
              "    </tr>\n",
              "  </tbody>\n",
              "</table>\n",
              "<p>321 rows × 1 columns</p>\n",
              "</div><br><label><b>dtype:</b> int64</label>"
            ]
          },
          "metadata": {},
          "execution_count": 23
        }
      ]
    },
    {
      "cell_type": "code",
      "source": [
        "df_train['Time Notified'].isna().sum()"
      ],
      "metadata": {
        "id": "EaHuzNF7LN5T",
        "colab": {
          "base_uri": "https://localhost:8080/"
        },
        "outputId": "79da597a-8ac8-4b91-f92b-36617862a142"
      },
      "execution_count": 24,
      "outputs": [
        {
          "output_type": "execute_result",
          "data": {
            "text/plain": [
              "112"
            ]
          },
          "metadata": {},
          "execution_count": 24
        }
      ]
    },
    {
      "cell_type": "markdown",
      "source": [
        "We'll drop the 'Time Notified' Column as well."
      ],
      "metadata": {
        "id": "mG2yRzBbRh2O"
      }
    },
    {
      "cell_type": "code",
      "source": [
        "# Converting 'Crash Time' to datetime type\n",
        "df_train['Crash Time'] = pd.to_datetime(df_train['Crash Time'])\n",
        "time_format = pd.to_datetime('00:00:00')\n",
        "df_train['Crash Time'] = (df_train['Crash Time'] - time_format).dt.total_seconds() / 60\n",
        "\n",
        "# Converting 'Time Roadway Cleared' to datetime type\n",
        "df_train['Time Roadway Cleared'] = pd.to_datetime(df_train['Time Roadway Cleared'])\n",
        "time_format = pd.to_datetime('00:00:00')\n",
        "df_train['Time Roadway Cleared'] = (df_train['Time Roadway Cleared'] - time_format).dt.total_seconds() / 60"
      ],
      "metadata": {
        "id": "D1h44o3XLN0R"
      },
      "execution_count": 25,
      "outputs": []
    },
    {
      "cell_type": "code",
      "source": [
        "#Calculating 'y' variable\n",
        "df_train['y'] = df_train['Time Roadway Cleared'] - df_train['Crash Time']"
      ],
      "metadata": {
        "id": "rGoXhYXuLNva"
      },
      "execution_count": 26,
      "outputs": []
    },
    {
      "cell_type": "code",
      "source": [
        "df_train.head()"
      ],
      "metadata": {
        "id": "sqz7otrOLNs1",
        "colab": {
          "base_uri": "https://localhost:8080/",
          "height": 486
        },
        "outputId": "62025e5e-7c89-49f0-84cf-e949ddd84401"
      },
      "execution_count": 27,
      "outputs": [
        {
          "output_type": "execute_result",
          "data": {
            "text/plain": [
              "   Unnamed: 0    Crash ID Crash Date  Crash Severity  Crash Time  \\\n",
              "0           0         NaN   5/1/2023               0       964.0   \n",
              "1           1  19524300.0   5/1/2023               0      1069.0   \n",
              "2           2  19524300.0   5/1/2023               2      1069.0   \n",
              "3           3  19524300.0   5/1/2023               2      1069.0   \n",
              "4           4  19524300.0   5/1/2023               2      1069.0   \n",
              "\n",
              "  Nearest Trauma Center Distance Time Arrived Time Notified  \\\n",
              "0                        No Data      No Data       No Data   \n",
              "1                          5.916        17:59         17:52   \n",
              "2                          5.916        17:59         17:52   \n",
              "3                          5.916          NaN         17:52   \n",
              "4                          5.916        17:59         17:52   \n",
              "\n",
              "   Time Roadway Cleared Weather Condition Autonomous Level Engaged  \\\n",
              "0                 986.0         1 - CLEAR        0 - NO AUTOMATION   \n",
              "1                1148.0         1 - CLEAR        0 - NO AUTOMATION   \n",
              "2                1148.0         1 - CLEAR        0 - NO AUTOMATION   \n",
              "3                1148.0         1 - CLEAR        0 - NO AUTOMATION   \n",
              "4                1148.0         1 - CLEAR        0 - NO AUTOMATION   \n",
              "\n",
              "  Autonomous Unit - Reported Vehicle Damage Rating 1 - Severity  \\\n",
              "0                     2 - NO                      3 - DAMAGED 3   \n",
              "1                     2 - NO                      4 - DAMAGED 4   \n",
              "2                     2 - NO              1 - DAMAGED 1 MINIMUM   \n",
              "3                     2 - NO                      3 - DAMAGED 3   \n",
              "4                     2 - NO                      3 - DAMAGED 3   \n",
              "\n",
              "  Vehicle Model Year Person Age Person Alcohol Result Person Drug Test Result  \\\n",
              "0               2019         19               No Data     97 - NOT APPLICABLE   \n",
              "1               2006         37               No Data     97 - NOT APPLICABLE   \n",
              "2               2008        NaN               No Data     97 - NOT APPLICABLE   \n",
              "3               2018         23               No Data     97 - NOT APPLICABLE   \n",
              "4               2018         24               No Data                 No Data   \n",
              "\n",
              "  Person Ethnicity Person Gender   Day_Sin   Day_Cos     y  \n",
              "0     H - HISPANIC      1 - MALE -0.433884 -0.900969  22.0  \n",
              "1        W - WHITE    2 - FEMALE  0.000000  1.000000  79.0  \n",
              "2        W - WHITE      1 - MALE  0.000000  1.000000  79.0  \n",
              "3        W - WHITE      1 - MALE  0.000000  1.000000  79.0  \n",
              "4        W - WHITE      1 - MALE  0.000000  1.000000  79.0  "
            ],
            "text/html": [
              "\n",
              "  <div id=\"df-2ac645ee-07aa-4e83-8788-b98e36bc10c1\" class=\"colab-df-container\">\n",
              "    <div>\n",
              "<style scoped>\n",
              "    .dataframe tbody tr th:only-of-type {\n",
              "        vertical-align: middle;\n",
              "    }\n",
              "\n",
              "    .dataframe tbody tr th {\n",
              "        vertical-align: top;\n",
              "    }\n",
              "\n",
              "    .dataframe thead th {\n",
              "        text-align: right;\n",
              "    }\n",
              "</style>\n",
              "<table border=\"1\" class=\"dataframe\">\n",
              "  <thead>\n",
              "    <tr style=\"text-align: right;\">\n",
              "      <th></th>\n",
              "      <th>Unnamed: 0</th>\n",
              "      <th>Crash ID</th>\n",
              "      <th>Crash Date</th>\n",
              "      <th>Crash Severity</th>\n",
              "      <th>Crash Time</th>\n",
              "      <th>Nearest Trauma Center Distance</th>\n",
              "      <th>Time Arrived</th>\n",
              "      <th>Time Notified</th>\n",
              "      <th>Time Roadway Cleared</th>\n",
              "      <th>Weather Condition</th>\n",
              "      <th>Autonomous Level Engaged</th>\n",
              "      <th>Autonomous Unit - Reported</th>\n",
              "      <th>Vehicle Damage Rating 1 - Severity</th>\n",
              "      <th>Vehicle Model Year</th>\n",
              "      <th>Person Age</th>\n",
              "      <th>Person Alcohol Result</th>\n",
              "      <th>Person Drug Test Result</th>\n",
              "      <th>Person Ethnicity</th>\n",
              "      <th>Person Gender</th>\n",
              "      <th>Day_Sin</th>\n",
              "      <th>Day_Cos</th>\n",
              "      <th>y</th>\n",
              "    </tr>\n",
              "  </thead>\n",
              "  <tbody>\n",
              "    <tr>\n",
              "      <th>0</th>\n",
              "      <td>0</td>\n",
              "      <td>NaN</td>\n",
              "      <td>5/1/2023</td>\n",
              "      <td>0</td>\n",
              "      <td>964.0</td>\n",
              "      <td>No Data</td>\n",
              "      <td>No Data</td>\n",
              "      <td>No Data</td>\n",
              "      <td>986.0</td>\n",
              "      <td>1 - CLEAR</td>\n",
              "      <td>0 - NO AUTOMATION</td>\n",
              "      <td>2 - NO</td>\n",
              "      <td>3 - DAMAGED 3</td>\n",
              "      <td>2019</td>\n",
              "      <td>19</td>\n",
              "      <td>No Data</td>\n",
              "      <td>97 - NOT APPLICABLE</td>\n",
              "      <td>H - HISPANIC</td>\n",
              "      <td>1 - MALE</td>\n",
              "      <td>-0.433884</td>\n",
              "      <td>-0.900969</td>\n",
              "      <td>22.0</td>\n",
              "    </tr>\n",
              "    <tr>\n",
              "      <th>1</th>\n",
              "      <td>1</td>\n",
              "      <td>19524300.0</td>\n",
              "      <td>5/1/2023</td>\n",
              "      <td>0</td>\n",
              "      <td>1069.0</td>\n",
              "      <td>5.916</td>\n",
              "      <td>17:59</td>\n",
              "      <td>17:52</td>\n",
              "      <td>1148.0</td>\n",
              "      <td>1 - CLEAR</td>\n",
              "      <td>0 - NO AUTOMATION</td>\n",
              "      <td>2 - NO</td>\n",
              "      <td>4 - DAMAGED 4</td>\n",
              "      <td>2006</td>\n",
              "      <td>37</td>\n",
              "      <td>No Data</td>\n",
              "      <td>97 - NOT APPLICABLE</td>\n",
              "      <td>W - WHITE</td>\n",
              "      <td>2 - FEMALE</td>\n",
              "      <td>0.000000</td>\n",
              "      <td>1.000000</td>\n",
              "      <td>79.0</td>\n",
              "    </tr>\n",
              "    <tr>\n",
              "      <th>2</th>\n",
              "      <td>2</td>\n",
              "      <td>19524300.0</td>\n",
              "      <td>5/1/2023</td>\n",
              "      <td>2</td>\n",
              "      <td>1069.0</td>\n",
              "      <td>5.916</td>\n",
              "      <td>17:59</td>\n",
              "      <td>17:52</td>\n",
              "      <td>1148.0</td>\n",
              "      <td>1 - CLEAR</td>\n",
              "      <td>0 - NO AUTOMATION</td>\n",
              "      <td>2 - NO</td>\n",
              "      <td>1 - DAMAGED 1 MINIMUM</td>\n",
              "      <td>2008</td>\n",
              "      <td>NaN</td>\n",
              "      <td>No Data</td>\n",
              "      <td>97 - NOT APPLICABLE</td>\n",
              "      <td>W - WHITE</td>\n",
              "      <td>1 - MALE</td>\n",
              "      <td>0.000000</td>\n",
              "      <td>1.000000</td>\n",
              "      <td>79.0</td>\n",
              "    </tr>\n",
              "    <tr>\n",
              "      <th>3</th>\n",
              "      <td>3</td>\n",
              "      <td>19524300.0</td>\n",
              "      <td>5/1/2023</td>\n",
              "      <td>2</td>\n",
              "      <td>1069.0</td>\n",
              "      <td>5.916</td>\n",
              "      <td>NaN</td>\n",
              "      <td>17:52</td>\n",
              "      <td>1148.0</td>\n",
              "      <td>1 - CLEAR</td>\n",
              "      <td>0 - NO AUTOMATION</td>\n",
              "      <td>2 - NO</td>\n",
              "      <td>3 - DAMAGED 3</td>\n",
              "      <td>2018</td>\n",
              "      <td>23</td>\n",
              "      <td>No Data</td>\n",
              "      <td>97 - NOT APPLICABLE</td>\n",
              "      <td>W - WHITE</td>\n",
              "      <td>1 - MALE</td>\n",
              "      <td>0.000000</td>\n",
              "      <td>1.000000</td>\n",
              "      <td>79.0</td>\n",
              "    </tr>\n",
              "    <tr>\n",
              "      <th>4</th>\n",
              "      <td>4</td>\n",
              "      <td>19524300.0</td>\n",
              "      <td>5/1/2023</td>\n",
              "      <td>2</td>\n",
              "      <td>1069.0</td>\n",
              "      <td>5.916</td>\n",
              "      <td>17:59</td>\n",
              "      <td>17:52</td>\n",
              "      <td>1148.0</td>\n",
              "      <td>1 - CLEAR</td>\n",
              "      <td>0 - NO AUTOMATION</td>\n",
              "      <td>2 - NO</td>\n",
              "      <td>3 - DAMAGED 3</td>\n",
              "      <td>2018</td>\n",
              "      <td>24</td>\n",
              "      <td>No Data</td>\n",
              "      <td>No Data</td>\n",
              "      <td>W - WHITE</td>\n",
              "      <td>1 - MALE</td>\n",
              "      <td>0.000000</td>\n",
              "      <td>1.000000</td>\n",
              "      <td>79.0</td>\n",
              "    </tr>\n",
              "  </tbody>\n",
              "</table>\n",
              "</div>\n",
              "    <div class=\"colab-df-buttons\">\n",
              "\n",
              "  <div class=\"colab-df-container\">\n",
              "    <button class=\"colab-df-convert\" onclick=\"convertToInteractive('df-2ac645ee-07aa-4e83-8788-b98e36bc10c1')\"\n",
              "            title=\"Convert this dataframe to an interactive table.\"\n",
              "            style=\"display:none;\">\n",
              "\n",
              "  <svg xmlns=\"http://www.w3.org/2000/svg\" height=\"24px\" viewBox=\"0 -960 960 960\">\n",
              "    <path d=\"M120-120v-720h720v720H120Zm60-500h600v-160H180v160Zm220 220h160v-160H400v160Zm0 220h160v-160H400v160ZM180-400h160v-160H180v160Zm440 0h160v-160H620v160ZM180-180h160v-160H180v160Zm440 0h160v-160H620v160Z\"/>\n",
              "  </svg>\n",
              "    </button>\n",
              "\n",
              "  <style>\n",
              "    .colab-df-container {\n",
              "      display:flex;\n",
              "      gap: 12px;\n",
              "    }\n",
              "\n",
              "    .colab-df-convert {\n",
              "      background-color: #E8F0FE;\n",
              "      border: none;\n",
              "      border-radius: 50%;\n",
              "      cursor: pointer;\n",
              "      display: none;\n",
              "      fill: #1967D2;\n",
              "      height: 32px;\n",
              "      padding: 0 0 0 0;\n",
              "      width: 32px;\n",
              "    }\n",
              "\n",
              "    .colab-df-convert:hover {\n",
              "      background-color: #E2EBFA;\n",
              "      box-shadow: 0px 1px 2px rgba(60, 64, 67, 0.3), 0px 1px 3px 1px rgba(60, 64, 67, 0.15);\n",
              "      fill: #174EA6;\n",
              "    }\n",
              "\n",
              "    .colab-df-buttons div {\n",
              "      margin-bottom: 4px;\n",
              "    }\n",
              "\n",
              "    [theme=dark] .colab-df-convert {\n",
              "      background-color: #3B4455;\n",
              "      fill: #D2E3FC;\n",
              "    }\n",
              "\n",
              "    [theme=dark] .colab-df-convert:hover {\n",
              "      background-color: #434B5C;\n",
              "      box-shadow: 0px 1px 3px 1px rgba(0, 0, 0, 0.15);\n",
              "      filter: drop-shadow(0px 1px 2px rgba(0, 0, 0, 0.3));\n",
              "      fill: #FFFFFF;\n",
              "    }\n",
              "  </style>\n",
              "\n",
              "    <script>\n",
              "      const buttonEl =\n",
              "        document.querySelector('#df-2ac645ee-07aa-4e83-8788-b98e36bc10c1 button.colab-df-convert');\n",
              "      buttonEl.style.display =\n",
              "        google.colab.kernel.accessAllowed ? 'block' : 'none';\n",
              "\n",
              "      async function convertToInteractive(key) {\n",
              "        const element = document.querySelector('#df-2ac645ee-07aa-4e83-8788-b98e36bc10c1');\n",
              "        const dataTable =\n",
              "          await google.colab.kernel.invokeFunction('convertToInteractive',\n",
              "                                                    [key], {});\n",
              "        if (!dataTable) return;\n",
              "\n",
              "        const docLinkHtml = 'Like what you see? Visit the ' +\n",
              "          '<a target=\"_blank\" href=https://colab.research.google.com/notebooks/data_table.ipynb>data table notebook</a>'\n",
              "          + ' to learn more about interactive tables.';\n",
              "        element.innerHTML = '';\n",
              "        dataTable['output_type'] = 'display_data';\n",
              "        await google.colab.output.renderOutput(dataTable, element);\n",
              "        const docLink = document.createElement('div');\n",
              "        docLink.innerHTML = docLinkHtml;\n",
              "        element.appendChild(docLink);\n",
              "      }\n",
              "    </script>\n",
              "  </div>\n",
              "\n",
              "\n",
              "<div id=\"df-f5994ee8-a429-4fdb-b30c-6e1c634752fa\">\n",
              "  <button class=\"colab-df-quickchart\" onclick=\"quickchart('df-f5994ee8-a429-4fdb-b30c-6e1c634752fa')\"\n",
              "            title=\"Suggest charts\"\n",
              "            style=\"display:none;\">\n",
              "\n",
              "<svg xmlns=\"http://www.w3.org/2000/svg\" height=\"24px\"viewBox=\"0 0 24 24\"\n",
              "     width=\"24px\">\n",
              "    <g>\n",
              "        <path d=\"M19 3H5c-1.1 0-2 .9-2 2v14c0 1.1.9 2 2 2h14c1.1 0 2-.9 2-2V5c0-1.1-.9-2-2-2zM9 17H7v-7h2v7zm4 0h-2V7h2v10zm4 0h-2v-4h2v4z\"/>\n",
              "    </g>\n",
              "</svg>\n",
              "  </button>\n",
              "\n",
              "<style>\n",
              "  .colab-df-quickchart {\n",
              "      --bg-color: #E8F0FE;\n",
              "      --fill-color: #1967D2;\n",
              "      --hover-bg-color: #E2EBFA;\n",
              "      --hover-fill-color: #174EA6;\n",
              "      --disabled-fill-color: #AAA;\n",
              "      --disabled-bg-color: #DDD;\n",
              "  }\n",
              "\n",
              "  [theme=dark] .colab-df-quickchart {\n",
              "      --bg-color: #3B4455;\n",
              "      --fill-color: #D2E3FC;\n",
              "      --hover-bg-color: #434B5C;\n",
              "      --hover-fill-color: #FFFFFF;\n",
              "      --disabled-bg-color: #3B4455;\n",
              "      --disabled-fill-color: #666;\n",
              "  }\n",
              "\n",
              "  .colab-df-quickchart {\n",
              "    background-color: var(--bg-color);\n",
              "    border: none;\n",
              "    border-radius: 50%;\n",
              "    cursor: pointer;\n",
              "    display: none;\n",
              "    fill: var(--fill-color);\n",
              "    height: 32px;\n",
              "    padding: 0;\n",
              "    width: 32px;\n",
              "  }\n",
              "\n",
              "  .colab-df-quickchart:hover {\n",
              "    background-color: var(--hover-bg-color);\n",
              "    box-shadow: 0 1px 2px rgba(60, 64, 67, 0.3), 0 1px 3px 1px rgba(60, 64, 67, 0.15);\n",
              "    fill: var(--button-hover-fill-color);\n",
              "  }\n",
              "\n",
              "  .colab-df-quickchart-complete:disabled,\n",
              "  .colab-df-quickchart-complete:disabled:hover {\n",
              "    background-color: var(--disabled-bg-color);\n",
              "    fill: var(--disabled-fill-color);\n",
              "    box-shadow: none;\n",
              "  }\n",
              "\n",
              "  .colab-df-spinner {\n",
              "    border: 2px solid var(--fill-color);\n",
              "    border-color: transparent;\n",
              "    border-bottom-color: var(--fill-color);\n",
              "    animation:\n",
              "      spin 1s steps(1) infinite;\n",
              "  }\n",
              "\n",
              "  @keyframes spin {\n",
              "    0% {\n",
              "      border-color: transparent;\n",
              "      border-bottom-color: var(--fill-color);\n",
              "      border-left-color: var(--fill-color);\n",
              "    }\n",
              "    20% {\n",
              "      border-color: transparent;\n",
              "      border-left-color: var(--fill-color);\n",
              "      border-top-color: var(--fill-color);\n",
              "    }\n",
              "    30% {\n",
              "      border-color: transparent;\n",
              "      border-left-color: var(--fill-color);\n",
              "      border-top-color: var(--fill-color);\n",
              "      border-right-color: var(--fill-color);\n",
              "    }\n",
              "    40% {\n",
              "      border-color: transparent;\n",
              "      border-right-color: var(--fill-color);\n",
              "      border-top-color: var(--fill-color);\n",
              "    }\n",
              "    60% {\n",
              "      border-color: transparent;\n",
              "      border-right-color: var(--fill-color);\n",
              "    }\n",
              "    80% {\n",
              "      border-color: transparent;\n",
              "      border-right-color: var(--fill-color);\n",
              "      border-bottom-color: var(--fill-color);\n",
              "    }\n",
              "    90% {\n",
              "      border-color: transparent;\n",
              "      border-bottom-color: var(--fill-color);\n",
              "    }\n",
              "  }\n",
              "</style>\n",
              "\n",
              "  <script>\n",
              "    async function quickchart(key) {\n",
              "      const quickchartButtonEl =\n",
              "        document.querySelector('#' + key + ' button');\n",
              "      quickchartButtonEl.disabled = true;  // To prevent multiple clicks.\n",
              "      quickchartButtonEl.classList.add('colab-df-spinner');\n",
              "      try {\n",
              "        const charts = await google.colab.kernel.invokeFunction(\n",
              "            'suggestCharts', [key], {});\n",
              "      } catch (error) {\n",
              "        console.error('Error during call to suggestCharts:', error);\n",
              "      }\n",
              "      quickchartButtonEl.classList.remove('colab-df-spinner');\n",
              "      quickchartButtonEl.classList.add('colab-df-quickchart-complete');\n",
              "    }\n",
              "    (() => {\n",
              "      let quickchartButtonEl =\n",
              "        document.querySelector('#df-f5994ee8-a429-4fdb-b30c-6e1c634752fa button');\n",
              "      quickchartButtonEl.style.display =\n",
              "        google.colab.kernel.accessAllowed ? 'block' : 'none';\n",
              "    })();\n",
              "  </script>\n",
              "</div>\n",
              "\n",
              "    </div>\n",
              "  </div>\n"
            ],
            "application/vnd.google.colaboratory.intrinsic+json": {
              "type": "dataframe",
              "variable_name": "df_train"
            }
          },
          "metadata": {},
          "execution_count": 27
        }
      ]
    },
    {
      "cell_type": "code",
      "source": [
        "# Making sure that 'Vehicle Model Year' and 'Person Age' are numeric, coercing errors to NaN\n",
        "df_train['Vehicle Model Year'] = pd.to_numeric(df_train['Vehicle Model Year'], errors='coerce')\n",
        "df_train['Person Age'] = pd.to_numeric(df_train['Person Age'], errors='coerce')"
      ],
      "metadata": {
        "id": "QxhbY5rXYjnV"
      },
      "execution_count": 28,
      "outputs": []
    },
    {
      "cell_type": "code",
      "source": [
        "import pandas as pd\n",
        "\n",
        "# Defining the bin edges for Vehicle Model Year\n",
        "bins = [2000, 2010, 2020, 2025]\n",
        "labels = ['2000-2010', '2011-2020', '2021-present']\n",
        "\n",
        "# Creating a new column for binned vehicle model year\n",
        "df_train['Vehicle Model Year Binned'] = pd.cut(df_train['Vehicle Model Year'], bins=bins, labels=labels, right=False)\n",
        "\n",
        "# Function to get the first mode of a series (for categorical columns)\n",
        "def get_mode(series):\n",
        "    return series.mode()[0] if not series.mode().empty else None\n",
        "\n",
        "# Aggregating the data by 'Crash ID' and using the binned vehicle model year\n",
        "df_aggregated = df_train.groupby('Crash ID').agg({\n",
        "    'Crash Severity': get_mode,  # Mode for categorical features\n",
        "    'Time Roadway Cleared': 'mean',  # Mean for continuous values\n",
        "    'Weather Condition': get_mode,  # Mode for weather condition\n",
        "    'Autonomous Level Engaged': get_mode,  # Mode for autonomous level\n",
        "    'Vehicle Model Year Binned': get_mode,  # Mode for binned vehicle model years\n",
        "    'Person Age': 'mean',  # Mean for age\n",
        "    'Person Gender': get_mode  # Mode for gender\n",
        "}).reset_index()\n",
        "\n",
        "print(df_aggregated.head())\n",
        "\n"
      ],
      "metadata": {
        "id": "TZ3mh8s_LNoB",
        "colab": {
          "base_uri": "https://localhost:8080/"
        },
        "outputId": "01fddd8f-5947-4dd6-f341-47d8ab07ea10"
      },
      "execution_count": 29,
      "outputs": [
        {
          "output_type": "stream",
          "name": "stdout",
          "text": [
            "     Crash ID  Crash Severity  Time Roadway Cleared Weather Condition  \\\n",
            "0  19522283.0               1                 774.0         1 - CLEAR   \n",
            "1  19523532.0               0                 647.0         1 - CLEAR   \n",
            "2  19524300.0               2                1148.0         1 - CLEAR   \n",
            "3  19524604.0               0                 539.0         1 - CLEAR   \n",
            "4  19524612.0               0                 954.0         1 - CLEAR   \n",
            "\n",
            "  Autonomous Level Engaged Vehicle Model Year Binned  Person Age Person Gender  \n",
            "0        0 - NO AUTOMATION                 2011-2020       32.75      1 - MALE  \n",
            "1        0 - NO AUTOMATION                 2011-2020       47.00      1 - MALE  \n",
            "2        0 - NO AUTOMATION                 2011-2020       36.25      1 - MALE  \n",
            "3        0 - NO AUTOMATION                 2011-2020       54.00      1 - MALE  \n",
            "4        0 - NO AUTOMATION                 2011-2020       19.00    2 - FEMALE  \n"
          ]
        }
      ]
    },
    {
      "cell_type": "code",
      "source": [
        "df_train['Vehicle Model Year Binned'].value_counts()"
      ],
      "metadata": {
        "id": "f4vdhgY6LNle",
        "colab": {
          "base_uri": "https://localhost:8080/",
          "height": 209
        },
        "outputId": "e1bd07db-d4e9-409b-8e86-0e7735364ef0"
      },
      "execution_count": 30,
      "outputs": [
        {
          "output_type": "execute_result",
          "data": {
            "text/plain": [
              "Vehicle Model Year Binned\n",
              "2011-2020       2730\n",
              "2021-present    1180\n",
              "2000-2010        954\n",
              "Name: count, dtype: int64"
            ],
            "text/html": [
              "<div>\n",
              "<style scoped>\n",
              "    .dataframe tbody tr th:only-of-type {\n",
              "        vertical-align: middle;\n",
              "    }\n",
              "\n",
              "    .dataframe tbody tr th {\n",
              "        vertical-align: top;\n",
              "    }\n",
              "\n",
              "    .dataframe thead th {\n",
              "        text-align: right;\n",
              "    }\n",
              "</style>\n",
              "<table border=\"1\" class=\"dataframe\">\n",
              "  <thead>\n",
              "    <tr style=\"text-align: right;\">\n",
              "      <th></th>\n",
              "      <th>count</th>\n",
              "    </tr>\n",
              "    <tr>\n",
              "      <th>Vehicle Model Year Binned</th>\n",
              "      <th></th>\n",
              "    </tr>\n",
              "  </thead>\n",
              "  <tbody>\n",
              "    <tr>\n",
              "      <th>2011-2020</th>\n",
              "      <td>2730</td>\n",
              "    </tr>\n",
              "    <tr>\n",
              "      <th>2021-present</th>\n",
              "      <td>1180</td>\n",
              "    </tr>\n",
              "    <tr>\n",
              "      <th>2000-2010</th>\n",
              "      <td>954</td>\n",
              "    </tr>\n",
              "  </tbody>\n",
              "</table>\n",
              "</div><br><label><b>dtype:</b> int64</label>"
            ]
          },
          "metadata": {},
          "execution_count": 30
        }
      ]
    },
    {
      "cell_type": "code",
      "source": [
        "# One-Hot Encoding for 'Vehicle Model Year Binned'\n",
        "df_train = pd.get_dummies(df_train, columns=['Vehicle Model Year Binned'], drop_first=True)\n",
        "\n",
        "print(df_train.head())"
      ],
      "metadata": {
        "id": "a2C2CZcILNjI",
        "colab": {
          "base_uri": "https://localhost:8080/"
        },
        "outputId": "cdb69737-27da-4aa3-f636-a4c03f6d0adc"
      },
      "execution_count": 31,
      "outputs": [
        {
          "output_type": "stream",
          "name": "stdout",
          "text": [
            "   Unnamed: 0    Crash ID Crash Date  Crash Severity  Crash Time  \\\n",
            "0           0         NaN   5/1/2023               0       964.0   \n",
            "1           1  19524300.0   5/1/2023               0      1069.0   \n",
            "2           2  19524300.0   5/1/2023               2      1069.0   \n",
            "3           3  19524300.0   5/1/2023               2      1069.0   \n",
            "4           4  19524300.0   5/1/2023               2      1069.0   \n",
            "\n",
            "  Nearest Trauma Center Distance Time Arrived Time Notified  \\\n",
            "0                        No Data      No Data       No Data   \n",
            "1                          5.916        17:59         17:52   \n",
            "2                          5.916        17:59         17:52   \n",
            "3                          5.916          NaN         17:52   \n",
            "4                          5.916        17:59         17:52   \n",
            "\n",
            "   Time Roadway Cleared Weather Condition Autonomous Level Engaged  \\\n",
            "0                 986.0         1 - CLEAR        0 - NO AUTOMATION   \n",
            "1                1148.0         1 - CLEAR        0 - NO AUTOMATION   \n",
            "2                1148.0         1 - CLEAR        0 - NO AUTOMATION   \n",
            "3                1148.0         1 - CLEAR        0 - NO AUTOMATION   \n",
            "4                1148.0         1 - CLEAR        0 - NO AUTOMATION   \n",
            "\n",
            "  Autonomous Unit - Reported Vehicle Damage Rating 1 - Severity  \\\n",
            "0                     2 - NO                      3 - DAMAGED 3   \n",
            "1                     2 - NO                      4 - DAMAGED 4   \n",
            "2                     2 - NO              1 - DAMAGED 1 MINIMUM   \n",
            "3                     2 - NO                      3 - DAMAGED 3   \n",
            "4                     2 - NO                      3 - DAMAGED 3   \n",
            "\n",
            "   Vehicle Model Year  Person Age Person Alcohol Result  \\\n",
            "0              2019.0        19.0               No Data   \n",
            "1              2006.0        37.0               No Data   \n",
            "2              2008.0         NaN               No Data   \n",
            "3              2018.0        23.0               No Data   \n",
            "4              2018.0        24.0               No Data   \n",
            "\n",
            "  Person Drug Test Result Person Ethnicity Person Gender   Day_Sin   Day_Cos  \\\n",
            "0     97 - NOT APPLICABLE     H - HISPANIC      1 - MALE -0.433884 -0.900969   \n",
            "1     97 - NOT APPLICABLE        W - WHITE    2 - FEMALE  0.000000  1.000000   \n",
            "2     97 - NOT APPLICABLE        W - WHITE      1 - MALE  0.000000  1.000000   \n",
            "3     97 - NOT APPLICABLE        W - WHITE      1 - MALE  0.000000  1.000000   \n",
            "4                 No Data        W - WHITE      1 - MALE  0.000000  1.000000   \n",
            "\n",
            "      y  Vehicle Model Year Binned_2011-2020  \\\n",
            "0  22.0                                 True   \n",
            "1  79.0                                False   \n",
            "2  79.0                                False   \n",
            "3  79.0                                 True   \n",
            "4  79.0                                 True   \n",
            "\n",
            "   Vehicle Model Year Binned_2021-present  \n",
            "0                                   False  \n",
            "1                                   False  \n",
            "2                                   False  \n",
            "3                                   False  \n",
            "4                                   False  \n"
          ]
        }
      ]
    },
    {
      "cell_type": "code",
      "source": [
        "df_train.shape"
      ],
      "metadata": {
        "id": "afUInhV_LNgg",
        "colab": {
          "base_uri": "https://localhost:8080/"
        },
        "outputId": "6a8be763-110b-4c78-adb0-ab85f99d1c31"
      },
      "execution_count": 32,
      "outputs": [
        {
          "output_type": "execute_result",
          "data": {
            "text/plain": [
              "(5376, 24)"
            ]
          },
          "metadata": {},
          "execution_count": 32
        }
      ]
    },
    {
      "cell_type": "code",
      "source": [
        "df_train.info()"
      ],
      "metadata": {
        "id": "yyu7IxBsLNeG",
        "colab": {
          "base_uri": "https://localhost:8080/"
        },
        "outputId": "6427ee6e-72b5-439d-ae37-4cc181572c6a"
      },
      "execution_count": 33,
      "outputs": [
        {
          "output_type": "stream",
          "name": "stdout",
          "text": [
            "<class 'pandas.core.frame.DataFrame'>\n",
            "RangeIndex: 5376 entries, 0 to 5375\n",
            "Data columns (total 24 columns):\n",
            " #   Column                                  Non-Null Count  Dtype  \n",
            "---  ------                                  --------------  -----  \n",
            " 0   Unnamed: 0                              5376 non-null   int64  \n",
            " 1   Crash ID                                5266 non-null   float64\n",
            " 2   Crash Date                              5267 non-null   object \n",
            " 3   Crash Severity                          5376 non-null   int64  \n",
            " 4   Crash Time                              5376 non-null   float64\n",
            " 5   Nearest Trauma Center Distance          5266 non-null   object \n",
            " 6   Time Arrived                            5283 non-null   object \n",
            " 7   Time Notified                           5264 non-null   object \n",
            " 8   Time Roadway Cleared                    5376 non-null   float64\n",
            " 9   Weather Condition                       5376 non-null   object \n",
            " 10  Autonomous Level Engaged                5273 non-null   object \n",
            " 11  Autonomous Unit - Reported              5274 non-null   object \n",
            " 12  Vehicle Damage Rating 1 - Severity      5269 non-null   object \n",
            " 13  Vehicle Model Year                      4955 non-null   float64\n",
            " 14  Person Age                              4923 non-null   float64\n",
            " 15  Person Alcohol Result                   5285 non-null   object \n",
            " 16  Person Drug Test Result                 5249 non-null   object \n",
            " 17  Person Ethnicity                        5376 non-null   object \n",
            " 18  Person Gender                           5268 non-null   object \n",
            " 19  Day_Sin                                 5376 non-null   float64\n",
            " 20  Day_Cos                                 5376 non-null   float64\n",
            " 21  y                                       5376 non-null   float64\n",
            " 22  Vehicle Model Year Binned_2011-2020     5376 non-null   bool   \n",
            " 23  Vehicle Model Year Binned_2021-present  5376 non-null   bool   \n",
            "dtypes: bool(2), float64(8), int64(2), object(12)\n",
            "memory usage: 934.6+ KB\n"
          ]
        }
      ]
    },
    {
      "cell_type": "code",
      "source": [
        "df_train['Weather Condition'].value_counts()"
      ],
      "metadata": {
        "id": "tCu14vEELNbj",
        "colab": {
          "base_uri": "https://localhost:8080/",
          "height": 429
        },
        "outputId": "8208d22e-f751-42ba-93cb-e90e268c0860"
      },
      "execution_count": 34,
      "outputs": [
        {
          "output_type": "execute_result",
          "data": {
            "text/plain": [
              "Weather Condition\n",
              "1 - CLEAR                            4304\n",
              "2 - CLOUDY                            531\n",
              "3 - RAIN                              394\n",
              "Unknown                                49\n",
              "No Data                                46\n",
              "99 - UNKNOWN                           27\n",
              "6 - FOG                                11\n",
              "5 - SNOW                                6\n",
              "4 - SLEET/HAIL                          4\n",
              "98 - OTHER (EXPLAIN IN NARRATIVE)       4\n",
              "Name: count, dtype: int64"
            ],
            "text/html": [
              "<div>\n",
              "<style scoped>\n",
              "    .dataframe tbody tr th:only-of-type {\n",
              "        vertical-align: middle;\n",
              "    }\n",
              "\n",
              "    .dataframe tbody tr th {\n",
              "        vertical-align: top;\n",
              "    }\n",
              "\n",
              "    .dataframe thead th {\n",
              "        text-align: right;\n",
              "    }\n",
              "</style>\n",
              "<table border=\"1\" class=\"dataframe\">\n",
              "  <thead>\n",
              "    <tr style=\"text-align: right;\">\n",
              "      <th></th>\n",
              "      <th>count</th>\n",
              "    </tr>\n",
              "    <tr>\n",
              "      <th>Weather Condition</th>\n",
              "      <th></th>\n",
              "    </tr>\n",
              "  </thead>\n",
              "  <tbody>\n",
              "    <tr>\n",
              "      <th>1 - CLEAR</th>\n",
              "      <td>4304</td>\n",
              "    </tr>\n",
              "    <tr>\n",
              "      <th>2 - CLOUDY</th>\n",
              "      <td>531</td>\n",
              "    </tr>\n",
              "    <tr>\n",
              "      <th>3 - RAIN</th>\n",
              "      <td>394</td>\n",
              "    </tr>\n",
              "    <tr>\n",
              "      <th>Unknown</th>\n",
              "      <td>49</td>\n",
              "    </tr>\n",
              "    <tr>\n",
              "      <th>No Data</th>\n",
              "      <td>46</td>\n",
              "    </tr>\n",
              "    <tr>\n",
              "      <th>99 - UNKNOWN</th>\n",
              "      <td>27</td>\n",
              "    </tr>\n",
              "    <tr>\n",
              "      <th>6 - FOG</th>\n",
              "      <td>11</td>\n",
              "    </tr>\n",
              "    <tr>\n",
              "      <th>5 - SNOW</th>\n",
              "      <td>6</td>\n",
              "    </tr>\n",
              "    <tr>\n",
              "      <th>4 - SLEET/HAIL</th>\n",
              "      <td>4</td>\n",
              "    </tr>\n",
              "    <tr>\n",
              "      <th>98 - OTHER (EXPLAIN IN NARRATIVE)</th>\n",
              "      <td>4</td>\n",
              "    </tr>\n",
              "  </tbody>\n",
              "</table>\n",
              "</div><br><label><b>dtype:</b> int64</label>"
            ]
          },
          "metadata": {},
          "execution_count": 34
        }
      ]
    },
    {
      "cell_type": "code",
      "source": [
        "# Replacing 'Other' and 'No Data' values in 'Weather Condition' with mode\n",
        "mode_weather_condition = df_train['Weather Condition'].mode()[0]\n",
        "\n",
        "# Replacing '98 - OTHER (EXPLAIN IN NARRATIVE)' and 'No Data' with the mode\n",
        "df_train['Weather Condition'].replace(['98 - OTHER (EXPLAIN IN NARRATIVE)', 'No Data'], mode_weather_condition, inplace=True)\n",
        "\n",
        "# Handling 'Unknown' values by replacing them with the mode as well\n",
        "df_train['Weather Condition'].replace('99 - UNKNOWN', mode_weather_condition, inplace=True)\n",
        "\n",
        "# One-hot encoding for the 'Weather Condition' column\n",
        "df_train = pd.get_dummies(df_train, columns=['Weather Condition'], drop_first=True)\n",
        "\n",
        "df_train.head()"
      ],
      "metadata": {
        "id": "tEGfy3KvLNZK",
        "colab": {
          "base_uri": "https://localhost:8080/",
          "height": 486
        },
        "outputId": "0d978b3e-9b22-466a-8271-8a322914e172"
      },
      "execution_count": 35,
      "outputs": [
        {
          "output_type": "execute_result",
          "data": {
            "text/plain": [
              "   Unnamed: 0    Crash ID Crash Date  Crash Severity  Crash Time  \\\n",
              "0           0         NaN   5/1/2023               0       964.0   \n",
              "1           1  19524300.0   5/1/2023               0      1069.0   \n",
              "2           2  19524300.0   5/1/2023               2      1069.0   \n",
              "3           3  19524300.0   5/1/2023               2      1069.0   \n",
              "4           4  19524300.0   5/1/2023               2      1069.0   \n",
              "\n",
              "  Nearest Trauma Center Distance Time Arrived Time Notified  \\\n",
              "0                        No Data      No Data       No Data   \n",
              "1                          5.916        17:59         17:52   \n",
              "2                          5.916        17:59         17:52   \n",
              "3                          5.916          NaN         17:52   \n",
              "4                          5.916        17:59         17:52   \n",
              "\n",
              "   Time Roadway Cleared Autonomous Level Engaged Autonomous Unit - Reported  \\\n",
              "0                 986.0        0 - NO AUTOMATION                     2 - NO   \n",
              "1                1148.0        0 - NO AUTOMATION                     2 - NO   \n",
              "2                1148.0        0 - NO AUTOMATION                     2 - NO   \n",
              "3                1148.0        0 - NO AUTOMATION                     2 - NO   \n",
              "4                1148.0        0 - NO AUTOMATION                     2 - NO   \n",
              "\n",
              "  Vehicle Damage Rating 1 - Severity  Vehicle Model Year  Person Age  \\\n",
              "0                      3 - DAMAGED 3              2019.0        19.0   \n",
              "1                      4 - DAMAGED 4              2006.0        37.0   \n",
              "2              1 - DAMAGED 1 MINIMUM              2008.0         NaN   \n",
              "3                      3 - DAMAGED 3              2018.0        23.0   \n",
              "4                      3 - DAMAGED 3              2018.0        24.0   \n",
              "\n",
              "  Person Alcohol Result Person Drug Test Result Person Ethnicity  \\\n",
              "0               No Data     97 - NOT APPLICABLE     H - HISPANIC   \n",
              "1               No Data     97 - NOT APPLICABLE        W - WHITE   \n",
              "2               No Data     97 - NOT APPLICABLE        W - WHITE   \n",
              "3               No Data     97 - NOT APPLICABLE        W - WHITE   \n",
              "4               No Data                 No Data        W - WHITE   \n",
              "\n",
              "  Person Gender   Day_Sin   Day_Cos     y  \\\n",
              "0      1 - MALE -0.433884 -0.900969  22.0   \n",
              "1    2 - FEMALE  0.000000  1.000000  79.0   \n",
              "2      1 - MALE  0.000000  1.000000  79.0   \n",
              "3      1 - MALE  0.000000  1.000000  79.0   \n",
              "4      1 - MALE  0.000000  1.000000  79.0   \n",
              "\n",
              "   Vehicle Model Year Binned_2011-2020  \\\n",
              "0                                 True   \n",
              "1                                False   \n",
              "2                                False   \n",
              "3                                 True   \n",
              "4                                 True   \n",
              "\n",
              "   Vehicle Model Year Binned_2021-present  Weather Condition_2 - CLOUDY  \\\n",
              "0                                   False                         False   \n",
              "1                                   False                         False   \n",
              "2                                   False                         False   \n",
              "3                                   False                         False   \n",
              "4                                   False                         False   \n",
              "\n",
              "   Weather Condition_3 - RAIN  Weather Condition_4 - SLEET/HAIL  \\\n",
              "0                       False                             False   \n",
              "1                       False                             False   \n",
              "2                       False                             False   \n",
              "3                       False                             False   \n",
              "4                       False                             False   \n",
              "\n",
              "   Weather Condition_5 - SNOW  Weather Condition_6 - FOG  \\\n",
              "0                       False                      False   \n",
              "1                       False                      False   \n",
              "2                       False                      False   \n",
              "3                       False                      False   \n",
              "4                       False                      False   \n",
              "\n",
              "   Weather Condition_Unknown  \n",
              "0                      False  \n",
              "1                      False  \n",
              "2                      False  \n",
              "3                      False  \n",
              "4                      False  "
            ],
            "text/html": [
              "\n",
              "  <div id=\"df-6bc9bba7-e89e-47fd-8c57-90d9c6941021\" class=\"colab-df-container\">\n",
              "    <div>\n",
              "<style scoped>\n",
              "    .dataframe tbody tr th:only-of-type {\n",
              "        vertical-align: middle;\n",
              "    }\n",
              "\n",
              "    .dataframe tbody tr th {\n",
              "        vertical-align: top;\n",
              "    }\n",
              "\n",
              "    .dataframe thead th {\n",
              "        text-align: right;\n",
              "    }\n",
              "</style>\n",
              "<table border=\"1\" class=\"dataframe\">\n",
              "  <thead>\n",
              "    <tr style=\"text-align: right;\">\n",
              "      <th></th>\n",
              "      <th>Unnamed: 0</th>\n",
              "      <th>Crash ID</th>\n",
              "      <th>Crash Date</th>\n",
              "      <th>Crash Severity</th>\n",
              "      <th>Crash Time</th>\n",
              "      <th>Nearest Trauma Center Distance</th>\n",
              "      <th>Time Arrived</th>\n",
              "      <th>Time Notified</th>\n",
              "      <th>Time Roadway Cleared</th>\n",
              "      <th>Autonomous Level Engaged</th>\n",
              "      <th>Autonomous Unit - Reported</th>\n",
              "      <th>Vehicle Damage Rating 1 - Severity</th>\n",
              "      <th>Vehicle Model Year</th>\n",
              "      <th>Person Age</th>\n",
              "      <th>Person Alcohol Result</th>\n",
              "      <th>Person Drug Test Result</th>\n",
              "      <th>Person Ethnicity</th>\n",
              "      <th>Person Gender</th>\n",
              "      <th>Day_Sin</th>\n",
              "      <th>Day_Cos</th>\n",
              "      <th>y</th>\n",
              "      <th>Vehicle Model Year Binned_2011-2020</th>\n",
              "      <th>Vehicle Model Year Binned_2021-present</th>\n",
              "      <th>Weather Condition_2 - CLOUDY</th>\n",
              "      <th>Weather Condition_3 - RAIN</th>\n",
              "      <th>Weather Condition_4 - SLEET/HAIL</th>\n",
              "      <th>Weather Condition_5 - SNOW</th>\n",
              "      <th>Weather Condition_6 - FOG</th>\n",
              "      <th>Weather Condition_Unknown</th>\n",
              "    </tr>\n",
              "  </thead>\n",
              "  <tbody>\n",
              "    <tr>\n",
              "      <th>0</th>\n",
              "      <td>0</td>\n",
              "      <td>NaN</td>\n",
              "      <td>5/1/2023</td>\n",
              "      <td>0</td>\n",
              "      <td>964.0</td>\n",
              "      <td>No Data</td>\n",
              "      <td>No Data</td>\n",
              "      <td>No Data</td>\n",
              "      <td>986.0</td>\n",
              "      <td>0 - NO AUTOMATION</td>\n",
              "      <td>2 - NO</td>\n",
              "      <td>3 - DAMAGED 3</td>\n",
              "      <td>2019.0</td>\n",
              "      <td>19.0</td>\n",
              "      <td>No Data</td>\n",
              "      <td>97 - NOT APPLICABLE</td>\n",
              "      <td>H - HISPANIC</td>\n",
              "      <td>1 - MALE</td>\n",
              "      <td>-0.433884</td>\n",
              "      <td>-0.900969</td>\n",
              "      <td>22.0</td>\n",
              "      <td>True</td>\n",
              "      <td>False</td>\n",
              "      <td>False</td>\n",
              "      <td>False</td>\n",
              "      <td>False</td>\n",
              "      <td>False</td>\n",
              "      <td>False</td>\n",
              "      <td>False</td>\n",
              "    </tr>\n",
              "    <tr>\n",
              "      <th>1</th>\n",
              "      <td>1</td>\n",
              "      <td>19524300.0</td>\n",
              "      <td>5/1/2023</td>\n",
              "      <td>0</td>\n",
              "      <td>1069.0</td>\n",
              "      <td>5.916</td>\n",
              "      <td>17:59</td>\n",
              "      <td>17:52</td>\n",
              "      <td>1148.0</td>\n",
              "      <td>0 - NO AUTOMATION</td>\n",
              "      <td>2 - NO</td>\n",
              "      <td>4 - DAMAGED 4</td>\n",
              "      <td>2006.0</td>\n",
              "      <td>37.0</td>\n",
              "      <td>No Data</td>\n",
              "      <td>97 - NOT APPLICABLE</td>\n",
              "      <td>W - WHITE</td>\n",
              "      <td>2 - FEMALE</td>\n",
              "      <td>0.000000</td>\n",
              "      <td>1.000000</td>\n",
              "      <td>79.0</td>\n",
              "      <td>False</td>\n",
              "      <td>False</td>\n",
              "      <td>False</td>\n",
              "      <td>False</td>\n",
              "      <td>False</td>\n",
              "      <td>False</td>\n",
              "      <td>False</td>\n",
              "      <td>False</td>\n",
              "    </tr>\n",
              "    <tr>\n",
              "      <th>2</th>\n",
              "      <td>2</td>\n",
              "      <td>19524300.0</td>\n",
              "      <td>5/1/2023</td>\n",
              "      <td>2</td>\n",
              "      <td>1069.0</td>\n",
              "      <td>5.916</td>\n",
              "      <td>17:59</td>\n",
              "      <td>17:52</td>\n",
              "      <td>1148.0</td>\n",
              "      <td>0 - NO AUTOMATION</td>\n",
              "      <td>2 - NO</td>\n",
              "      <td>1 - DAMAGED 1 MINIMUM</td>\n",
              "      <td>2008.0</td>\n",
              "      <td>NaN</td>\n",
              "      <td>No Data</td>\n",
              "      <td>97 - NOT APPLICABLE</td>\n",
              "      <td>W - WHITE</td>\n",
              "      <td>1 - MALE</td>\n",
              "      <td>0.000000</td>\n",
              "      <td>1.000000</td>\n",
              "      <td>79.0</td>\n",
              "      <td>False</td>\n",
              "      <td>False</td>\n",
              "      <td>False</td>\n",
              "      <td>False</td>\n",
              "      <td>False</td>\n",
              "      <td>False</td>\n",
              "      <td>False</td>\n",
              "      <td>False</td>\n",
              "    </tr>\n",
              "    <tr>\n",
              "      <th>3</th>\n",
              "      <td>3</td>\n",
              "      <td>19524300.0</td>\n",
              "      <td>5/1/2023</td>\n",
              "      <td>2</td>\n",
              "      <td>1069.0</td>\n",
              "      <td>5.916</td>\n",
              "      <td>NaN</td>\n",
              "      <td>17:52</td>\n",
              "      <td>1148.0</td>\n",
              "      <td>0 - NO AUTOMATION</td>\n",
              "      <td>2 - NO</td>\n",
              "      <td>3 - DAMAGED 3</td>\n",
              "      <td>2018.0</td>\n",
              "      <td>23.0</td>\n",
              "      <td>No Data</td>\n",
              "      <td>97 - NOT APPLICABLE</td>\n",
              "      <td>W - WHITE</td>\n",
              "      <td>1 - MALE</td>\n",
              "      <td>0.000000</td>\n",
              "      <td>1.000000</td>\n",
              "      <td>79.0</td>\n",
              "      <td>True</td>\n",
              "      <td>False</td>\n",
              "      <td>False</td>\n",
              "      <td>False</td>\n",
              "      <td>False</td>\n",
              "      <td>False</td>\n",
              "      <td>False</td>\n",
              "      <td>False</td>\n",
              "    </tr>\n",
              "    <tr>\n",
              "      <th>4</th>\n",
              "      <td>4</td>\n",
              "      <td>19524300.0</td>\n",
              "      <td>5/1/2023</td>\n",
              "      <td>2</td>\n",
              "      <td>1069.0</td>\n",
              "      <td>5.916</td>\n",
              "      <td>17:59</td>\n",
              "      <td>17:52</td>\n",
              "      <td>1148.0</td>\n",
              "      <td>0 - NO AUTOMATION</td>\n",
              "      <td>2 - NO</td>\n",
              "      <td>3 - DAMAGED 3</td>\n",
              "      <td>2018.0</td>\n",
              "      <td>24.0</td>\n",
              "      <td>No Data</td>\n",
              "      <td>No Data</td>\n",
              "      <td>W - WHITE</td>\n",
              "      <td>1 - MALE</td>\n",
              "      <td>0.000000</td>\n",
              "      <td>1.000000</td>\n",
              "      <td>79.0</td>\n",
              "      <td>True</td>\n",
              "      <td>False</td>\n",
              "      <td>False</td>\n",
              "      <td>False</td>\n",
              "      <td>False</td>\n",
              "      <td>False</td>\n",
              "      <td>False</td>\n",
              "      <td>False</td>\n",
              "    </tr>\n",
              "  </tbody>\n",
              "</table>\n",
              "</div>\n",
              "    <div class=\"colab-df-buttons\">\n",
              "\n",
              "  <div class=\"colab-df-container\">\n",
              "    <button class=\"colab-df-convert\" onclick=\"convertToInteractive('df-6bc9bba7-e89e-47fd-8c57-90d9c6941021')\"\n",
              "            title=\"Convert this dataframe to an interactive table.\"\n",
              "            style=\"display:none;\">\n",
              "\n",
              "  <svg xmlns=\"http://www.w3.org/2000/svg\" height=\"24px\" viewBox=\"0 -960 960 960\">\n",
              "    <path d=\"M120-120v-720h720v720H120Zm60-500h600v-160H180v160Zm220 220h160v-160H400v160Zm0 220h160v-160H400v160ZM180-400h160v-160H180v160Zm440 0h160v-160H620v160ZM180-180h160v-160H180v160Zm440 0h160v-160H620v160Z\"/>\n",
              "  </svg>\n",
              "    </button>\n",
              "\n",
              "  <style>\n",
              "    .colab-df-container {\n",
              "      display:flex;\n",
              "      gap: 12px;\n",
              "    }\n",
              "\n",
              "    .colab-df-convert {\n",
              "      background-color: #E8F0FE;\n",
              "      border: none;\n",
              "      border-radius: 50%;\n",
              "      cursor: pointer;\n",
              "      display: none;\n",
              "      fill: #1967D2;\n",
              "      height: 32px;\n",
              "      padding: 0 0 0 0;\n",
              "      width: 32px;\n",
              "    }\n",
              "\n",
              "    .colab-df-convert:hover {\n",
              "      background-color: #E2EBFA;\n",
              "      box-shadow: 0px 1px 2px rgba(60, 64, 67, 0.3), 0px 1px 3px 1px rgba(60, 64, 67, 0.15);\n",
              "      fill: #174EA6;\n",
              "    }\n",
              "\n",
              "    .colab-df-buttons div {\n",
              "      margin-bottom: 4px;\n",
              "    }\n",
              "\n",
              "    [theme=dark] .colab-df-convert {\n",
              "      background-color: #3B4455;\n",
              "      fill: #D2E3FC;\n",
              "    }\n",
              "\n",
              "    [theme=dark] .colab-df-convert:hover {\n",
              "      background-color: #434B5C;\n",
              "      box-shadow: 0px 1px 3px 1px rgba(0, 0, 0, 0.15);\n",
              "      filter: drop-shadow(0px 1px 2px rgba(0, 0, 0, 0.3));\n",
              "      fill: #FFFFFF;\n",
              "    }\n",
              "  </style>\n",
              "\n",
              "    <script>\n",
              "      const buttonEl =\n",
              "        document.querySelector('#df-6bc9bba7-e89e-47fd-8c57-90d9c6941021 button.colab-df-convert');\n",
              "      buttonEl.style.display =\n",
              "        google.colab.kernel.accessAllowed ? 'block' : 'none';\n",
              "\n",
              "      async function convertToInteractive(key) {\n",
              "        const element = document.querySelector('#df-6bc9bba7-e89e-47fd-8c57-90d9c6941021');\n",
              "        const dataTable =\n",
              "          await google.colab.kernel.invokeFunction('convertToInteractive',\n",
              "                                                    [key], {});\n",
              "        if (!dataTable) return;\n",
              "\n",
              "        const docLinkHtml = 'Like what you see? Visit the ' +\n",
              "          '<a target=\"_blank\" href=https://colab.research.google.com/notebooks/data_table.ipynb>data table notebook</a>'\n",
              "          + ' to learn more about interactive tables.';\n",
              "        element.innerHTML = '';\n",
              "        dataTable['output_type'] = 'display_data';\n",
              "        await google.colab.output.renderOutput(dataTable, element);\n",
              "        const docLink = document.createElement('div');\n",
              "        docLink.innerHTML = docLinkHtml;\n",
              "        element.appendChild(docLink);\n",
              "      }\n",
              "    </script>\n",
              "  </div>\n",
              "\n",
              "\n",
              "<div id=\"df-574e8aad-eb09-4fbb-afa8-31e8fb67c301\">\n",
              "  <button class=\"colab-df-quickchart\" onclick=\"quickchart('df-574e8aad-eb09-4fbb-afa8-31e8fb67c301')\"\n",
              "            title=\"Suggest charts\"\n",
              "            style=\"display:none;\">\n",
              "\n",
              "<svg xmlns=\"http://www.w3.org/2000/svg\" height=\"24px\"viewBox=\"0 0 24 24\"\n",
              "     width=\"24px\">\n",
              "    <g>\n",
              "        <path d=\"M19 3H5c-1.1 0-2 .9-2 2v14c0 1.1.9 2 2 2h14c1.1 0 2-.9 2-2V5c0-1.1-.9-2-2-2zM9 17H7v-7h2v7zm4 0h-2V7h2v10zm4 0h-2v-4h2v4z\"/>\n",
              "    </g>\n",
              "</svg>\n",
              "  </button>\n",
              "\n",
              "<style>\n",
              "  .colab-df-quickchart {\n",
              "      --bg-color: #E8F0FE;\n",
              "      --fill-color: #1967D2;\n",
              "      --hover-bg-color: #E2EBFA;\n",
              "      --hover-fill-color: #174EA6;\n",
              "      --disabled-fill-color: #AAA;\n",
              "      --disabled-bg-color: #DDD;\n",
              "  }\n",
              "\n",
              "  [theme=dark] .colab-df-quickchart {\n",
              "      --bg-color: #3B4455;\n",
              "      --fill-color: #D2E3FC;\n",
              "      --hover-bg-color: #434B5C;\n",
              "      --hover-fill-color: #FFFFFF;\n",
              "      --disabled-bg-color: #3B4455;\n",
              "      --disabled-fill-color: #666;\n",
              "  }\n",
              "\n",
              "  .colab-df-quickchart {\n",
              "    background-color: var(--bg-color);\n",
              "    border: none;\n",
              "    border-radius: 50%;\n",
              "    cursor: pointer;\n",
              "    display: none;\n",
              "    fill: var(--fill-color);\n",
              "    height: 32px;\n",
              "    padding: 0;\n",
              "    width: 32px;\n",
              "  }\n",
              "\n",
              "  .colab-df-quickchart:hover {\n",
              "    background-color: var(--hover-bg-color);\n",
              "    box-shadow: 0 1px 2px rgba(60, 64, 67, 0.3), 0 1px 3px 1px rgba(60, 64, 67, 0.15);\n",
              "    fill: var(--button-hover-fill-color);\n",
              "  }\n",
              "\n",
              "  .colab-df-quickchart-complete:disabled,\n",
              "  .colab-df-quickchart-complete:disabled:hover {\n",
              "    background-color: var(--disabled-bg-color);\n",
              "    fill: var(--disabled-fill-color);\n",
              "    box-shadow: none;\n",
              "  }\n",
              "\n",
              "  .colab-df-spinner {\n",
              "    border: 2px solid var(--fill-color);\n",
              "    border-color: transparent;\n",
              "    border-bottom-color: var(--fill-color);\n",
              "    animation:\n",
              "      spin 1s steps(1) infinite;\n",
              "  }\n",
              "\n",
              "  @keyframes spin {\n",
              "    0% {\n",
              "      border-color: transparent;\n",
              "      border-bottom-color: var(--fill-color);\n",
              "      border-left-color: var(--fill-color);\n",
              "    }\n",
              "    20% {\n",
              "      border-color: transparent;\n",
              "      border-left-color: var(--fill-color);\n",
              "      border-top-color: var(--fill-color);\n",
              "    }\n",
              "    30% {\n",
              "      border-color: transparent;\n",
              "      border-left-color: var(--fill-color);\n",
              "      border-top-color: var(--fill-color);\n",
              "      border-right-color: var(--fill-color);\n",
              "    }\n",
              "    40% {\n",
              "      border-color: transparent;\n",
              "      border-right-color: var(--fill-color);\n",
              "      border-top-color: var(--fill-color);\n",
              "    }\n",
              "    60% {\n",
              "      border-color: transparent;\n",
              "      border-right-color: var(--fill-color);\n",
              "    }\n",
              "    80% {\n",
              "      border-color: transparent;\n",
              "      border-right-color: var(--fill-color);\n",
              "      border-bottom-color: var(--fill-color);\n",
              "    }\n",
              "    90% {\n",
              "      border-color: transparent;\n",
              "      border-bottom-color: var(--fill-color);\n",
              "    }\n",
              "  }\n",
              "</style>\n",
              "\n",
              "  <script>\n",
              "    async function quickchart(key) {\n",
              "      const quickchartButtonEl =\n",
              "        document.querySelector('#' + key + ' button');\n",
              "      quickchartButtonEl.disabled = true;  // To prevent multiple clicks.\n",
              "      quickchartButtonEl.classList.add('colab-df-spinner');\n",
              "      try {\n",
              "        const charts = await google.colab.kernel.invokeFunction(\n",
              "            'suggestCharts', [key], {});\n",
              "      } catch (error) {\n",
              "        console.error('Error during call to suggestCharts:', error);\n",
              "      }\n",
              "      quickchartButtonEl.classList.remove('colab-df-spinner');\n",
              "      quickchartButtonEl.classList.add('colab-df-quickchart-complete');\n",
              "    }\n",
              "    (() => {\n",
              "      let quickchartButtonEl =\n",
              "        document.querySelector('#df-574e8aad-eb09-4fbb-afa8-31e8fb67c301 button');\n",
              "      quickchartButtonEl.style.display =\n",
              "        google.colab.kernel.accessAllowed ? 'block' : 'none';\n",
              "    })();\n",
              "  </script>\n",
              "</div>\n",
              "\n",
              "    </div>\n",
              "  </div>\n"
            ],
            "application/vnd.google.colaboratory.intrinsic+json": {
              "type": "dataframe",
              "variable_name": "df_train"
            }
          },
          "metadata": {},
          "execution_count": 35
        }
      ]
    },
    {
      "cell_type": "code",
      "source": [
        "df_train.info()"
      ],
      "metadata": {
        "id": "fb5Wot64LNU8",
        "colab": {
          "base_uri": "https://localhost:8080/"
        },
        "outputId": "af49082f-98fa-423f-defe-4c6a7bc1fe3b"
      },
      "execution_count": 36,
      "outputs": [
        {
          "output_type": "stream",
          "name": "stdout",
          "text": [
            "<class 'pandas.core.frame.DataFrame'>\n",
            "RangeIndex: 5376 entries, 0 to 5375\n",
            "Data columns (total 29 columns):\n",
            " #   Column                                  Non-Null Count  Dtype  \n",
            "---  ------                                  --------------  -----  \n",
            " 0   Unnamed: 0                              5376 non-null   int64  \n",
            " 1   Crash ID                                5266 non-null   float64\n",
            " 2   Crash Date                              5267 non-null   object \n",
            " 3   Crash Severity                          5376 non-null   int64  \n",
            " 4   Crash Time                              5376 non-null   float64\n",
            " 5   Nearest Trauma Center Distance          5266 non-null   object \n",
            " 6   Time Arrived                            5283 non-null   object \n",
            " 7   Time Notified                           5264 non-null   object \n",
            " 8   Time Roadway Cleared                    5376 non-null   float64\n",
            " 9   Autonomous Level Engaged                5273 non-null   object \n",
            " 10  Autonomous Unit - Reported              5274 non-null   object \n",
            " 11  Vehicle Damage Rating 1 - Severity      5269 non-null   object \n",
            " 12  Vehicle Model Year                      4955 non-null   float64\n",
            " 13  Person Age                              4923 non-null   float64\n",
            " 14  Person Alcohol Result                   5285 non-null   object \n",
            " 15  Person Drug Test Result                 5249 non-null   object \n",
            " 16  Person Ethnicity                        5376 non-null   object \n",
            " 17  Person Gender                           5268 non-null   object \n",
            " 18  Day_Sin                                 5376 non-null   float64\n",
            " 19  Day_Cos                                 5376 non-null   float64\n",
            " 20  y                                       5376 non-null   float64\n",
            " 21  Vehicle Model Year Binned_2011-2020     5376 non-null   bool   \n",
            " 22  Vehicle Model Year Binned_2021-present  5376 non-null   bool   \n",
            " 23  Weather Condition_2 - CLOUDY            5376 non-null   bool   \n",
            " 24  Weather Condition_3 - RAIN              5376 non-null   bool   \n",
            " 25  Weather Condition_4 - SLEET/HAIL        5376 non-null   bool   \n",
            " 26  Weather Condition_5 - SNOW              5376 non-null   bool   \n",
            " 27  Weather Condition_6 - FOG               5376 non-null   bool   \n",
            " 28  Weather Condition_Unknown               5376 non-null   bool   \n",
            "dtypes: bool(8), float64(8), int64(2), object(11)\n",
            "memory usage: 924.1+ KB\n"
          ]
        }
      ]
    },
    {
      "cell_type": "code",
      "source": [
        "df_train['Weather Condition_Unknown'].value_counts()"
      ],
      "metadata": {
        "id": "4z7TGRUthuZW",
        "colab": {
          "base_uri": "https://localhost:8080/",
          "height": 178
        },
        "outputId": "2d977ed9-5cae-46d5-b818-c1dde2ae1d53"
      },
      "execution_count": 37,
      "outputs": [
        {
          "output_type": "execute_result",
          "data": {
            "text/plain": [
              "Weather Condition_Unknown\n",
              "False    5327\n",
              "True       49\n",
              "Name: count, dtype: int64"
            ],
            "text/html": [
              "<div>\n",
              "<style scoped>\n",
              "    .dataframe tbody tr th:only-of-type {\n",
              "        vertical-align: middle;\n",
              "    }\n",
              "\n",
              "    .dataframe tbody tr th {\n",
              "        vertical-align: top;\n",
              "    }\n",
              "\n",
              "    .dataframe thead th {\n",
              "        text-align: right;\n",
              "    }\n",
              "</style>\n",
              "<table border=\"1\" class=\"dataframe\">\n",
              "  <thead>\n",
              "    <tr style=\"text-align: right;\">\n",
              "      <th></th>\n",
              "      <th>count</th>\n",
              "    </tr>\n",
              "    <tr>\n",
              "      <th>Weather Condition_Unknown</th>\n",
              "      <th></th>\n",
              "    </tr>\n",
              "  </thead>\n",
              "  <tbody>\n",
              "    <tr>\n",
              "      <th>False</th>\n",
              "      <td>5327</td>\n",
              "    </tr>\n",
              "    <tr>\n",
              "      <th>True</th>\n",
              "      <td>49</td>\n",
              "    </tr>\n",
              "  </tbody>\n",
              "</table>\n",
              "</div><br><label><b>dtype:</b> int64</label>"
            ]
          },
          "metadata": {},
          "execution_count": 37
        }
      ]
    },
    {
      "cell_type": "code",
      "source": [
        "df_train['Vehicle Damage Rating 1 - Severity'].value_counts()"
      ],
      "metadata": {
        "id": "__dgbctBhuS5",
        "colab": {
          "base_uri": "https://localhost:8080/",
          "height": 397
        },
        "outputId": "1587b3dd-2f76-481d-c145-6928be234595"
      },
      "execution_count": 38,
      "outputs": [
        {
          "output_type": "execute_result",
          "data": {
            "text/plain": [
              "Vehicle Damage Rating 1 - Severity\n",
              "2 - DAMAGED 2            1722\n",
              "1 - DAMAGED 1 MINIMUM    1339\n",
              "3 - DAMAGED 3            1141\n",
              "4 - DAMAGED 4             418\n",
              "No Data                   375\n",
              "5 - DAMAGED 5             114\n",
              "0 - NO DAMAGE             104\n",
              "6 - DAMAGED 6              39\n",
              "7 - DAMAGED 7 HIGHEST      17\n",
              "Name: count, dtype: int64"
            ],
            "text/html": [
              "<div>\n",
              "<style scoped>\n",
              "    .dataframe tbody tr th:only-of-type {\n",
              "        vertical-align: middle;\n",
              "    }\n",
              "\n",
              "    .dataframe tbody tr th {\n",
              "        vertical-align: top;\n",
              "    }\n",
              "\n",
              "    .dataframe thead th {\n",
              "        text-align: right;\n",
              "    }\n",
              "</style>\n",
              "<table border=\"1\" class=\"dataframe\">\n",
              "  <thead>\n",
              "    <tr style=\"text-align: right;\">\n",
              "      <th></th>\n",
              "      <th>count</th>\n",
              "    </tr>\n",
              "    <tr>\n",
              "      <th>Vehicle Damage Rating 1 - Severity</th>\n",
              "      <th></th>\n",
              "    </tr>\n",
              "  </thead>\n",
              "  <tbody>\n",
              "    <tr>\n",
              "      <th>2 - DAMAGED 2</th>\n",
              "      <td>1722</td>\n",
              "    </tr>\n",
              "    <tr>\n",
              "      <th>1 - DAMAGED 1 MINIMUM</th>\n",
              "      <td>1339</td>\n",
              "    </tr>\n",
              "    <tr>\n",
              "      <th>3 - DAMAGED 3</th>\n",
              "      <td>1141</td>\n",
              "    </tr>\n",
              "    <tr>\n",
              "      <th>4 - DAMAGED 4</th>\n",
              "      <td>418</td>\n",
              "    </tr>\n",
              "    <tr>\n",
              "      <th>No Data</th>\n",
              "      <td>375</td>\n",
              "    </tr>\n",
              "    <tr>\n",
              "      <th>5 - DAMAGED 5</th>\n",
              "      <td>114</td>\n",
              "    </tr>\n",
              "    <tr>\n",
              "      <th>0 - NO DAMAGE</th>\n",
              "      <td>104</td>\n",
              "    </tr>\n",
              "    <tr>\n",
              "      <th>6 - DAMAGED 6</th>\n",
              "      <td>39</td>\n",
              "    </tr>\n",
              "    <tr>\n",
              "      <th>7 - DAMAGED 7 HIGHEST</th>\n",
              "      <td>17</td>\n",
              "    </tr>\n",
              "  </tbody>\n",
              "</table>\n",
              "</div><br><label><b>dtype:</b> int64</label>"
            ]
          },
          "metadata": {},
          "execution_count": 38
        }
      ]
    },
    {
      "cell_type": "code",
      "source": [
        "damage_mapping = {\n",
        "    '0 - NO DAMAGE': 0,\n",
        "    '1 - DAMAGED 1 MINIMUM': 1,\n",
        "    '2 - DAMAGED 2': 2,\n",
        "    '3 - DAMAGED 3': 3,\n",
        "    '4 - DAMAGED 4': 4,\n",
        "    '5 - DAMAGED 5': 5,\n",
        "    '6 - DAMAGED 6': 6,\n",
        "    '7 - DAMAGED 7 HIGHEST': 7,\n",
        "    'No Data': np.nan\n",
        "}\n",
        "\n",
        "df_train['Vehicle Damage Rating 1 - Severity'] = df_train['Vehicle Damage Rating 1 - Severity'].map(damage_mapping)\n",
        "\n",
        "# Replacing NaN with the mode:\n",
        "df_train['Vehicle Damage Rating 1 - Severity'].fillna(df_train['Vehicle Damage Rating 1 - Severity'].mode()[0], inplace=True)"
      ],
      "metadata": {
        "id": "bIOAro_OhuPb"
      },
      "execution_count": 39,
      "outputs": []
    },
    {
      "cell_type": "code",
      "source": [
        "df_train['Vehicle Damage Rating 1 - Severity'] = df_train['Vehicle Damage Rating 1 - Severity'].astype(int)"
      ],
      "metadata": {
        "id": "ilM0GtM-huMG"
      },
      "execution_count": 40,
      "outputs": []
    },
    {
      "cell_type": "code",
      "source": [
        "df_train['Vehicle Damage Rating 1 - Severity'].value_counts()"
      ],
      "metadata": {
        "id": "vbntxY7-huI-",
        "colab": {
          "base_uri": "https://localhost:8080/",
          "height": 366
        },
        "outputId": "da2b3a52-8927-45d3-b99c-91ac22d6a3fb"
      },
      "execution_count": 41,
      "outputs": [
        {
          "output_type": "execute_result",
          "data": {
            "text/plain": [
              "Vehicle Damage Rating 1 - Severity\n",
              "2    2204\n",
              "1    1339\n",
              "3    1141\n",
              "4     418\n",
              "5     114\n",
              "0     104\n",
              "6      39\n",
              "7      17\n",
              "Name: count, dtype: int64"
            ],
            "text/html": [
              "<div>\n",
              "<style scoped>\n",
              "    .dataframe tbody tr th:only-of-type {\n",
              "        vertical-align: middle;\n",
              "    }\n",
              "\n",
              "    .dataframe tbody tr th {\n",
              "        vertical-align: top;\n",
              "    }\n",
              "\n",
              "    .dataframe thead th {\n",
              "        text-align: right;\n",
              "    }\n",
              "</style>\n",
              "<table border=\"1\" class=\"dataframe\">\n",
              "  <thead>\n",
              "    <tr style=\"text-align: right;\">\n",
              "      <th></th>\n",
              "      <th>count</th>\n",
              "    </tr>\n",
              "    <tr>\n",
              "      <th>Vehicle Damage Rating 1 - Severity</th>\n",
              "      <th></th>\n",
              "    </tr>\n",
              "  </thead>\n",
              "  <tbody>\n",
              "    <tr>\n",
              "      <th>2</th>\n",
              "      <td>2204</td>\n",
              "    </tr>\n",
              "    <tr>\n",
              "      <th>1</th>\n",
              "      <td>1339</td>\n",
              "    </tr>\n",
              "    <tr>\n",
              "      <th>3</th>\n",
              "      <td>1141</td>\n",
              "    </tr>\n",
              "    <tr>\n",
              "      <th>4</th>\n",
              "      <td>418</td>\n",
              "    </tr>\n",
              "    <tr>\n",
              "      <th>5</th>\n",
              "      <td>114</td>\n",
              "    </tr>\n",
              "    <tr>\n",
              "      <th>0</th>\n",
              "      <td>104</td>\n",
              "    </tr>\n",
              "    <tr>\n",
              "      <th>6</th>\n",
              "      <td>39</td>\n",
              "    </tr>\n",
              "    <tr>\n",
              "      <th>7</th>\n",
              "      <td>17</td>\n",
              "    </tr>\n",
              "  </tbody>\n",
              "</table>\n",
              "</div><br><label><b>dtype:</b> int64</label>"
            ]
          },
          "metadata": {},
          "execution_count": 41
        }
      ]
    },
    {
      "cell_type": "code",
      "source": [
        "df_train.info()"
      ],
      "metadata": {
        "id": "HjGOYrOOhuFz",
        "colab": {
          "base_uri": "https://localhost:8080/"
        },
        "outputId": "9401085a-1391-496b-e4f9-99d229c562c4"
      },
      "execution_count": 42,
      "outputs": [
        {
          "output_type": "stream",
          "name": "stdout",
          "text": [
            "<class 'pandas.core.frame.DataFrame'>\n",
            "RangeIndex: 5376 entries, 0 to 5375\n",
            "Data columns (total 29 columns):\n",
            " #   Column                                  Non-Null Count  Dtype  \n",
            "---  ------                                  --------------  -----  \n",
            " 0   Unnamed: 0                              5376 non-null   int64  \n",
            " 1   Crash ID                                5266 non-null   float64\n",
            " 2   Crash Date                              5267 non-null   object \n",
            " 3   Crash Severity                          5376 non-null   int64  \n",
            " 4   Crash Time                              5376 non-null   float64\n",
            " 5   Nearest Trauma Center Distance          5266 non-null   object \n",
            " 6   Time Arrived                            5283 non-null   object \n",
            " 7   Time Notified                           5264 non-null   object \n",
            " 8   Time Roadway Cleared                    5376 non-null   float64\n",
            " 9   Autonomous Level Engaged                5273 non-null   object \n",
            " 10  Autonomous Unit - Reported              5274 non-null   object \n",
            " 11  Vehicle Damage Rating 1 - Severity      5376 non-null   int64  \n",
            " 12  Vehicle Model Year                      4955 non-null   float64\n",
            " 13  Person Age                              4923 non-null   float64\n",
            " 14  Person Alcohol Result                   5285 non-null   object \n",
            " 15  Person Drug Test Result                 5249 non-null   object \n",
            " 16  Person Ethnicity                        5376 non-null   object \n",
            " 17  Person Gender                           5268 non-null   object \n",
            " 18  Day_Sin                                 5376 non-null   float64\n",
            " 19  Day_Cos                                 5376 non-null   float64\n",
            " 20  y                                       5376 non-null   float64\n",
            " 21  Vehicle Model Year Binned_2011-2020     5376 non-null   bool   \n",
            " 22  Vehicle Model Year Binned_2021-present  5376 non-null   bool   \n",
            " 23  Weather Condition_2 - CLOUDY            5376 non-null   bool   \n",
            " 24  Weather Condition_3 - RAIN              5376 non-null   bool   \n",
            " 25  Weather Condition_4 - SLEET/HAIL        5376 non-null   bool   \n",
            " 26  Weather Condition_5 - SNOW              5376 non-null   bool   \n",
            " 27  Weather Condition_6 - FOG               5376 non-null   bool   \n",
            " 28  Weather Condition_Unknown               5376 non-null   bool   \n",
            "dtypes: bool(8), float64(8), int64(3), object(10)\n",
            "memory usage: 924.1+ KB\n"
          ]
        }
      ]
    },
    {
      "cell_type": "code",
      "source": [
        "df_train['Person Age'].isna().sum()"
      ],
      "metadata": {
        "id": "7o3dhqPshuCr",
        "colab": {
          "base_uri": "https://localhost:8080/"
        },
        "outputId": "97db0511-282e-45d9-83ad-95e57fdec0c1"
      },
      "execution_count": 43,
      "outputs": [
        {
          "output_type": "execute_result",
          "data": {
            "text/plain": [
              "453"
            ]
          },
          "metadata": {},
          "execution_count": 43
        }
      ]
    },
    {
      "cell_type": "code",
      "source": [
        "import seaborn as sns\n",
        "import matplotlib.pyplot as plt\n",
        "\n",
        "sns.histplot(df_train['Person Age'].dropna(), bins=30, kde=True)\n",
        "plt.title('Distribution of Person Age')\n",
        "plt.xlabel('Age')\n",
        "plt.ylabel('Frequency')\n",
        "plt.show()"
      ],
      "metadata": {
        "id": "7JM26QGiht_a",
        "colab": {
          "base_uri": "https://localhost:8080/",
          "height": 472
        },
        "outputId": "3b6a3f2d-6198-4862-b9da-295deb87a605"
      },
      "execution_count": 44,
      "outputs": [
        {
          "output_type": "display_data",
          "data": {
            "text/plain": [
              "<Figure size 640x480 with 1 Axes>"
            ],
            "image/png": "[encoded data removed]"
          },
          "metadata": {}
        }
      ]
    },
    {
      "cell_type": "markdown",
      "source": [
        "Since the data is not normally distributed, we'll use Median to replace the missing values."
      ],
      "metadata": {
        "id": "d88VWQI0R2uG"
      }
    },
    {
      "cell_type": "code",
      "source": [],
      "metadata": {
        "id": "KPHaNpY5ht8U"
      },
      "execution_count": 44,
      "outputs": []
    },
    {
      "cell_type": "code",
      "source": [
        "median_age = df_train['Person Age'].median()\n",
        "df_train['Person Age'].fillna(median_age, inplace=True)"
      ],
      "metadata": {
        "id": "TNhxfeddht5a"
      },
      "execution_count": 45,
      "outputs": []
    },
    {
      "cell_type": "code",
      "source": [
        "df_train['Person Age'].isna().sum()"
      ],
      "metadata": {
        "id": "ktQv3QQHht2a",
        "colab": {
          "base_uri": "https://localhost:8080/"
        },
        "outputId": "c9de00c9-25d4-4101-996e-d89dc4a39c04"
      },
      "execution_count": 46,
      "outputs": [
        {
          "output_type": "execute_result",
          "data": {
            "text/plain": [
              "0"
            ]
          },
          "metadata": {},
          "execution_count": 46
        }
      ]
    },
    {
      "cell_type": "code",
      "source": [
        "df_train['Person Alcohol Result'].isna().sum()"
      ],
      "metadata": {
        "id": "9MpEQ4s5LNR8",
        "colab": {
          "base_uri": "https://localhost:8080/"
        },
        "outputId": "58229b11-aa00-496a-f375-cb4933a5ad8f"
      },
      "execution_count": 47,
      "outputs": [
        {
          "output_type": "execute_result",
          "data": {
            "text/plain": [
              "91"
            ]
          },
          "metadata": {},
          "execution_count": 47
        }
      ]
    },
    {
      "cell_type": "code",
      "source": [
        "df_train['Person Alcohol Result'].value_counts()"
      ],
      "metadata": {
        "id": "piLT-nRjLNPo",
        "colab": {
          "base_uri": "https://localhost:8080/",
          "height": 209
        },
        "outputId": "7edf6539-1609-4d45-b72f-659a42be6cfe"
      },
      "execution_count": 48,
      "outputs": [
        {
          "output_type": "execute_result",
          "data": {
            "text/plain": [
              "Person Alcohol Result\n",
              "No Data         5262\n",
              "1 - POSITIVE      15\n",
              "2 - NEGATIVE       8\n",
              "Name: count, dtype: int64"
            ],
            "text/html": [
              "<div>\n",
              "<style scoped>\n",
              "    .dataframe tbody tr th:only-of-type {\n",
              "        vertical-align: middle;\n",
              "    }\n",
              "\n",
              "    .dataframe tbody tr th {\n",
              "        vertical-align: top;\n",
              "    }\n",
              "\n",
              "    .dataframe thead th {\n",
              "        text-align: right;\n",
              "    }\n",
              "</style>\n",
              "<table border=\"1\" class=\"dataframe\">\n",
              "  <thead>\n",
              "    <tr style=\"text-align: right;\">\n",
              "      <th></th>\n",
              "      <th>count</th>\n",
              "    </tr>\n",
              "    <tr>\n",
              "      <th>Person Alcohol Result</th>\n",
              "      <th></th>\n",
              "    </tr>\n",
              "  </thead>\n",
              "  <tbody>\n",
              "    <tr>\n",
              "      <th>No Data</th>\n",
              "      <td>5262</td>\n",
              "    </tr>\n",
              "    <tr>\n",
              "      <th>1 - POSITIVE</th>\n",
              "      <td>15</td>\n",
              "    </tr>\n",
              "    <tr>\n",
              "      <th>2 - NEGATIVE</th>\n",
              "      <td>8</td>\n",
              "    </tr>\n",
              "  </tbody>\n",
              "</table>\n",
              "</div><br><label><b>dtype:</b> int64</label>"
            ]
          },
          "metadata": {},
          "execution_count": 48
        }
      ]
    },
    {
      "cell_type": "code",
      "source": [
        "df_train['Person Drug Test Result'].value_counts()"
      ],
      "metadata": {
        "id": "heg9m4NDLNNJ",
        "colab": {
          "base_uri": "https://localhost:8080/",
          "height": 272
        },
        "outputId": "7f5a6605-07e4-4eb2-8c68-187a428c6679"
      },
      "execution_count": 49,
      "outputs": [
        {
          "output_type": "execute_result",
          "data": {
            "text/plain": [
              "Person Drug Test Result\n",
              "97 - NOT APPLICABLE    3832\n",
              "No Data                1347\n",
              "99 - UNKNOWN             61\n",
              "1 - POSITIVE              5\n",
              "2 - NEGATIVE              4\n",
              "Name: count, dtype: int64"
            ],
            "text/html": [
              "<div>\n",
              "<style scoped>\n",
              "    .dataframe tbody tr th:only-of-type {\n",
              "        vertical-align: middle;\n",
              "    }\n",
              "\n",
              "    .dataframe tbody tr th {\n",
              "        vertical-align: top;\n",
              "    }\n",
              "\n",
              "    .dataframe thead th {\n",
              "        text-align: right;\n",
              "    }\n",
              "</style>\n",
              "<table border=\"1\" class=\"dataframe\">\n",
              "  <thead>\n",
              "    <tr style=\"text-align: right;\">\n",
              "      <th></th>\n",
              "      <th>count</th>\n",
              "    </tr>\n",
              "    <tr>\n",
              "      <th>Person Drug Test Result</th>\n",
              "      <th></th>\n",
              "    </tr>\n",
              "  </thead>\n",
              "  <tbody>\n",
              "    <tr>\n",
              "      <th>97 - NOT APPLICABLE</th>\n",
              "      <td>3832</td>\n",
              "    </tr>\n",
              "    <tr>\n",
              "      <th>No Data</th>\n",
              "      <td>1347</td>\n",
              "    </tr>\n",
              "    <tr>\n",
              "      <th>99 - UNKNOWN</th>\n",
              "      <td>61</td>\n",
              "    </tr>\n",
              "    <tr>\n",
              "      <th>1 - POSITIVE</th>\n",
              "      <td>5</td>\n",
              "    </tr>\n",
              "    <tr>\n",
              "      <th>2 - NEGATIVE</th>\n",
              "      <td>4</td>\n",
              "    </tr>\n",
              "  </tbody>\n",
              "</table>\n",
              "</div><br><label><b>dtype:</b> int64</label>"
            ]
          },
          "metadata": {},
          "execution_count": 49
        }
      ]
    },
    {
      "cell_type": "code",
      "source": [
        "df_train['Person Ethnicity'].isna().sum()"
      ],
      "metadata": {
        "id": "aX6tIjmoLNKg",
        "colab": {
          "base_uri": "https://localhost:8080/"
        },
        "outputId": "e5bc9fca-947f-44ce-a41b-1401a4003e1c"
      },
      "execution_count": 50,
      "outputs": [
        {
          "output_type": "execute_result",
          "data": {
            "text/plain": [
              "0"
            ]
          },
          "metadata": {},
          "execution_count": 50
        }
      ]
    },
    {
      "cell_type": "code",
      "source": [
        "df_train['Person Ethnicity'].value_counts()"
      ],
      "metadata": {
        "id": "hsKTFVK5LNH4",
        "colab": {
          "base_uri": "https://localhost:8080/",
          "height": 397
        },
        "outputId": "440c3793-87fc-4113-f46a-521908ad1b3d"
      },
      "execution_count": 51,
      "outputs": [
        {
          "output_type": "execute_result",
          "data": {
            "text/plain": [
              "Person Ethnicity\n",
              "W - WHITE                          2720\n",
              "H - HISPANIC                       1091\n",
              "B - BLACK                           753\n",
              "99 - UNKNOWN                        347\n",
              "A - ASIAN                           277\n",
              "No Data                              91\n",
              "Unknown                              41\n",
              "I - AMER. INDIAN/ALASKAN NATIVE      35\n",
              "98 - OTHER                           21\n",
              "Name: count, dtype: int64"
            ],
            "text/html": [
              "<div>\n",
              "<style scoped>\n",
              "    .dataframe tbody tr th:only-of-type {\n",
              "        vertical-align: middle;\n",
              "    }\n",
              "\n",
              "    .dataframe tbody tr th {\n",
              "        vertical-align: top;\n",
              "    }\n",
              "\n",
              "    .dataframe thead th {\n",
              "        text-align: right;\n",
              "    }\n",
              "</style>\n",
              "<table border=\"1\" class=\"dataframe\">\n",
              "  <thead>\n",
              "    <tr style=\"text-align: right;\">\n",
              "      <th></th>\n",
              "      <th>count</th>\n",
              "    </tr>\n",
              "    <tr>\n",
              "      <th>Person Ethnicity</th>\n",
              "      <th></th>\n",
              "    </tr>\n",
              "  </thead>\n",
              "  <tbody>\n",
              "    <tr>\n",
              "      <th>W - WHITE</th>\n",
              "      <td>2720</td>\n",
              "    </tr>\n",
              "    <tr>\n",
              "      <th>H - HISPANIC</th>\n",
              "      <td>1091</td>\n",
              "    </tr>\n",
              "    <tr>\n",
              "      <th>B - BLACK</th>\n",
              "      <td>753</td>\n",
              "    </tr>\n",
              "    <tr>\n",
              "      <th>99 - UNKNOWN</th>\n",
              "      <td>347</td>\n",
              "    </tr>\n",
              "    <tr>\n",
              "      <th>A - ASIAN</th>\n",
              "      <td>277</td>\n",
              "    </tr>\n",
              "    <tr>\n",
              "      <th>No Data</th>\n",
              "      <td>91</td>\n",
              "    </tr>\n",
              "    <tr>\n",
              "      <th>Unknown</th>\n",
              "      <td>41</td>\n",
              "    </tr>\n",
              "    <tr>\n",
              "      <th>I - AMER. INDIAN/ALASKAN NATIVE</th>\n",
              "      <td>35</td>\n",
              "    </tr>\n",
              "    <tr>\n",
              "      <th>98 - OTHER</th>\n",
              "      <td>21</td>\n",
              "    </tr>\n",
              "  </tbody>\n",
              "</table>\n",
              "</div><br><label><b>dtype:</b> int64</label>"
            ]
          },
          "metadata": {},
          "execution_count": 51
        }
      ]
    },
    {
      "cell_type": "code",
      "source": [
        "# Merging unknown categories\n",
        "df_train['Person Ethnicity'].replace({\n",
        "    '99 - UNKNOWN': 'Unknown',\n",
        "    'No Data': 'Unknown',\n",
        "    'Unknown': 'Unknown',\n",
        "    '98 - OTHER': 'Unknown'\n",
        "}, inplace=True)\n",
        "\n",
        "# Replacing 'Unknown' with the most frequent category (mode)\n",
        "mode_ethnicity = df_train['Person Ethnicity'].mode()[0]\n",
        "df_train['Person Ethnicity'].replace('Unknown', mode_ethnicity, inplace=True)\n",
        "\n",
        "# One-Hot Encoding\n",
        "df_train = pd.get_dummies(df_train, columns=['Person Ethnicity'], drop_first=True)"
      ],
      "metadata": {
        "id": "ooSP62o0LNFS"
      },
      "execution_count": 52,
      "outputs": []
    },
    {
      "cell_type": "code",
      "source": [
        "df_train.info()"
      ],
      "metadata": {
        "id": "oiXoYpJJLNC7",
        "colab": {
          "base_uri": "https://localhost:8080/"
        },
        "outputId": "ba21cd12-4a89-4d97-a427-3de4dfd7ce18"
      },
      "execution_count": 53,
      "outputs": [
        {
          "output_type": "stream",
          "name": "stdout",
          "text": [
            "<class 'pandas.core.frame.DataFrame'>\n",
            "RangeIndex: 5376 entries, 0 to 5375\n",
            "Data columns (total 32 columns):\n",
            " #   Column                                            Non-Null Count  Dtype  \n",
            "---  ------                                            --------------  -----  \n",
            " 0   Unnamed: 0                                        5376 non-null   int64  \n",
            " 1   Crash ID                                          5266 non-null   float64\n",
            " 2   Crash Date                                        5267 non-null   object \n",
            " 3   Crash Severity                                    5376 non-null   int64  \n",
            " 4   Crash Time                                        5376 non-null   float64\n",
            " 5   Nearest Trauma Center Distance                    5266 non-null   object \n",
            " 6   Time Arrived                                      5283 non-null   object \n",
            " 7   Time Notified                                     5264 non-null   object \n",
            " 8   Time Roadway Cleared                              5376 non-null   float64\n",
            " 9   Autonomous Level Engaged                          5273 non-null   object \n",
            " 10  Autonomous Unit - Reported                        5274 non-null   object \n",
            " 11  Vehicle Damage Rating 1 - Severity                5376 non-null   int64  \n",
            " 12  Vehicle Model Year                                4955 non-null   float64\n",
            " 13  Person Age                                        5376 non-null   float64\n",
            " 14  Person Alcohol Result                             5285 non-null   object \n",
            " 15  Person Drug Test Result                           5249 non-null   object \n",
            " 16  Person Gender                                     5268 non-null   object \n",
            " 17  Day_Sin                                           5376 non-null   float64\n",
            " 18  Day_Cos                                           5376 non-null   float64\n",
            " 19  y                                                 5376 non-null   float64\n",
            " 20  Vehicle Model Year Binned_2011-2020               5376 non-null   bool   \n",
            " 21  Vehicle Model Year Binned_2021-present            5376 non-null   bool   \n",
            " 22  Weather Condition_2 - CLOUDY                      5376 non-null   bool   \n",
            " 23  Weather Condition_3 - RAIN                        5376 non-null   bool   \n",
            " 24  Weather Condition_4 - SLEET/HAIL                  5376 non-null   bool   \n",
            " 25  Weather Condition_5 - SNOW                        5376 non-null   bool   \n",
            " 26  Weather Condition_6 - FOG                         5376 non-null   bool   \n",
            " 27  Weather Condition_Unknown                         5376 non-null   bool   \n",
            " 28  Person Ethnicity_B - BLACK                        5376 non-null   bool   \n",
            " 29  Person Ethnicity_H - HISPANIC                     5376 non-null   bool   \n",
            " 30  Person Ethnicity_I - AMER. INDIAN/ALASKAN NATIVE  5376 non-null   bool   \n",
            " 31  Person Ethnicity_W - WHITE                        5376 non-null   bool   \n",
            "dtypes: bool(12), float64(8), int64(3), object(9)\n",
            "memory usage: 903.1+ KB\n"
          ]
        }
      ]
    },
    {
      "cell_type": "code",
      "source": [
        "df_train['Person Gender'].value_counts()"
      ],
      "metadata": {
        "colab": {
          "base_uri": "https://localhost:8080/",
          "height": 209
        },
        "id": "dUphQ8JmT-gu",
        "outputId": "ca6b758e-48fe-4de1-c04d-647eeb416c36"
      },
      "execution_count": 54,
      "outputs": [
        {
          "output_type": "execute_result",
          "data": {
            "text/plain": [
              "Person Gender\n",
              "1 - MALE        2708\n",
              "2 - FEMALE      2262\n",
              "99 - UNKNOWN     298\n",
              "Name: count, dtype: int64"
            ],
            "text/html": [
              "<div>\n",
              "<style scoped>\n",
              "    .dataframe tbody tr th:only-of-type {\n",
              "        vertical-align: middle;\n",
              "    }\n",
              "\n",
              "    .dataframe tbody tr th {\n",
              "        vertical-align: top;\n",
              "    }\n",
              "\n",
              "    .dataframe thead th {\n",
              "        text-align: right;\n",
              "    }\n",
              "</style>\n",
              "<table border=\"1\" class=\"dataframe\">\n",
              "  <thead>\n",
              "    <tr style=\"text-align: right;\">\n",
              "      <th></th>\n",
              "      <th>count</th>\n",
              "    </tr>\n",
              "    <tr>\n",
              "      <th>Person Gender</th>\n",
              "      <th></th>\n",
              "    </tr>\n",
              "  </thead>\n",
              "  <tbody>\n",
              "    <tr>\n",
              "      <th>1 - MALE</th>\n",
              "      <td>2708</td>\n",
              "    </tr>\n",
              "    <tr>\n",
              "      <th>2 - FEMALE</th>\n",
              "      <td>2262</td>\n",
              "    </tr>\n",
              "    <tr>\n",
              "      <th>99 - UNKNOWN</th>\n",
              "      <td>298</td>\n",
              "    </tr>\n",
              "  </tbody>\n",
              "</table>\n",
              "</div><br><label><b>dtype:</b> int64</label>"
            ]
          },
          "metadata": {},
          "execution_count": 54
        }
      ]
    },
    {
      "cell_type": "code",
      "source": [
        "mode_gender = df_train['Person Gender'].mode()[0]\n",
        "\n",
        "df_train['Person Gender'].replace('99 - UNKNOWN', mode_gender, inplace=True)\n",
        "\n",
        "df_train = pd.get_dummies(df_train, columns = ['Person Gender'], drop_first=True)"
      ],
      "metadata": {
        "id": "9rAe2XQoT-e5"
      },
      "execution_count": 55,
      "outputs": []
    },
    {
      "cell_type": "code",
      "source": [
        "df_train.info()"
      ],
      "metadata": {
        "colab": {
          "base_uri": "https://localhost:8080/"
        },
        "id": "ZY2faflET-cR",
        "outputId": "150824bb-a736-474f-d693-85bb178941db"
      },
      "execution_count": 56,
      "outputs": [
        {
          "output_type": "stream",
          "name": "stdout",
          "text": [
            "<class 'pandas.core.frame.DataFrame'>\n",
            "RangeIndex: 5376 entries, 0 to 5375\n",
            "Data columns (total 32 columns):\n",
            " #   Column                                            Non-Null Count  Dtype  \n",
            "---  ------                                            --------------  -----  \n",
            " 0   Unnamed: 0                                        5376 non-null   int64  \n",
            " 1   Crash ID                                          5266 non-null   float64\n",
            " 2   Crash Date                                        5267 non-null   object \n",
            " 3   Crash Severity                                    5376 non-null   int64  \n",
            " 4   Crash Time                                        5376 non-null   float64\n",
            " 5   Nearest Trauma Center Distance                    5266 non-null   object \n",
            " 6   Time Arrived                                      5283 non-null   object \n",
            " 7   Time Notified                                     5264 non-null   object \n",
            " 8   Time Roadway Cleared                              5376 non-null   float64\n",
            " 9   Autonomous Level Engaged                          5273 non-null   object \n",
            " 10  Autonomous Unit - Reported                        5274 non-null   object \n",
            " 11  Vehicle Damage Rating 1 - Severity                5376 non-null   int64  \n",
            " 12  Vehicle Model Year                                4955 non-null   float64\n",
            " 13  Person Age                                        5376 non-null   float64\n",
            " 14  Person Alcohol Result                             5285 non-null   object \n",
            " 15  Person Drug Test Result                           5249 non-null   object \n",
            " 16  Day_Sin                                           5376 non-null   float64\n",
            " 17  Day_Cos                                           5376 non-null   float64\n",
            " 18  y                                                 5376 non-null   float64\n",
            " 19  Vehicle Model Year Binned_2011-2020               5376 non-null   bool   \n",
            " 20  Vehicle Model Year Binned_2021-present            5376 non-null   bool   \n",
            " 21  Weather Condition_2 - CLOUDY                      5376 non-null   bool   \n",
            " 22  Weather Condition_3 - RAIN                        5376 non-null   bool   \n",
            " 23  Weather Condition_4 - SLEET/HAIL                  5376 non-null   bool   \n",
            " 24  Weather Condition_5 - SNOW                        5376 non-null   bool   \n",
            " 25  Weather Condition_6 - FOG                         5376 non-null   bool   \n",
            " 26  Weather Condition_Unknown                         5376 non-null   bool   \n",
            " 27  Person Ethnicity_B - BLACK                        5376 non-null   bool   \n",
            " 28  Person Ethnicity_H - HISPANIC                     5376 non-null   bool   \n",
            " 29  Person Ethnicity_I - AMER. INDIAN/ALASKAN NATIVE  5376 non-null   bool   \n",
            " 30  Person Ethnicity_W - WHITE                        5376 non-null   bool   \n",
            " 31  Person Gender_2 - FEMALE                          5376 non-null   bool   \n",
            "dtypes: bool(13), float64(8), int64(3), object(8)\n",
            "memory usage: 866.4+ KB\n"
          ]
        }
      ]
    },
    {
      "cell_type": "code",
      "source": [
        "df_train.drop(columns=[\n",
        "    'Nearest Trauma Center Distance',\n",
        "    'Time Arrived',\n",
        "    'Time Notified',\n",
        "    'Weather Condition_Unknown',\n",
        "    'Crash ID',\n",
        "    'Crash Date',\n",
        "    'Person Alcohol Result',\n",
        "    'Person Drug Test Result',\n",
        "    'Time Roadway Cleared',\n",
        "    'Unnamed: 0'\n",
        "], inplace=True)"
      ],
      "metadata": {
        "id": "x5ILKgllT-Z8"
      },
      "execution_count": 57,
      "outputs": []
    },
    {
      "cell_type": "code",
      "source": [
        "df_train.info()"
      ],
      "metadata": {
        "colab": {
          "base_uri": "https://localhost:8080/"
        },
        "id": "Rp-iGDh2T-Xh",
        "outputId": "a7c147f6-3bf9-4733-b5f1-faae1b7a2261"
      },
      "execution_count": 58,
      "outputs": [
        {
          "output_type": "stream",
          "name": "stdout",
          "text": [
            "<class 'pandas.core.frame.DataFrame'>\n",
            "RangeIndex: 5376 entries, 0 to 5375\n",
            "Data columns (total 22 columns):\n",
            " #   Column                                            Non-Null Count  Dtype  \n",
            "---  ------                                            --------------  -----  \n",
            " 0   Crash Severity                                    5376 non-null   int64  \n",
            " 1   Crash Time                                        5376 non-null   float64\n",
            " 2   Autonomous Level Engaged                          5273 non-null   object \n",
            " 3   Autonomous Unit - Reported                        5274 non-null   object \n",
            " 4   Vehicle Damage Rating 1 - Severity                5376 non-null   int64  \n",
            " 5   Vehicle Model Year                                4955 non-null   float64\n",
            " 6   Person Age                                        5376 non-null   float64\n",
            " 7   Day_Sin                                           5376 non-null   float64\n",
            " 8   Day_Cos                                           5376 non-null   float64\n",
            " 9   y                                                 5376 non-null   float64\n",
            " 10  Vehicle Model Year Binned_2011-2020               5376 non-null   bool   \n",
            " 11  Vehicle Model Year Binned_2021-present            5376 non-null   bool   \n",
            " 12  Weather Condition_2 - CLOUDY                      5376 non-null   bool   \n",
            " 13  Weather Condition_3 - RAIN                        5376 non-null   bool   \n",
            " 14  Weather Condition_4 - SLEET/HAIL                  5376 non-null   bool   \n",
            " 15  Weather Condition_5 - SNOW                        5376 non-null   bool   \n",
            " 16  Weather Condition_6 - FOG                         5376 non-null   bool   \n",
            " 17  Person Ethnicity_B - BLACK                        5376 non-null   bool   \n",
            " 18  Person Ethnicity_H - HISPANIC                     5376 non-null   bool   \n",
            " 19  Person Ethnicity_I - AMER. INDIAN/ALASKAN NATIVE  5376 non-null   bool   \n",
            " 20  Person Ethnicity_W - WHITE                        5376 non-null   bool   \n",
            " 21  Person Gender_2 - FEMALE                          5376 non-null   bool   \n",
            "dtypes: bool(12), float64(6), int64(2), object(2)\n",
            "memory usage: 483.1+ KB\n"
          ]
        }
      ]
    },
    {
      "cell_type": "code",
      "source": [
        "df_train['Autonomous Level Engaged'].value_counts()"
      ],
      "metadata": {
        "colab": {
          "base_uri": "https://localhost:8080/",
          "height": 178
        },
        "id": "W6E6qWFIT-VH",
        "outputId": "46ebeb82-be8b-43a0-8fd8-593b4d6e118d"
      },
      "execution_count": 59,
      "outputs": [
        {
          "output_type": "execute_result",
          "data": {
            "text/plain": [
              "Autonomous Level Engaged\n",
              "0 - NO AUTOMATION    4961\n",
              "99 - UNKNOWN          312\n",
              "Name: count, dtype: int64"
            ],
            "text/html": [
              "<div>\n",
              "<style scoped>\n",
              "    .dataframe tbody tr th:only-of-type {\n",
              "        vertical-align: middle;\n",
              "    }\n",
              "\n",
              "    .dataframe tbody tr th {\n",
              "        vertical-align: top;\n",
              "    }\n",
              "\n",
              "    .dataframe thead th {\n",
              "        text-align: right;\n",
              "    }\n",
              "</style>\n",
              "<table border=\"1\" class=\"dataframe\">\n",
              "  <thead>\n",
              "    <tr style=\"text-align: right;\">\n",
              "      <th></th>\n",
              "      <th>count</th>\n",
              "    </tr>\n",
              "    <tr>\n",
              "      <th>Autonomous Level Engaged</th>\n",
              "      <th></th>\n",
              "    </tr>\n",
              "  </thead>\n",
              "  <tbody>\n",
              "    <tr>\n",
              "      <th>0 - NO AUTOMATION</th>\n",
              "      <td>4961</td>\n",
              "    </tr>\n",
              "    <tr>\n",
              "      <th>99 - UNKNOWN</th>\n",
              "      <td>312</td>\n",
              "    </tr>\n",
              "  </tbody>\n",
              "</table>\n",
              "</div><br><label><b>dtype:</b> int64</label>"
            ]
          },
          "metadata": {},
          "execution_count": 59
        }
      ]
    },
    {
      "cell_type": "code",
      "source": [
        "df_train['Autonomous Unit - Reported'].value_counts()"
      ],
      "metadata": {
        "colab": {
          "base_uri": "https://localhost:8080/",
          "height": 178
        },
        "id": "PGh4eQXYT-S0",
        "outputId": "d9bde6b4-23f6-40af-f962-66678b2c80a5"
      },
      "execution_count": 60,
      "outputs": [
        {
          "output_type": "execute_result",
          "data": {
            "text/plain": [
              "Autonomous Unit - Reported\n",
              "2 - NO          4968\n",
              "99 - UNKNOWN     306\n",
              "Name: count, dtype: int64"
            ],
            "text/html": [
              "<div>\n",
              "<style scoped>\n",
              "    .dataframe tbody tr th:only-of-type {\n",
              "        vertical-align: middle;\n",
              "    }\n",
              "\n",
              "    .dataframe tbody tr th {\n",
              "        vertical-align: top;\n",
              "    }\n",
              "\n",
              "    .dataframe thead th {\n",
              "        text-align: right;\n",
              "    }\n",
              "</style>\n",
              "<table border=\"1\" class=\"dataframe\">\n",
              "  <thead>\n",
              "    <tr style=\"text-align: right;\">\n",
              "      <th></th>\n",
              "      <th>count</th>\n",
              "    </tr>\n",
              "    <tr>\n",
              "      <th>Autonomous Unit - Reported</th>\n",
              "      <th></th>\n",
              "    </tr>\n",
              "  </thead>\n",
              "  <tbody>\n",
              "    <tr>\n",
              "      <th>2 - NO</th>\n",
              "      <td>4968</td>\n",
              "    </tr>\n",
              "    <tr>\n",
              "      <th>99 - UNKNOWN</th>\n",
              "      <td>306</td>\n",
              "    </tr>\n",
              "  </tbody>\n",
              "</table>\n",
              "</div><br><label><b>dtype:</b> int64</label>"
            ]
          },
          "metadata": {},
          "execution_count": 60
        }
      ]
    },
    {
      "cell_type": "code",
      "source": [
        "df_train = df_train.drop(['Autonomous Level Engaged', 'Autonomous Unit - Reported', 'Vehicle Model Year'], axis=1)"
      ],
      "metadata": {
        "id": "Un8174L-T-QQ"
      },
      "execution_count": 61,
      "outputs": []
    },
    {
      "cell_type": "code",
      "source": [
        "df_train.info()"
      ],
      "metadata": {
        "colab": {
          "base_uri": "https://localhost:8080/"
        },
        "id": "GbqrD6PdT-Nx",
        "outputId": "bbb96ab7-7314-4d69-efc9-98e42d7cdf54"
      },
      "execution_count": 62,
      "outputs": [
        {
          "output_type": "stream",
          "name": "stdout",
          "text": [
            "<class 'pandas.core.frame.DataFrame'>\n",
            "RangeIndex: 5376 entries, 0 to 5375\n",
            "Data columns (total 19 columns):\n",
            " #   Column                                            Non-Null Count  Dtype  \n",
            "---  ------                                            --------------  -----  \n",
            " 0   Crash Severity                                    5376 non-null   int64  \n",
            " 1   Crash Time                                        5376 non-null   float64\n",
            " 2   Vehicle Damage Rating 1 - Severity                5376 non-null   int64  \n",
            " 3   Person Age                                        5376 non-null   float64\n",
            " 4   Day_Sin                                           5376 non-null   float64\n",
            " 5   Day_Cos                                           5376 non-null   float64\n",
            " 6   y                                                 5376 non-null   float64\n",
            " 7   Vehicle Model Year Binned_2011-2020               5376 non-null   bool   \n",
            " 8   Vehicle Model Year Binned_2021-present            5376 non-null   bool   \n",
            " 9   Weather Condition_2 - CLOUDY                      5376 non-null   bool   \n",
            " 10  Weather Condition_3 - RAIN                        5376 non-null   bool   \n",
            " 11  Weather Condition_4 - SLEET/HAIL                  5376 non-null   bool   \n",
            " 12  Weather Condition_5 - SNOW                        5376 non-null   bool   \n",
            " 13  Weather Condition_6 - FOG                         5376 non-null   bool   \n",
            " 14  Person Ethnicity_B - BLACK                        5376 non-null   bool   \n",
            " 15  Person Ethnicity_H - HISPANIC                     5376 non-null   bool   \n",
            " 16  Person Ethnicity_I - AMER. INDIAN/ALASKAN NATIVE  5376 non-null   bool   \n",
            " 17  Person Ethnicity_W - WHITE                        5376 non-null   bool   \n",
            " 18  Person Gender_2 - FEMALE                          5376 non-null   bool   \n",
            "dtypes: bool(12), float64(5), int64(2)\n",
            "memory usage: 357.1 KB\n"
          ]
        }
      ]
    },
    {
      "cell_type": "markdown",
      "source": [
        "**Test Data preprocessing**"
      ],
      "metadata": {
        "id": "mYSyNXviixom"
      }
    },
    {
      "cell_type": "code",
      "source": [
        "df_test.info()"
      ],
      "metadata": {
        "colab": {
          "base_uri": "https://localhost:8080/"
        },
        "id": "SOccqzsJT-Ll",
        "outputId": "2b5f47b8-ccbf-4109-e670-335f9b46ed47"
      },
      "execution_count": 63,
      "outputs": [
        {
          "output_type": "stream",
          "name": "stdout",
          "text": [
            "<class 'pandas.core.frame.DataFrame'>\n",
            "RangeIndex: 948 entries, 0 to 947\n",
            "Data columns (total 18 columns):\n",
            " #   Column                              Non-Null Count  Dtype  \n",
            "---  ------                              --------------  -----  \n",
            " 0   Unnamed: 0                          948 non-null    int64  \n",
            " 1   Crash ID                            930 non-null    float64\n",
            " 2   Crash Date                          919 non-null    object \n",
            " 3   Crash Severity                      928 non-null    object \n",
            " 4   Day of Week                         924 non-null    object \n",
            " 5   Nearest Trauma Center Distance      927 non-null    object \n",
            " 6   Time Arrived                        934 non-null    object \n",
            " 7   Time Notified                       930 non-null    object \n",
            " 8   Weather Condition                   948 non-null    object \n",
            " 9   Autonomous Level Engaged            929 non-null    object \n",
            " 10  Autonomous Unit - Reported          926 non-null    object \n",
            " 11  Vehicle Damage Rating 1 - Severity  928 non-null    object \n",
            " 12  Vehicle Model Year                  936 non-null    object \n",
            " 13  Person Age                          929 non-null    object \n",
            " 14  Person Alcohol Result               933 non-null    object \n",
            " 15  Person Drug Test Result             931 non-null    object \n",
            " 16  Person Ethnicity                    948 non-null    object \n",
            " 17  Person Gender                       926 non-null    object \n",
            "dtypes: float64(1), int64(1), object(16)\n",
            "memory usage: 133.4+ KB\n"
          ]
        }
      ]
    },
    {
      "cell_type": "code",
      "source": [
        "df_test['Crash Severity'].value_counts()"
      ],
      "metadata": {
        "colab": {
          "base_uri": "https://localhost:8080/",
          "height": 303
        },
        "id": "qbjjbqbdT-Iy",
        "outputId": "a69f069b-b8d5-4ce6-dcf9-43cfbdf6e59e"
      },
      "execution_count": 64,
      "outputs": [
        {
          "output_type": "execute_result",
          "data": {
            "text/plain": [
              "Crash Severity\n",
              "N - NOT INJURED                 616\n",
              "C - POSSIBLE INJURY             136\n",
              "B - SUSPECTED MINOR INJURY      120\n",
              "99 - UNKNOWN                     27\n",
              "A - SUSPECTED SERIOUS INJURY     27\n",
              "K - FATAL INJURY                  2\n",
              "Name: count, dtype: int64"
            ],
            "text/html": [
              "<div>\n",
              "<style scoped>\n",
              "    .dataframe tbody tr th:only-of-type {\n",
              "        vertical-align: middle;\n",
              "    }\n",
              "\n",
              "    .dataframe tbody tr th {\n",
              "        vertical-align: top;\n",
              "    }\n",
              "\n",
              "    .dataframe thead th {\n",
              "        text-align: right;\n",
              "    }\n",
              "</style>\n",
              "<table border=\"1\" class=\"dataframe\">\n",
              "  <thead>\n",
              "    <tr style=\"text-align: right;\">\n",
              "      <th></th>\n",
              "      <th>count</th>\n",
              "    </tr>\n",
              "    <tr>\n",
              "      <th>Crash Severity</th>\n",
              "      <th></th>\n",
              "    </tr>\n",
              "  </thead>\n",
              "  <tbody>\n",
              "    <tr>\n",
              "      <th>N - NOT INJURED</th>\n",
              "      <td>616</td>\n",
              "    </tr>\n",
              "    <tr>\n",
              "      <th>C - POSSIBLE INJURY</th>\n",
              "      <td>136</td>\n",
              "    </tr>\n",
              "    <tr>\n",
              "      <th>B - SUSPECTED MINOR INJURY</th>\n",
              "      <td>120</td>\n",
              "    </tr>\n",
              "    <tr>\n",
              "      <th>99 - UNKNOWN</th>\n",
              "      <td>27</td>\n",
              "    </tr>\n",
              "    <tr>\n",
              "      <th>A - SUSPECTED SERIOUS INJURY</th>\n",
              "      <td>27</td>\n",
              "    </tr>\n",
              "    <tr>\n",
              "      <th>K - FATAL INJURY</th>\n",
              "      <td>2</td>\n",
              "    </tr>\n",
              "  </tbody>\n",
              "</table>\n",
              "</div><br><label><b>dtype:</b> int64</label>"
            ]
          },
          "metadata": {},
          "execution_count": 64
        }
      ]
    },
    {
      "cell_type": "code",
      "source": [
        "mapping = {\n",
        "    'N - NOT INJURED': 0,\n",
        "    'B - SUSPECTED MINOR INJURY': 1,\n",
        "    'C - POSSIBLE INJURY': 2,\n",
        "    'A - SUSPECTED SERIOUS INJURY': 3,\n",
        "    'K - FATAL INJURY': 4\n",
        "}\n",
        "df_test['Crash Severity'].replace('99 - UNKNOWN', pd.NA, inplace=True)\n",
        "\n",
        "df_test['Crash Severity'].isna().sum()"
      ],
      "metadata": {
        "colab": {
          "base_uri": "https://localhost:8080/"
        },
        "id": "geaj0mUkT-Gt",
        "outputId": "82778d36-2de8-4889-f3fd-f54627b0fd50"
      },
      "execution_count": 65,
      "outputs": [
        {
          "output_type": "execute_result",
          "data": {
            "text/plain": [
              "47"
            ]
          },
          "metadata": {},
          "execution_count": 65
        }
      ]
    },
    {
      "cell_type": "code",
      "source": [
        "# Imputing missing values with mode (most common severity)\n",
        "most_common = df_test['Crash Severity'].mode()[0]\n",
        "df_test['Crash Severity'].fillna(most_common, inplace=True)"
      ],
      "metadata": {
        "id": "SxruiEpPT-EN"
      },
      "execution_count": 66,
      "outputs": []
    },
    {
      "cell_type": "code",
      "source": [
        "df_test['Crash Severity'] = df_test['Crash Severity'].map(mapping)"
      ],
      "metadata": {
        "id": "B9J4SpBwT-Bx"
      },
      "execution_count": 67,
      "outputs": []
    },
    {
      "cell_type": "code",
      "source": [
        "df_test['Crash Severity'].value_counts()"
      ],
      "metadata": {
        "colab": {
          "base_uri": "https://localhost:8080/",
          "height": 272
        },
        "id": "ygN0RxeQT9_U",
        "outputId": "aa028ca5-aae2-4729-c9b1-5b8e8acc56d0"
      },
      "execution_count": 68,
      "outputs": [
        {
          "output_type": "execute_result",
          "data": {
            "text/plain": [
              "Crash Severity\n",
              "0    663\n",
              "2    136\n",
              "1    120\n",
              "3     27\n",
              "4      2\n",
              "Name: count, dtype: int64"
            ],
            "text/html": [
              "<div>\n",
              "<style scoped>\n",
              "    .dataframe tbody tr th:only-of-type {\n",
              "        vertical-align: middle;\n",
              "    }\n",
              "\n",
              "    .dataframe tbody tr th {\n",
              "        vertical-align: top;\n",
              "    }\n",
              "\n",
              "    .dataframe thead th {\n",
              "        text-align: right;\n",
              "    }\n",
              "</style>\n",
              "<table border=\"1\" class=\"dataframe\">\n",
              "  <thead>\n",
              "    <tr style=\"text-align: right;\">\n",
              "      <th></th>\n",
              "      <th>count</th>\n",
              "    </tr>\n",
              "    <tr>\n",
              "      <th>Crash Severity</th>\n",
              "      <th></th>\n",
              "    </tr>\n",
              "  </thead>\n",
              "  <tbody>\n",
              "    <tr>\n",
              "      <th>0</th>\n",
              "      <td>663</td>\n",
              "    </tr>\n",
              "    <tr>\n",
              "      <th>2</th>\n",
              "      <td>136</td>\n",
              "    </tr>\n",
              "    <tr>\n",
              "      <th>1</th>\n",
              "      <td>120</td>\n",
              "    </tr>\n",
              "    <tr>\n",
              "      <th>3</th>\n",
              "      <td>27</td>\n",
              "    </tr>\n",
              "    <tr>\n",
              "      <th>4</th>\n",
              "      <td>2</td>\n",
              "    </tr>\n",
              "  </tbody>\n",
              "</table>\n",
              "</div><br><label><b>dtype:</b> int64</label>"
            ]
          },
          "metadata": {},
          "execution_count": 68
        }
      ]
    },
    {
      "cell_type": "code",
      "source": [
        "df_test.info()"
      ],
      "metadata": {
        "colab": {
          "base_uri": "https://localhost:8080/"
        },
        "id": "WxQoV5ZvT99I",
        "outputId": "392ea021-a185-4525-a69e-603455c62109"
      },
      "execution_count": 69,
      "outputs": [
        {
          "output_type": "stream",
          "name": "stdout",
          "text": [
            "<class 'pandas.core.frame.DataFrame'>\n",
            "RangeIndex: 948 entries, 0 to 947\n",
            "Data columns (total 18 columns):\n",
            " #   Column                              Non-Null Count  Dtype  \n",
            "---  ------                              --------------  -----  \n",
            " 0   Unnamed: 0                          948 non-null    int64  \n",
            " 1   Crash ID                            930 non-null    float64\n",
            " 2   Crash Date                          919 non-null    object \n",
            " 3   Crash Severity                      948 non-null    int64  \n",
            " 4   Day of Week                         924 non-null    object \n",
            " 5   Nearest Trauma Center Distance      927 non-null    object \n",
            " 6   Time Arrived                        934 non-null    object \n",
            " 7   Time Notified                       930 non-null    object \n",
            " 8   Weather Condition                   948 non-null    object \n",
            " 9   Autonomous Level Engaged            929 non-null    object \n",
            " 10  Autonomous Unit - Reported          926 non-null    object \n",
            " 11  Vehicle Damage Rating 1 - Severity  928 non-null    object \n",
            " 12  Vehicle Model Year                  936 non-null    object \n",
            " 13  Person Age                          929 non-null    object \n",
            " 14  Person Alcohol Result               933 non-null    object \n",
            " 15  Person Drug Test Result             931 non-null    object \n",
            " 16  Person Ethnicity                    948 non-null    object \n",
            " 17  Person Gender                       926 non-null    object \n",
            "dtypes: float64(1), int64(2), object(15)\n",
            "memory usage: 133.4+ KB\n"
          ]
        }
      ]
    },
    {
      "cell_type": "code",
      "source": [
        "df_test['Day of Week'].value_counts()"
      ],
      "metadata": {
        "colab": {
          "base_uri": "https://localhost:8080/",
          "height": 334
        },
        "id": "v4gEZXOYT96v",
        "outputId": "3589d1ac-4b49-4eef-b408-ce944170c749"
      },
      "execution_count": 70,
      "outputs": [
        {
          "output_type": "execute_result",
          "data": {
            "text/plain": [
              "Day of Week\n",
              "FRIDAY       154\n",
              "THURSDAY     153\n",
              "MONDAY       151\n",
              "WEDNESDAY    135\n",
              "TUESDAY      129\n",
              "SATURDAY     112\n",
              "SUNDAY        90\n",
              "Name: count, dtype: int64"
            ],
            "text/html": [
              "<div>\n",
              "<style scoped>\n",
              "    .dataframe tbody tr th:only-of-type {\n",
              "        vertical-align: middle;\n",
              "    }\n",
              "\n",
              "    .dataframe tbody tr th {\n",
              "        vertical-align: top;\n",
              "    }\n",
              "\n",
              "    .dataframe thead th {\n",
              "        text-align: right;\n",
              "    }\n",
              "</style>\n",
              "<table border=\"1\" class=\"dataframe\">\n",
              "  <thead>\n",
              "    <tr style=\"text-align: right;\">\n",
              "      <th></th>\n",
              "      <th>count</th>\n",
              "    </tr>\n",
              "    <tr>\n",
              "      <th>Day of Week</th>\n",
              "      <th></th>\n",
              "    </tr>\n",
              "  </thead>\n",
              "  <tbody>\n",
              "    <tr>\n",
              "      <th>FRIDAY</th>\n",
              "      <td>154</td>\n",
              "    </tr>\n",
              "    <tr>\n",
              "      <th>THURSDAY</th>\n",
              "      <td>153</td>\n",
              "    </tr>\n",
              "    <tr>\n",
              "      <th>MONDAY</th>\n",
              "      <td>151</td>\n",
              "    </tr>\n",
              "    <tr>\n",
              "      <th>WEDNESDAY</th>\n",
              "      <td>135</td>\n",
              "    </tr>\n",
              "    <tr>\n",
              "      <th>TUESDAY</th>\n",
              "      <td>129</td>\n",
              "    </tr>\n",
              "    <tr>\n",
              "      <th>SATURDAY</th>\n",
              "      <td>112</td>\n",
              "    </tr>\n",
              "    <tr>\n",
              "      <th>SUNDAY</th>\n",
              "      <td>90</td>\n",
              "    </tr>\n",
              "  </tbody>\n",
              "</table>\n",
              "</div><br><label><b>dtype:</b> int64</label>"
            ]
          },
          "metadata": {},
          "execution_count": 70
        }
      ]
    },
    {
      "cell_type": "code",
      "source": [
        "df_test['Day of Week'].fillna('FRIDAY', inplace=True)"
      ],
      "metadata": {
        "id": "6oAZ1dcYjVZv"
      },
      "execution_count": 71,
      "outputs": []
    },
    {
      "cell_type": "code",
      "source": [
        "df_test['Day of Week'].isna().sum()"
      ],
      "metadata": {
        "colab": {
          "base_uri": "https://localhost:8080/"
        },
        "id": "02NSo2E0jVWX",
        "outputId": "096c9acf-28bf-4ef1-9e8c-0c53bcf532ee"
      },
      "execution_count": 72,
      "outputs": [
        {
          "output_type": "execute_result",
          "data": {
            "text/plain": [
              "0"
            ]
          },
          "metadata": {},
          "execution_count": 72
        }
      ]
    },
    {
      "cell_type": "code",
      "source": [
        "import numpy as np\n",
        "\n",
        "# Mapping days to numbers (Monday = 0, ..., Sunday = 6)\n",
        "day_mapping_1 = {\n",
        "    'MONDAY': 0, 'TUESDAY': 1, 'WEDNESDAY': 2, 'THURSDAY': 3,\n",
        "    'FRIDAY': 4, 'SATURDAY': 5, 'SUNDAY': 6\n",
        "}\n",
        "\n",
        "# Applying mapping\n",
        "df_test['Day of Week Num'] = df_test['Day of Week'].map(day_mapping_1)\n",
        "\n",
        "# Applying sine and cosine transformation\n",
        "df_test['Day_Sin'] = np.sin(2 * np.pi * df_test['Day of Week Num'] / 7)\n",
        "df_test['Day_Cos'] = np.cos(2 * np.pi * df_test['Day of Week Num'] / 7)\n",
        "\n",
        "# Dropping the original \"Day of Week\" column\n",
        "df_test.drop(columns=['Day of Week', 'Day of Week Num'], inplace=True)"
      ],
      "metadata": {
        "id": "Eym1SVZWjVUB"
      },
      "execution_count": 73,
      "outputs": []
    },
    {
      "cell_type": "code",
      "source": [
        "df_test.info()"
      ],
      "metadata": {
        "colab": {
          "base_uri": "https://localhost:8080/"
        },
        "id": "f28C8omAjVRe",
        "outputId": "fb36bc58-50ee-4dfc-e5c4-673b53947e82"
      },
      "execution_count": 74,
      "outputs": [
        {
          "output_type": "stream",
          "name": "stdout",
          "text": [
            "<class 'pandas.core.frame.DataFrame'>\n",
            "RangeIndex: 948 entries, 0 to 947\n",
            "Data columns (total 19 columns):\n",
            " #   Column                              Non-Null Count  Dtype  \n",
            "---  ------                              --------------  -----  \n",
            " 0   Unnamed: 0                          948 non-null    int64  \n",
            " 1   Crash ID                            930 non-null    float64\n",
            " 2   Crash Date                          919 non-null    object \n",
            " 3   Crash Severity                      948 non-null    int64  \n",
            " 4   Nearest Trauma Center Distance      927 non-null    object \n",
            " 5   Time Arrived                        934 non-null    object \n",
            " 6   Time Notified                       930 non-null    object \n",
            " 7   Weather Condition                   948 non-null    object \n",
            " 8   Autonomous Level Engaged            929 non-null    object \n",
            " 9   Autonomous Unit - Reported          926 non-null    object \n",
            " 10  Vehicle Damage Rating 1 - Severity  928 non-null    object \n",
            " 11  Vehicle Model Year                  936 non-null    object \n",
            " 12  Person Age                          929 non-null    object \n",
            " 13  Person Alcohol Result               933 non-null    object \n",
            " 14  Person Drug Test Result             931 non-null    object \n",
            " 15  Person Ethnicity                    948 non-null    object \n",
            " 16  Person Gender                       926 non-null    object \n",
            " 17  Day_Sin                             948 non-null    float64\n",
            " 18  Day_Cos                             948 non-null    float64\n",
            "dtypes: float64(3), int64(2), object(14)\n",
            "memory usage: 140.8+ KB\n"
          ]
        }
      ]
    },
    {
      "cell_type": "code",
      "source": [
        "df_test['Nearest Trauma Center Distance'].value_counts()\n",
        "\n",
        "#We'll drop this column since it has a lot of 'No Data' values."
      ],
      "metadata": {
        "colab": {
          "base_uri": "https://localhost:8080/",
          "height": 489
        },
        "id": "8pLb9OP00DZc",
        "outputId": "b31b994d-b50f-4ffe-92c4-983441348c1e"
      },
      "execution_count": 75,
      "outputs": [
        {
          "output_type": "execute_result",
          "data": {
            "text/plain": [
              "Nearest Trauma Center Distance\n",
              "No Data    807\n",
              "5.916        5\n",
              "1.058        3\n",
              "2.087        3\n",
              "4.489        3\n",
              "          ... \n",
              "4.534        1\n",
              "3.902        1\n",
              "0.164        1\n",
              "1.566        1\n",
              "7.296        1\n",
              "Name: count, Length: 98, dtype: int64"
            ],
            "text/html": [
              "<div>\n",
              "<style scoped>\n",
              "    .dataframe tbody tr th:only-of-type {\n",
              "        vertical-align: middle;\n",
              "    }\n",
              "\n",
              "    .dataframe tbody tr th {\n",
              "        vertical-align: top;\n",
              "    }\n",
              "\n",
              "    .dataframe thead th {\n",
              "        text-align: right;\n",
              "    }\n",
              "</style>\n",
              "<table border=\"1\" class=\"dataframe\">\n",
              "  <thead>\n",
              "    <tr style=\"text-align: right;\">\n",
              "      <th></th>\n",
              "      <th>count</th>\n",
              "    </tr>\n",
              "    <tr>\n",
              "      <th>Nearest Trauma Center Distance</th>\n",
              "      <th></th>\n",
              "    </tr>\n",
              "  </thead>\n",
              "  <tbody>\n",
              "    <tr>\n",
              "      <th>No Data</th>\n",
              "      <td>807</td>\n",
              "    </tr>\n",
              "    <tr>\n",
              "      <th>5.916</th>\n",
              "      <td>5</td>\n",
              "    </tr>\n",
              "    <tr>\n",
              "      <th>1.058</th>\n",
              "      <td>3</td>\n",
              "    </tr>\n",
              "    <tr>\n",
              "      <th>2.087</th>\n",
              "      <td>3</td>\n",
              "    </tr>\n",
              "    <tr>\n",
              "      <th>4.489</th>\n",
              "      <td>3</td>\n",
              "    </tr>\n",
              "    <tr>\n",
              "      <th>...</th>\n",
              "      <td>...</td>\n",
              "    </tr>\n",
              "    <tr>\n",
              "      <th>4.534</th>\n",
              "      <td>1</td>\n",
              "    </tr>\n",
              "    <tr>\n",
              "      <th>3.902</th>\n",
              "      <td>1</td>\n",
              "    </tr>\n",
              "    <tr>\n",
              "      <th>0.164</th>\n",
              "      <td>1</td>\n",
              "    </tr>\n",
              "    <tr>\n",
              "      <th>1.566</th>\n",
              "      <td>1</td>\n",
              "    </tr>\n",
              "    <tr>\n",
              "      <th>7.296</th>\n",
              "      <td>1</td>\n",
              "    </tr>\n",
              "  </tbody>\n",
              "</table>\n",
              "<p>98 rows × 1 columns</p>\n",
              "</div><br><label><b>dtype:</b> int64</label>"
            ]
          },
          "metadata": {},
          "execution_count": 75
        }
      ]
    },
    {
      "cell_type": "code",
      "source": [
        "df_test['Time Arrived'].value_counts()\n",
        "\n",
        "#We'll also drop this just like we did for the test dataset because it also has a lot of 'No Data' values."
      ],
      "metadata": {
        "colab": {
          "base_uri": "https://localhost:8080/",
          "height": 489
        },
        "id": "A_FOWDYW0DW9",
        "outputId": "42ff285e-5ab5-423b-c0ef-b0fc7302dc5c"
      },
      "execution_count": 76,
      "outputs": [
        {
          "output_type": "execute_result",
          "data": {
            "text/plain": [
              "Time Arrived\n",
              "No Data    794\n",
              "13:39        3\n",
              "20:17        3\n",
              "17:43        3\n",
              "16:29        3\n",
              "          ... \n",
              "08:16        1\n",
              "19:09        1\n",
              "15:35        1\n",
              "18:55        1\n",
              "08:21        1\n",
              "Name: count, Length: 121, dtype: int64"
            ],
            "text/html": [
              "<div>\n",
              "<style scoped>\n",
              "    .dataframe tbody tr th:only-of-type {\n",
              "        vertical-align: middle;\n",
              "    }\n",
              "\n",
              "    .dataframe tbody tr th {\n",
              "        vertical-align: top;\n",
              "    }\n",
              "\n",
              "    .dataframe thead th {\n",
              "        text-align: right;\n",
              "    }\n",
              "</style>\n",
              "<table border=\"1\" class=\"dataframe\">\n",
              "  <thead>\n",
              "    <tr style=\"text-align: right;\">\n",
              "      <th></th>\n",
              "      <th>count</th>\n",
              "    </tr>\n",
              "    <tr>\n",
              "      <th>Time Arrived</th>\n",
              "      <th></th>\n",
              "    </tr>\n",
              "  </thead>\n",
              "  <tbody>\n",
              "    <tr>\n",
              "      <th>No Data</th>\n",
              "      <td>794</td>\n",
              "    </tr>\n",
              "    <tr>\n",
              "      <th>13:39</th>\n",
              "      <td>3</td>\n",
              "    </tr>\n",
              "    <tr>\n",
              "      <th>20:17</th>\n",
              "      <td>3</td>\n",
              "    </tr>\n",
              "    <tr>\n",
              "      <th>17:43</th>\n",
              "      <td>3</td>\n",
              "    </tr>\n",
              "    <tr>\n",
              "      <th>16:29</th>\n",
              "      <td>3</td>\n",
              "    </tr>\n",
              "    <tr>\n",
              "      <th>...</th>\n",
              "      <td>...</td>\n",
              "    </tr>\n",
              "    <tr>\n",
              "      <th>08:16</th>\n",
              "      <td>1</td>\n",
              "    </tr>\n",
              "    <tr>\n",
              "      <th>19:09</th>\n",
              "      <td>1</td>\n",
              "    </tr>\n",
              "    <tr>\n",
              "      <th>15:35</th>\n",
              "      <td>1</td>\n",
              "    </tr>\n",
              "    <tr>\n",
              "      <th>18:55</th>\n",
              "      <td>1</td>\n",
              "    </tr>\n",
              "    <tr>\n",
              "      <th>08:21</th>\n",
              "      <td>1</td>\n",
              "    </tr>\n",
              "  </tbody>\n",
              "</table>\n",
              "<p>121 rows × 1 columns</p>\n",
              "</div><br><label><b>dtype:</b> int64</label>"
            ]
          },
          "metadata": {},
          "execution_count": 76
        }
      ]
    },
    {
      "cell_type": "code",
      "source": [
        "# Making sure that 'Vehicle Model Year' and 'Person Age' are numeric, coercing errors to NaN\n",
        "df_test['Vehicle Model Year'] = pd.to_numeric(df_test['Vehicle Model Year'], errors='coerce')\n",
        "df_test['Person Age'] = pd.to_numeric(df_test['Person Age'], errors='coerce')"
      ],
      "metadata": {
        "id": "pmAjCBVN0DUQ"
      },
      "execution_count": 77,
      "outputs": []
    },
    {
      "cell_type": "code",
      "source": [
        "import pandas as pd\n",
        "\n",
        "# Defining the bin edges for Vehicle Model Year\n",
        "bins_1 = [2000, 2010, 2020, 2025]  # You can adjust this range as needed\n",
        "labels_1 = ['2000-2010', '2011-2020', '2021-present']  # Labels for the bins\n",
        "\n",
        "# Creating a new column for binned vehicle model year\n",
        "df_test['Vehicle Model Year Binned'] = pd.cut(df_test['Vehicle Model Year'], bins=bins_1, labels=labels_1, right=False)\n",
        "\n",
        "# Function to get the first mode of a series (for categorical columns)\n",
        "def get_mode(series):\n",
        "    return series.mode()[0] if not series.mode().empty else None\n",
        "\n",
        "# Aggregating the data by 'Crash ID' and using the binned vehicle model year\n",
        "df_aggregated_1 = df_test.groupby('Crash ID').agg({\n",
        "    'Crash Severity': get_mode,  # Mode for categorical features\n",
        "    'Weather Condition': get_mode,  # Mode for weather condition\n",
        "    'Autonomous Level Engaged': get_mode,  # Mode for autonomous level\n",
        "    'Vehicle Model Year Binned': get_mode,  # Mode for binned vehicle model years\n",
        "    'Person Age': 'mean',  # Mean for age\n",
        "    'Person Gender': get_mode  # Mode for gender\n",
        "}).reset_index()\n",
        "\n",
        "print(df_aggregated_1.head())\n"
      ],
      "metadata": {
        "colab": {
          "base_uri": "https://localhost:8080/"
        },
        "id": "UEABGd4K0DR7",
        "outputId": "cdf4ce29-e85d-4ecd-8c0a-f76097a1a387"
      },
      "execution_count": 78,
      "outputs": [
        {
          "output_type": "stream",
          "name": "stdout",
          "text": [
            "     Crash ID  Crash Severity Weather Condition Autonomous Level Engaged  \\\n",
            "0  19521585.0               0         1 - CLEAR        0 - NO AUTOMATION   \n",
            "1  19522283.0               1         1 - CLEAR        0 - NO AUTOMATION   \n",
            "2  19524604.0               0         1 - CLEAR        0 - NO AUTOMATION   \n",
            "3  19524612.0               0         1 - CLEAR        0 - NO AUTOMATION   \n",
            "4  19524615.0               1         1 - CLEAR        0 - NO AUTOMATION   \n",
            "\n",
            "  Vehicle Model Year Binned  Person Age Person Gender  \n",
            "0                 2000-2010        63.0    2 - FEMALE  \n",
            "1                 2011-2020        31.0      1 - MALE  \n",
            "2                 2000-2010        44.0      1 - MALE  \n",
            "3                 2000-2010        54.0      1 - MALE  \n",
            "4                 2011-2020        36.0    2 - FEMALE  \n"
          ]
        }
      ]
    },
    {
      "cell_type": "code",
      "source": [
        "df_test['Vehicle Model Year Binned'].value_counts()"
      ],
      "metadata": {
        "colab": {
          "base_uri": "https://localhost:8080/",
          "height": 209
        },
        "id": "cn0dDUbS0DPc",
        "outputId": "15f95e1f-92fe-44d4-8ffe-55d2bf8623c1"
      },
      "execution_count": 79,
      "outputs": [
        {
          "output_type": "execute_result",
          "data": {
            "text/plain": [
              "Vehicle Model Year Binned\n",
              "2011-2020       502\n",
              "2021-present    212\n",
              "2000-2010       162\n",
              "Name: count, dtype: int64"
            ],
            "text/html": [
              "<div>\n",
              "<style scoped>\n",
              "    .dataframe tbody tr th:only-of-type {\n",
              "        vertical-align: middle;\n",
              "    }\n",
              "\n",
              "    .dataframe tbody tr th {\n",
              "        vertical-align: top;\n",
              "    }\n",
              "\n",
              "    .dataframe thead th {\n",
              "        text-align: right;\n",
              "    }\n",
              "</style>\n",
              "<table border=\"1\" class=\"dataframe\">\n",
              "  <thead>\n",
              "    <tr style=\"text-align: right;\">\n",
              "      <th></th>\n",
              "      <th>count</th>\n",
              "    </tr>\n",
              "    <tr>\n",
              "      <th>Vehicle Model Year Binned</th>\n",
              "      <th></th>\n",
              "    </tr>\n",
              "  </thead>\n",
              "  <tbody>\n",
              "    <tr>\n",
              "      <th>2011-2020</th>\n",
              "      <td>502</td>\n",
              "    </tr>\n",
              "    <tr>\n",
              "      <th>2021-present</th>\n",
              "      <td>212</td>\n",
              "    </tr>\n",
              "    <tr>\n",
              "      <th>2000-2010</th>\n",
              "      <td>162</td>\n",
              "    </tr>\n",
              "  </tbody>\n",
              "</table>\n",
              "</div><br><label><b>dtype:</b> int64</label>"
            ]
          },
          "metadata": {},
          "execution_count": 79
        }
      ]
    },
    {
      "cell_type": "code",
      "source": [
        "# One-Hot Encoding for 'Vehicle Model Year Binned'\n",
        "df_test = pd.get_dummies(df_test, columns=['Vehicle Model Year Binned'], drop_first=True)\n",
        "\n",
        "print(df_test.head())"
      ],
      "metadata": {
        "colab": {
          "base_uri": "https://localhost:8080/"
        },
        "id": "_l-YPOJv0DNE",
        "outputId": "f1a50ee3-2785-4f61-8518-fcf2368700e0"
      },
      "execution_count": 80,
      "outputs": [
        {
          "output_type": "stream",
          "name": "stdout",
          "text": [
            "   Unnamed: 0    Crash ID  Crash Date  Crash Severity  \\\n",
            "0           0  19896631.0  11/30/2023               0   \n",
            "1           1  19568388.0   5/26/2023               0   \n",
            "2           2  19675565.0   7/29/2023               0   \n",
            "3           3  19636995.0    7/6/2023               0   \n",
            "4           4  19605340.0   6/15/2023               0   \n",
            "\n",
            "  Nearest Trauma Center Distance Time Arrived Time Notified Weather Condition  \\\n",
            "0                        No Data      No Data       No Data           6 - FOG   \n",
            "1                        No Data      No Data       No Data         1 - CLEAR   \n",
            "2                        No Data      No Data       No Data         1 - CLEAR   \n",
            "3                        No Data      No Data       No Data         1 - CLEAR   \n",
            "4                        No Data      No Data       No Data         1 - CLEAR   \n",
            "\n",
            "  Autonomous Level Engaged Autonomous Unit - Reported  \\\n",
            "0        0 - NO AUTOMATION                     2 - NO   \n",
            "1        0 - NO AUTOMATION                     2 - NO   \n",
            "2        0 - NO AUTOMATION                     2 - NO   \n",
            "3        0 - NO AUTOMATION                     2 - NO   \n",
            "4        0 - NO AUTOMATION                     2 - NO   \n",
            "\n",
            "  Vehicle Damage Rating 1 - Severity  Vehicle Model Year  Person Age  \\\n",
            "0                      2 - DAMAGED 2              2010.0        19.0   \n",
            "1                      3 - DAMAGED 3              2015.0        59.0   \n",
            "2                      3 - DAMAGED 3              2009.0        41.0   \n",
            "3                      3 - DAMAGED 3              2020.0        56.0   \n",
            "4                      3 - DAMAGED 3              2019.0        31.0   \n",
            "\n",
            "  Person Alcohol Result Person Drug Test Result Person Ethnicity  \\\n",
            "0               No Data     97 - NOT APPLICABLE        W - WHITE   \n",
            "1               No Data     97 - NOT APPLICABLE        W - WHITE   \n",
            "2               No Data     97 - NOT APPLICABLE        B - BLACK   \n",
            "3               No Data     97 - NOT APPLICABLE        W - WHITE   \n",
            "4               No Data     97 - NOT APPLICABLE        B - BLACK   \n",
            "\n",
            "  Person Gender   Day_Sin   Day_Cos  Vehicle Model Year Binned_2011-2020  \\\n",
            "0      1 - MALE  0.433884 -0.900969                                 True   \n",
            "1      1 - MALE -0.433884 -0.900969                                 True   \n",
            "2    2 - FEMALE -0.974928 -0.222521                                False   \n",
            "3    2 - FEMALE  0.433884 -0.900969                                False   \n",
            "4      1 - MALE  0.433884 -0.900969                                 True   \n",
            "\n",
            "   Vehicle Model Year Binned_2021-present  \n",
            "0                                   False  \n",
            "1                                   False  \n",
            "2                                   False  \n",
            "3                                    True  \n",
            "4                                   False  \n"
          ]
        }
      ]
    },
    {
      "cell_type": "code",
      "source": [
        "df_test['Weather Condition'].value_counts()"
      ],
      "metadata": {
        "colab": {
          "base_uri": "https://localhost:8080/",
          "height": 366
        },
        "id": "bshZ-Cds0DLA",
        "outputId": "b61a99bf-166d-455b-f08f-82a48578089f"
      },
      "execution_count": 81,
      "outputs": [
        {
          "output_type": "execute_result",
          "data": {
            "text/plain": [
              "Weather Condition\n",
              "1 - CLEAR                            743\n",
              "2 - CLOUDY                           101\n",
              "3 - RAIN                              72\n",
              "No Data                               12\n",
              "Unknown                               10\n",
              "99 - UNKNOWN                           6\n",
              "6 - FOG                                3\n",
              "98 - OTHER (EXPLAIN IN NARRATIVE)      1\n",
              "Name: count, dtype: int64"
            ],
            "text/html": [
              "<div>\n",
              "<style scoped>\n",
              "    .dataframe tbody tr th:only-of-type {\n",
              "        vertical-align: middle;\n",
              "    }\n",
              "\n",
              "    .dataframe tbody tr th {\n",
              "        vertical-align: top;\n",
              "    }\n",
              "\n",
              "    .dataframe thead th {\n",
              "        text-align: right;\n",
              "    }\n",
              "</style>\n",
              "<table border=\"1\" class=\"dataframe\">\n",
              "  <thead>\n",
              "    <tr style=\"text-align: right;\">\n",
              "      <th></th>\n",
              "      <th>count</th>\n",
              "    </tr>\n",
              "    <tr>\n",
              "      <th>Weather Condition</th>\n",
              "      <th></th>\n",
              "    </tr>\n",
              "  </thead>\n",
              "  <tbody>\n",
              "    <tr>\n",
              "      <th>1 - CLEAR</th>\n",
              "      <td>743</td>\n",
              "    </tr>\n",
              "    <tr>\n",
              "      <th>2 - CLOUDY</th>\n",
              "      <td>101</td>\n",
              "    </tr>\n",
              "    <tr>\n",
              "      <th>3 - RAIN</th>\n",
              "      <td>72</td>\n",
              "    </tr>\n",
              "    <tr>\n",
              "      <th>No Data</th>\n",
              "      <td>12</td>\n",
              "    </tr>\n",
              "    <tr>\n",
              "      <th>Unknown</th>\n",
              "      <td>10</td>\n",
              "    </tr>\n",
              "    <tr>\n",
              "      <th>99 - UNKNOWN</th>\n",
              "      <td>6</td>\n",
              "    </tr>\n",
              "    <tr>\n",
              "      <th>6 - FOG</th>\n",
              "      <td>3</td>\n",
              "    </tr>\n",
              "    <tr>\n",
              "      <th>98 - OTHER (EXPLAIN IN NARRATIVE)</th>\n",
              "      <td>1</td>\n",
              "    </tr>\n",
              "  </tbody>\n",
              "</table>\n",
              "</div><br><label><b>dtype:</b> int64</label>"
            ]
          },
          "metadata": {},
          "execution_count": 81
        }
      ]
    },
    {
      "cell_type": "code",
      "source": [
        "# Replacing 'Other' and 'No Data' values in 'Weather Condition' with mode\n",
        "mode_weather_condition_1 = df_test['Weather Condition'].mode()[0]\n",
        "\n",
        "# Replacing '98 - OTHER (EXPLAIN IN NARRATIVE)' and 'No Data' with the mode\n",
        "df_test['Weather Condition'].replace(['98 - OTHER (EXPLAIN IN NARRATIVE)', 'No Data'], mode_weather_condition_1, inplace=True)\n",
        "\n",
        "# Handling 'Unknown' values by replacing them with the mode as well\n",
        "df_test['Weather Condition'].replace('99 - UNKNOWN', mode_weather_condition_1, inplace=True)\n",
        "\n",
        "# one-hot encoding for the 'Weather Condition' column\n",
        "df_test = pd.get_dummies(df_test, columns=['Weather Condition'], drop_first=True)\n",
        "\n",
        "df_test.head()"
      ],
      "metadata": {
        "colab": {
          "base_uri": "https://localhost:8080/",
          "height": 469
        },
        "id": "nllb9oZ50DIB",
        "outputId": "3f3ca65e-22ec-4964-b063-811e0eb6ef95"
      },
      "execution_count": 82,
      "outputs": [
        {
          "output_type": "execute_result",
          "data": {
            "text/plain": [
              "   Unnamed: 0    Crash ID  Crash Date  Crash Severity  \\\n",
              "0           0  19896631.0  11/30/2023               0   \n",
              "1           1  19568388.0   5/26/2023               0   \n",
              "2           2  19675565.0   7/29/2023               0   \n",
              "3           3  19636995.0    7/6/2023               0   \n",
              "4           4  19605340.0   6/15/2023               0   \n",
              "\n",
              "  Nearest Trauma Center Distance Time Arrived Time Notified  \\\n",
              "0                        No Data      No Data       No Data   \n",
              "1                        No Data      No Data       No Data   \n",
              "2                        No Data      No Data       No Data   \n",
              "3                        No Data      No Data       No Data   \n",
              "4                        No Data      No Data       No Data   \n",
              "\n",
              "  Autonomous Level Engaged Autonomous Unit - Reported  \\\n",
              "0        0 - NO AUTOMATION                     2 - NO   \n",
              "1        0 - NO AUTOMATION                     2 - NO   \n",
              "2        0 - NO AUTOMATION                     2 - NO   \n",
              "3        0 - NO AUTOMATION                     2 - NO   \n",
              "4        0 - NO AUTOMATION                     2 - NO   \n",
              "\n",
              "  Vehicle Damage Rating 1 - Severity  Vehicle Model Year  Person Age  \\\n",
              "0                      2 - DAMAGED 2              2010.0        19.0   \n",
              "1                      3 - DAMAGED 3              2015.0        59.0   \n",
              "2                      3 - DAMAGED 3              2009.0        41.0   \n",
              "3                      3 - DAMAGED 3              2020.0        56.0   \n",
              "4                      3 - DAMAGED 3              2019.0        31.0   \n",
              "\n",
              "  Person Alcohol Result Person Drug Test Result Person Ethnicity  \\\n",
              "0               No Data     97 - NOT APPLICABLE        W - WHITE   \n",
              "1               No Data     97 - NOT APPLICABLE        W - WHITE   \n",
              "2               No Data     97 - NOT APPLICABLE        B - BLACK   \n",
              "3               No Data     97 - NOT APPLICABLE        W - WHITE   \n",
              "4               No Data     97 - NOT APPLICABLE        B - BLACK   \n",
              "\n",
              "  Person Gender   Day_Sin   Day_Cos  Vehicle Model Year Binned_2011-2020  \\\n",
              "0      1 - MALE  0.433884 -0.900969                                 True   \n",
              "1      1 - MALE -0.433884 -0.900969                                 True   \n",
              "2    2 - FEMALE -0.974928 -0.222521                                False   \n",
              "3    2 - FEMALE  0.433884 -0.900969                                False   \n",
              "4      1 - MALE  0.433884 -0.900969                                 True   \n",
              "\n",
              "   Vehicle Model Year Binned_2021-present  Weather Condition_2 - CLOUDY  \\\n",
              "0                                   False                         False   \n",
              "1                                   False                         False   \n",
              "2                                   False                         False   \n",
              "3                                    True                         False   \n",
              "4                                   False                         False   \n",
              "\n",
              "   Weather Condition_3 - RAIN  Weather Condition_6 - FOG  \\\n",
              "0                       False                       True   \n",
              "1                       False                      False   \n",
              "2                       False                      False   \n",
              "3                       False                      False   \n",
              "4                       False                      False   \n",
              "\n",
              "   Weather Condition_Unknown  \n",
              "0                      False  \n",
              "1                      False  \n",
              "2                      False  \n",
              "3                      False  \n",
              "4                      False  "
            ],
            "text/html": [
              "\n",
              "  <div id=\"df-3c698853-75ef-4fd8-8382-50e9659ec8da\" class=\"colab-df-container\">\n",
              "    <div>\n",
              "<style scoped>\n",
              "    .dataframe tbody tr th:only-of-type {\n",
              "        vertical-align: middle;\n",
              "    }\n",
              "\n",
              "    .dataframe tbody tr th {\n",
              "        vertical-align: top;\n",
              "    }\n",
              "\n",
              "    .dataframe thead th {\n",
              "        text-align: right;\n",
              "    }\n",
              "</style>\n",
              "<table border=\"1\" class=\"dataframe\">\n",
              "  <thead>\n",
              "    <tr style=\"text-align: right;\">\n",
              "      <th></th>\n",
              "      <th>Unnamed: 0</th>\n",
              "      <th>Crash ID</th>\n",
              "      <th>Crash Date</th>\n",
              "      <th>Crash Severity</th>\n",
              "      <th>Nearest Trauma Center Distance</th>\n",
              "      <th>Time Arrived</th>\n",
              "      <th>Time Notified</th>\n",
              "      <th>Autonomous Level Engaged</th>\n",
              "      <th>Autonomous Unit - Reported</th>\n",
              "      <th>Vehicle Damage Rating 1 - Severity</th>\n",
              "      <th>Vehicle Model Year</th>\n",
              "      <th>Person Age</th>\n",
              "      <th>Person Alcohol Result</th>\n",
              "      <th>Person Drug Test Result</th>\n",
              "      <th>Person Ethnicity</th>\n",
              "      <th>Person Gender</th>\n",
              "      <th>Day_Sin</th>\n",
              "      <th>Day_Cos</th>\n",
              "      <th>Vehicle Model Year Binned_2011-2020</th>\n",
              "      <th>Vehicle Model Year Binned_2021-present</th>\n",
              "      <th>Weather Condition_2 - CLOUDY</th>\n",
              "      <th>Weather Condition_3 - RAIN</th>\n",
              "      <th>Weather Condition_6 - FOG</th>\n",
              "      <th>Weather Condition_Unknown</th>\n",
              "    </tr>\n",
              "  </thead>\n",
              "  <tbody>\n",
              "    <tr>\n",
              "      <th>0</th>\n",
              "      <td>0</td>\n",
              "      <td>19896631.0</td>\n",
              "      <td>11/30/2023</td>\n",
              "      <td>0</td>\n",
              "      <td>No Data</td>\n",
              "      <td>No Data</td>\n",
              "      <td>No Data</td>\n",
              "      <td>0 - NO AUTOMATION</td>\n",
              "      <td>2 - NO</td>\n",
              "      <td>2 - DAMAGED 2</td>\n",
              "      <td>2010.0</td>\n",
              "      <td>19.0</td>\n",
              "      <td>No Data</td>\n",
              "      <td>97 - NOT APPLICABLE</td>\n",
              "      <td>W - WHITE</td>\n",
              "      <td>1 - MALE</td>\n",
              "      <td>0.433884</td>\n",
              "      <td>-0.900969</td>\n",
              "      <td>True</td>\n",
              "      <td>False</td>\n",
              "      <td>False</td>\n",
              "      <td>False</td>\n",
              "      <td>True</td>\n",
              "      <td>False</td>\n",
              "    </tr>\n",
              "    <tr>\n",
              "      <th>1</th>\n",
              "      <td>1</td>\n",
              "      <td>19568388.0</td>\n",
              "      <td>5/26/2023</td>\n",
              "      <td>0</td>\n",
              "      <td>No Data</td>\n",
              "      <td>No Data</td>\n",
              "      <td>No Data</td>\n",
              "      <td>0 - NO AUTOMATION</td>\n",
              "      <td>2 - NO</td>\n",
              "      <td>3 - DAMAGED 3</td>\n",
              "      <td>2015.0</td>\n",
              "      <td>59.0</td>\n",
              "      <td>No Data</td>\n",
              "      <td>97 - NOT APPLICABLE</td>\n",
              "      <td>W - WHITE</td>\n",
              "      <td>1 - MALE</td>\n",
              "      <td>-0.433884</td>\n",
              "      <td>-0.900969</td>\n",
              "      <td>True</td>\n",
              "      <td>False</td>\n",
              "      <td>False</td>\n",
              "      <td>False</td>\n",
              "      <td>False</td>\n",
              "      <td>False</td>\n",
              "    </tr>\n",
              "    <tr>\n",
              "      <th>2</th>\n",
              "      <td>2</td>\n",
              "      <td>19675565.0</td>\n",
              "      <td>7/29/2023</td>\n",
              "      <td>0</td>\n",
              "      <td>No Data</td>\n",
              "      <td>No Data</td>\n",
              "      <td>No Data</td>\n",
              "      <td>0 - NO AUTOMATION</td>\n",
              "      <td>2 - NO</td>\n",
              "      <td>3 - DAMAGED 3</td>\n",
              "      <td>2009.0</td>\n",
              "      <td>41.0</td>\n",
              "      <td>No Data</td>\n",
              "      <td>97 - NOT APPLICABLE</td>\n",
              "      <td>B - BLACK</td>\n",
              "      <td>2 - FEMALE</td>\n",
              "      <td>-0.974928</td>\n",
              "      <td>-0.222521</td>\n",
              "      <td>False</td>\n",
              "      <td>False</td>\n",
              "      <td>False</td>\n",
              "      <td>False</td>\n",
              "      <td>False</td>\n",
              "      <td>False</td>\n",
              "    </tr>\n",
              "    <tr>\n",
              "      <th>3</th>\n",
              "      <td>3</td>\n",
              "      <td>19636995.0</td>\n",
              "      <td>7/6/2023</td>\n",
              "      <td>0</td>\n",
              "      <td>No Data</td>\n",
              "      <td>No Data</td>\n",
              "      <td>No Data</td>\n",
              "      <td>0 - NO AUTOMATION</td>\n",
              "      <td>2 - NO</td>\n",
              "      <td>3 - DAMAGED 3</td>\n",
              "      <td>2020.0</td>\n",
              "      <td>56.0</td>\n",
              "      <td>No Data</td>\n",
              "      <td>97 - NOT APPLICABLE</td>\n",
              "      <td>W - WHITE</td>\n",
              "      <td>2 - FEMALE</td>\n",
              "      <td>0.433884</td>\n",
              "      <td>-0.900969</td>\n",
              "      <td>False</td>\n",
              "      <td>True</td>\n",
              "      <td>False</td>\n",
              "      <td>False</td>\n",
              "      <td>False</td>\n",
              "      <td>False</td>\n",
              "    </tr>\n",
              "    <tr>\n",
              "      <th>4</th>\n",
              "      <td>4</td>\n",
              "      <td>19605340.0</td>\n",
              "      <td>6/15/2023</td>\n",
              "      <td>0</td>\n",
              "      <td>No Data</td>\n",
              "      <td>No Data</td>\n",
              "      <td>No Data</td>\n",
              "      <td>0 - NO AUTOMATION</td>\n",
              "      <td>2 - NO</td>\n",
              "      <td>3 - DAMAGED 3</td>\n",
              "      <td>2019.0</td>\n",
              "      <td>31.0</td>\n",
              "      <td>No Data</td>\n",
              "      <td>97 - NOT APPLICABLE</td>\n",
              "      <td>B - BLACK</td>\n",
              "      <td>1 - MALE</td>\n",
              "      <td>0.433884</td>\n",
              "      <td>-0.900969</td>\n",
              "      <td>True</td>\n",
              "      <td>False</td>\n",
              "      <td>False</td>\n",
              "      <td>False</td>\n",
              "      <td>False</td>\n",
              "      <td>False</td>\n",
              "    </tr>\n",
              "  </tbody>\n",
              "</table>\n",
              "</div>\n",
              "    <div class=\"colab-df-buttons\">\n",
              "\n",
              "  <div class=\"colab-df-container\">\n",
              "    <button class=\"colab-df-convert\" onclick=\"convertToInteractive('df-3c698853-75ef-4fd8-8382-50e9659ec8da')\"\n",
              "            title=\"Convert this dataframe to an interactive table.\"\n",
              "            style=\"display:none;\">\n",
              "\n",
              "  <svg xmlns=\"http://www.w3.org/2000/svg\" height=\"24px\" viewBox=\"0 -960 960 960\">\n",
              "    <path d=\"M120-120v-720h720v720H120Zm60-500h600v-160H180v160Zm220 220h160v-160H400v160Zm0 220h160v-160H400v160ZM180-400h160v-160H180v160Zm440 0h160v-160H620v160ZM180-180h160v-160H180v160Zm440 0h160v-160H620v160Z\"/>\n",
              "  </svg>\n",
              "    </button>\n",
              "\n",
              "  <style>\n",
              "    .colab-df-container {\n",
              "      display:flex;\n",
              "      gap: 12px;\n",
              "    }\n",
              "\n",
              "    .colab-df-convert {\n",
              "      background-color: #E8F0FE;\n",
              "      border: none;\n",
              "      border-radius: 50%;\n",
              "      cursor: pointer;\n",
              "      display: none;\n",
              "      fill: #1967D2;\n",
              "      height: 32px;\n",
              "      padding: 0 0 0 0;\n",
              "      width: 32px;\n",
              "    }\n",
              "\n",
              "    .colab-df-convert:hover {\n",
              "      background-color: #E2EBFA;\n",
              "      box-shadow: 0px 1px 2px rgba(60, 64, 67, 0.3), 0px 1px 3px 1px rgba(60, 64, 67, 0.15);\n",
              "      fill: #174EA6;\n",
              "    }\n",
              "\n",
              "    .colab-df-buttons div {\n",
              "      margin-bottom: 4px;\n",
              "    }\n",
              "\n",
              "    [theme=dark] .colab-df-convert {\n",
              "      background-color: #3B4455;\n",
              "      fill: #D2E3FC;\n",
              "    }\n",
              "\n",
              "    [theme=dark] .colab-df-convert:hover {\n",
              "      background-color: #434B5C;\n",
              "      box-shadow: 0px 1px 3px 1px rgba(0, 0, 0, 0.15);\n",
              "      filter: drop-shadow(0px 1px 2px rgba(0, 0, 0, 0.3));\n",
              "      fill: #FFFFFF;\n",
              "    }\n",
              "  </style>\n",
              "\n",
              "    <script>\n",
              "      const buttonEl =\n",
              "        document.querySelector('#df-3c698853-75ef-4fd8-8382-50e9659ec8da button.colab-df-convert');\n",
              "      buttonEl.style.display =\n",
              "        google.colab.kernel.accessAllowed ? 'block' : 'none';\n",
              "\n",
              "      async function convertToInteractive(key) {\n",
              "        const element = document.querySelector('#df-3c698853-75ef-4fd8-8382-50e9659ec8da');\n",
              "        const dataTable =\n",
              "          await google.colab.kernel.invokeFunction('convertToInteractive',\n",
              "                                                    [key], {});\n",
              "        if (!dataTable) return;\n",
              "\n",
              "        const docLinkHtml = 'Like what you see? Visit the ' +\n",
              "          '<a target=\"_blank\" href=https://colab.research.google.com/notebooks/data_table.ipynb>data table notebook</a>'\n",
              "          + ' to learn more about interactive tables.';\n",
              "        element.innerHTML = '';\n",
              "        dataTable['output_type'] = 'display_data';\n",
              "        await google.colab.output.renderOutput(dataTable, element);\n",
              "        const docLink = document.createElement('div');\n",
              "        docLink.innerHTML = docLinkHtml;\n",
              "        element.appendChild(docLink);\n",
              "      }\n",
              "    </script>\n",
              "  </div>\n",
              "\n",
              "\n",
              "<div id=\"df-4219634a-3787-4f51-8f68-55ddfaa122b4\">\n",
              "  <button class=\"colab-df-quickchart\" onclick=\"quickchart('df-4219634a-3787-4f51-8f68-55ddfaa122b4')\"\n",
              "            title=\"Suggest charts\"\n",
              "            style=\"display:none;\">\n",
              "\n",
              "<svg xmlns=\"http://www.w3.org/2000/svg\" height=\"24px\"viewBox=\"0 0 24 24\"\n",
              "     width=\"24px\">\n",
              "    <g>\n",
              "        <path d=\"M19 3H5c-1.1 0-2 .9-2 2v14c0 1.1.9 2 2 2h14c1.1 0 2-.9 2-2V5c0-1.1-.9-2-2-2zM9 17H7v-7h2v7zm4 0h-2V7h2v10zm4 0h-2v-4h2v4z\"/>\n",
              "    </g>\n",
              "</svg>\n",
              "  </button>\n",
              "\n",
              "<style>\n",
              "  .colab-df-quickchart {\n",
              "      --bg-color: #E8F0FE;\n",
              "      --fill-color: #1967D2;\n",
              "      --hover-bg-color: #E2EBFA;\n",
              "      --hover-fill-color: #174EA6;\n",
              "      --disabled-fill-color: #AAA;\n",
              "      --disabled-bg-color: #DDD;\n",
              "  }\n",
              "\n",
              "  [theme=dark] .colab-df-quickchart {\n",
              "      --bg-color: #3B4455;\n",
              "      --fill-color: #D2E3FC;\n",
              "      --hover-bg-color: #434B5C;\n",
              "      --hover-fill-color: #FFFFFF;\n",
              "      --disabled-bg-color: #3B4455;\n",
              "      --disabled-fill-color: #666;\n",
              "  }\n",
              "\n",
              "  .colab-df-quickchart {\n",
              "    background-color: var(--bg-color);\n",
              "    border: none;\n",
              "    border-radius: 50%;\n",
              "    cursor: pointer;\n",
              "    display: none;\n",
              "    fill: var(--fill-color);\n",
              "    height: 32px;\n",
              "    padding: 0;\n",
              "    width: 32px;\n",
              "  }\n",
              "\n",
              "  .colab-df-quickchart:hover {\n",
              "    background-color: var(--hover-bg-color);\n",
              "    box-shadow: 0 1px 2px rgba(60, 64, 67, 0.3), 0 1px 3px 1px rgba(60, 64, 67, 0.15);\n",
              "    fill: var(--button-hover-fill-color);\n",
              "  }\n",
              "\n",
              "  .colab-df-quickchart-complete:disabled,\n",
              "  .colab-df-quickchart-complete:disabled:hover {\n",
              "    background-color: var(--disabled-bg-color);\n",
              "    fill: var(--disabled-fill-color);\n",
              "    box-shadow: none;\n",
              "  }\n",
              "\n",
              "  .colab-df-spinner {\n",
              "    border: 2px solid var(--fill-color);\n",
              "    border-color: transparent;\n",
              "    border-bottom-color: var(--fill-color);\n",
              "    animation:\n",
              "      spin 1s steps(1) infinite;\n",
              "  }\n",
              "\n",
              "  @keyframes spin {\n",
              "    0% {\n",
              "      border-color: transparent;\n",
              "      border-bottom-color: var(--fill-color);\n",
              "      border-left-color: var(--fill-color);\n",
              "    }\n",
              "    20% {\n",
              "      border-color: transparent;\n",
              "      border-left-color: var(--fill-color);\n",
              "      border-top-color: var(--fill-color);\n",
              "    }\n",
              "    30% {\n",
              "      border-color: transparent;\n",
              "      border-left-color: var(--fill-color);\n",
              "      border-top-color: var(--fill-color);\n",
              "      border-right-color: var(--fill-color);\n",
              "    }\n",
              "    40% {\n",
              "      border-color: transparent;\n",
              "      border-right-color: var(--fill-color);\n",
              "      border-top-color: var(--fill-color);\n",
              "    }\n",
              "    60% {\n",
              "      border-color: transparent;\n",
              "      border-right-color: var(--fill-color);\n",
              "    }\n",
              "    80% {\n",
              "      border-color: transparent;\n",
              "      border-right-color: var(--fill-color);\n",
              "      border-bottom-color: var(--fill-color);\n",
              "    }\n",
              "    90% {\n",
              "      border-color: transparent;\n",
              "      border-bottom-color: var(--fill-color);\n",
              "    }\n",
              "  }\n",
              "</style>\n",
              "\n",
              "  <script>\n",
              "    async function quickchart(key) {\n",
              "      const quickchartButtonEl =\n",
              "        document.querySelector('#' + key + ' button');\n",
              "      quickchartButtonEl.disabled = true;  // To prevent multiple clicks.\n",
              "      quickchartButtonEl.classList.add('colab-df-spinner');\n",
              "      try {\n",
              "        const charts = await google.colab.kernel.invokeFunction(\n",
              "            'suggestCharts', [key], {});\n",
              "      } catch (error) {\n",
              "        console.error('Error during call to suggestCharts:', error);\n",
              "      }\n",
              "      quickchartButtonEl.classList.remove('colab-df-spinner');\n",
              "      quickchartButtonEl.classList.add('colab-df-quickchart-complete');\n",
              "    }\n",
              "    (() => {\n",
              "      let quickchartButtonEl =\n",
              "        document.querySelector('#df-4219634a-3787-4f51-8f68-55ddfaa122b4 button');\n",
              "      quickchartButtonEl.style.display =\n",
              "        google.colab.kernel.accessAllowed ? 'block' : 'none';\n",
              "    })();\n",
              "  </script>\n",
              "</div>\n",
              "\n",
              "    </div>\n",
              "  </div>\n"
            ],
            "application/vnd.google.colaboratory.intrinsic+json": {
              "type": "dataframe",
              "variable_name": "df_test"
            }
          },
          "metadata": {},
          "execution_count": 82
        }
      ]
    },
    {
      "cell_type": "code",
      "source": [
        "df_test['Weather Condition_Unknown'].value_counts()"
      ],
      "metadata": {
        "colab": {
          "base_uri": "https://localhost:8080/",
          "height": 178
        },
        "id": "-lps8IM30DFu",
        "outputId": "daea176f-88ab-4d43-8caa-b9605762a0ea"
      },
      "execution_count": 83,
      "outputs": [
        {
          "output_type": "execute_result",
          "data": {
            "text/plain": [
              "Weather Condition_Unknown\n",
              "False    938\n",
              "True      10\n",
              "Name: count, dtype: int64"
            ],
            "text/html": [
              "<div>\n",
              "<style scoped>\n",
              "    .dataframe tbody tr th:only-of-type {\n",
              "        vertical-align: middle;\n",
              "    }\n",
              "\n",
              "    .dataframe tbody tr th {\n",
              "        vertical-align: top;\n",
              "    }\n",
              "\n",
              "    .dataframe thead th {\n",
              "        text-align: right;\n",
              "    }\n",
              "</style>\n",
              "<table border=\"1\" class=\"dataframe\">\n",
              "  <thead>\n",
              "    <tr style=\"text-align: right;\">\n",
              "      <th></th>\n",
              "      <th>count</th>\n",
              "    </tr>\n",
              "    <tr>\n",
              "      <th>Weather Condition_Unknown</th>\n",
              "      <th></th>\n",
              "    </tr>\n",
              "  </thead>\n",
              "  <tbody>\n",
              "    <tr>\n",
              "      <th>False</th>\n",
              "      <td>938</td>\n",
              "    </tr>\n",
              "    <tr>\n",
              "      <th>True</th>\n",
              "      <td>10</td>\n",
              "    </tr>\n",
              "  </tbody>\n",
              "</table>\n",
              "</div><br><label><b>dtype:</b> int64</label>"
            ]
          },
          "metadata": {},
          "execution_count": 83
        }
      ]
    },
    {
      "cell_type": "code",
      "source": [
        "df_test['Vehicle Damage Rating 1 - Severity'].value_counts()"
      ],
      "metadata": {
        "colab": {
          "base_uri": "https://localhost:8080/",
          "height": 397
        },
        "id": "LNA3qrbo0DDK",
        "outputId": "60101fea-9263-4363-c671-11f7f7a9068d"
      },
      "execution_count": 84,
      "outputs": [
        {
          "output_type": "execute_result",
          "data": {
            "text/plain": [
              "Vehicle Damage Rating 1 - Severity\n",
              "2 - DAMAGED 2            307\n",
              "3 - DAMAGED 3            239\n",
              "1 - DAMAGED 1 MINIMUM    206\n",
              "No Data                   64\n",
              "4 - DAMAGED 4             62\n",
              "5 - DAMAGED 5             23\n",
              "0 - NO DAMAGE             20\n",
              "6 - DAMAGED 6              5\n",
              "7 - DAMAGED 7 HIGHEST      2\n",
              "Name: count, dtype: int64"
            ],
            "text/html": [
              "<div>\n",
              "<style scoped>\n",
              "    .dataframe tbody tr th:only-of-type {\n",
              "        vertical-align: middle;\n",
              "    }\n",
              "\n",
              "    .dataframe tbody tr th {\n",
              "        vertical-align: top;\n",
              "    }\n",
              "\n",
              "    .dataframe thead th {\n",
              "        text-align: right;\n",
              "    }\n",
              "</style>\n",
              "<table border=\"1\" class=\"dataframe\">\n",
              "  <thead>\n",
              "    <tr style=\"text-align: right;\">\n",
              "      <th></th>\n",
              "      <th>count</th>\n",
              "    </tr>\n",
              "    <tr>\n",
              "      <th>Vehicle Damage Rating 1 - Severity</th>\n",
              "      <th></th>\n",
              "    </tr>\n",
              "  </thead>\n",
              "  <tbody>\n",
              "    <tr>\n",
              "      <th>2 - DAMAGED 2</th>\n",
              "      <td>307</td>\n",
              "    </tr>\n",
              "    <tr>\n",
              "      <th>3 - DAMAGED 3</th>\n",
              "      <td>239</td>\n",
              "    </tr>\n",
              "    <tr>\n",
              "      <th>1 - DAMAGED 1 MINIMUM</th>\n",
              "      <td>206</td>\n",
              "    </tr>\n",
              "    <tr>\n",
              "      <th>No Data</th>\n",
              "      <td>64</td>\n",
              "    </tr>\n",
              "    <tr>\n",
              "      <th>4 - DAMAGED 4</th>\n",
              "      <td>62</td>\n",
              "    </tr>\n",
              "    <tr>\n",
              "      <th>5 - DAMAGED 5</th>\n",
              "      <td>23</td>\n",
              "    </tr>\n",
              "    <tr>\n",
              "      <th>0 - NO DAMAGE</th>\n",
              "      <td>20</td>\n",
              "    </tr>\n",
              "    <tr>\n",
              "      <th>6 - DAMAGED 6</th>\n",
              "      <td>5</td>\n",
              "    </tr>\n",
              "    <tr>\n",
              "      <th>7 - DAMAGED 7 HIGHEST</th>\n",
              "      <td>2</td>\n",
              "    </tr>\n",
              "  </tbody>\n",
              "</table>\n",
              "</div><br><label><b>dtype:</b> int64</label>"
            ]
          },
          "metadata": {},
          "execution_count": 84
        }
      ]
    },
    {
      "cell_type": "code",
      "source": [
        "damage_mapping_1 = {\n",
        "    '0 - NO DAMAGE': 0,\n",
        "    '1 - DAMAGED 1 MINIMUM': 1,\n",
        "    '2 - DAMAGED 2': 2,\n",
        "    '3 - DAMAGED 3': 3,\n",
        "    '4 - DAMAGED 4': 4,\n",
        "    '5 - DAMAGED 5': 5,\n",
        "    '6 - DAMAGED 6': 6,\n",
        "    '7 - DAMAGED 7 HIGHEST': 7,\n",
        "    'No Data': np.nan\n",
        "}\n",
        "\n",
        "df_test['Vehicle Damage Rating 1 - Severity'] = df_test['Vehicle Damage Rating 1 - Severity'].map(damage_mapping_1)\n",
        "\n",
        "# Replacing NaN with the mode:\n",
        "df_test['Vehicle Damage Rating 1 - Severity'].fillna(df_test['Vehicle Damage Rating 1 - Severity'].mode()[0], inplace=True)"
      ],
      "metadata": {
        "id": "Tmobnj250DAb"
      },
      "execution_count": 85,
      "outputs": []
    },
    {
      "cell_type": "code",
      "source": [
        "df_test['Vehicle Damage Rating 1 - Severity'] = df_test['Vehicle Damage Rating 1 - Severity'].astype(int)"
      ],
      "metadata": {
        "id": "g0hcepl00C-H"
      },
      "execution_count": 86,
      "outputs": []
    },
    {
      "cell_type": "code",
      "source": [
        "df_test['Vehicle Damage Rating 1 - Severity'].isna().sum()"
      ],
      "metadata": {
        "colab": {
          "base_uri": "https://localhost:8080/"
        },
        "id": "31xGQ-720C74",
        "outputId": "38f57a14-7746-4165-919a-f6fa82677e94"
      },
      "execution_count": 87,
      "outputs": [
        {
          "output_type": "execute_result",
          "data": {
            "text/plain": [
              "0"
            ]
          },
          "metadata": {},
          "execution_count": 87
        }
      ]
    },
    {
      "cell_type": "code",
      "source": [
        "df_test.info()"
      ],
      "metadata": {
        "colab": {
          "base_uri": "https://localhost:8080/"
        },
        "id": "r4LblG0M4HAz",
        "outputId": "76ff7ed0-a7d5-476d-ce9a-736eb6833541"
      },
      "execution_count": 88,
      "outputs": [
        {
          "output_type": "stream",
          "name": "stdout",
          "text": [
            "<class 'pandas.core.frame.DataFrame'>\n",
            "RangeIndex: 948 entries, 0 to 947\n",
            "Data columns (total 24 columns):\n",
            " #   Column                                  Non-Null Count  Dtype  \n",
            "---  ------                                  --------------  -----  \n",
            " 0   Unnamed: 0                              948 non-null    int64  \n",
            " 1   Crash ID                                930 non-null    float64\n",
            " 2   Crash Date                              919 non-null    object \n",
            " 3   Crash Severity                          948 non-null    int64  \n",
            " 4   Nearest Trauma Center Distance          927 non-null    object \n",
            " 5   Time Arrived                            934 non-null    object \n",
            " 6   Time Notified                           930 non-null    object \n",
            " 7   Autonomous Level Engaged                929 non-null    object \n",
            " 8   Autonomous Unit - Reported              926 non-null    object \n",
            " 9   Vehicle Damage Rating 1 - Severity      948 non-null    int64  \n",
            " 10  Vehicle Model Year                      888 non-null    float64\n",
            " 11  Person Age                              871 non-null    float64\n",
            " 12  Person Alcohol Result                   933 non-null    object \n",
            " 13  Person Drug Test Result                 931 non-null    object \n",
            " 14  Person Ethnicity                        948 non-null    object \n",
            " 15  Person Gender                           926 non-null    object \n",
            " 16  Day_Sin                                 948 non-null    float64\n",
            " 17  Day_Cos                                 948 non-null    float64\n",
            " 18  Vehicle Model Year Binned_2011-2020     948 non-null    bool   \n",
            " 19  Vehicle Model Year Binned_2021-present  948 non-null    bool   \n",
            " 20  Weather Condition_2 - CLOUDY            948 non-null    bool   \n",
            " 21  Weather Condition_3 - RAIN              948 non-null    bool   \n",
            " 22  Weather Condition_6 - FOG               948 non-null    bool   \n",
            " 23  Weather Condition_Unknown               948 non-null    bool   \n",
            "dtypes: bool(6), float64(5), int64(3), object(10)\n",
            "memory usage: 139.0+ KB\n"
          ]
        }
      ]
    },
    {
      "cell_type": "code",
      "source": [
        "df_test['Person Age'].isna().sum()"
      ],
      "metadata": {
        "colab": {
          "base_uri": "https://localhost:8080/"
        },
        "id": "ADdlzzvr4G-u",
        "outputId": "6fa80762-1bb6-4285-a9e1-f49ccc4edc04"
      },
      "execution_count": 89,
      "outputs": [
        {
          "output_type": "execute_result",
          "data": {
            "text/plain": [
              "77"
            ]
          },
          "metadata": {},
          "execution_count": 89
        }
      ]
    },
    {
      "cell_type": "code",
      "source": [
        "sns.histplot(df_test['Person Age'].dropna(), bins=30, kde=True)\n",
        "plt.title('Distribution of Person Age')\n",
        "plt.xlabel('Age')\n",
        "plt.ylabel('Frequency')\n",
        "plt.show()"
      ],
      "metadata": {
        "colab": {
          "base_uri": "https://localhost:8080/",
          "height": 472
        },
        "id": "cT2uCxYA4G8X",
        "outputId": "5376af68-56f2-4810-970a-3d41073f3a4f"
      },
      "execution_count": 90,
      "outputs": [
        {
          "output_type": "display_data",
          "data": {
            "text/plain": [
              "<Figure size 640x480 with 1 Axes>"
            ],
            "image/png": "[encoded data removed]"
          },
          "metadata": {}
        }
      ]
    },
    {
      "cell_type": "code",
      "source": [
        "test_median_age = df_test['Person Age'].median()\n",
        "df_test['Person Age'].fillna(test_median_age, inplace=True)"
      ],
      "metadata": {
        "id": "HpB9aRl24G5v"
      },
      "execution_count": 91,
      "outputs": []
    },
    {
      "cell_type": "code",
      "source": [
        "df_test.info()"
      ],
      "metadata": {
        "colab": {
          "base_uri": "https://localhost:8080/"
        },
        "id": "CuPwQD844G3X",
        "outputId": "073b295d-757f-41ad-8194-91c3861ba8a6"
      },
      "execution_count": 92,
      "outputs": [
        {
          "output_type": "stream",
          "name": "stdout",
          "text": [
            "<class 'pandas.core.frame.DataFrame'>\n",
            "RangeIndex: 948 entries, 0 to 947\n",
            "Data columns (total 24 columns):\n",
            " #   Column                                  Non-Null Count  Dtype  \n",
            "---  ------                                  --------------  -----  \n",
            " 0   Unnamed: 0                              948 non-null    int64  \n",
            " 1   Crash ID                                930 non-null    float64\n",
            " 2   Crash Date                              919 non-null    object \n",
            " 3   Crash Severity                          948 non-null    int64  \n",
            " 4   Nearest Trauma Center Distance          927 non-null    object \n",
            " 5   Time Arrived                            934 non-null    object \n",
            " 6   Time Notified                           930 non-null    object \n",
            " 7   Autonomous Level Engaged                929 non-null    object \n",
            " 8   Autonomous Unit - Reported              926 non-null    object \n",
            " 9   Vehicle Damage Rating 1 - Severity      948 non-null    int64  \n",
            " 10  Vehicle Model Year                      888 non-null    float64\n",
            " 11  Person Age                              948 non-null    float64\n",
            " 12  Person Alcohol Result                   933 non-null    object \n",
            " 13  Person Drug Test Result                 931 non-null    object \n",
            " 14  Person Ethnicity                        948 non-null    object \n",
            " 15  Person Gender                           926 non-null    object \n",
            " 16  Day_Sin                                 948 non-null    float64\n",
            " 17  Day_Cos                                 948 non-null    float64\n",
            " 18  Vehicle Model Year Binned_2011-2020     948 non-null    bool   \n",
            " 19  Vehicle Model Year Binned_2021-present  948 non-null    bool   \n",
            " 20  Weather Condition_2 - CLOUDY            948 non-null    bool   \n",
            " 21  Weather Condition_3 - RAIN              948 non-null    bool   \n",
            " 22  Weather Condition_6 - FOG               948 non-null    bool   \n",
            " 23  Weather Condition_Unknown               948 non-null    bool   \n",
            "dtypes: bool(6), float64(5), int64(3), object(10)\n",
            "memory usage: 139.0+ KB\n"
          ]
        }
      ]
    },
    {
      "cell_type": "code",
      "source": [
        "df_test['Person Ethnicity'].value_counts()\n"
      ],
      "metadata": {
        "colab": {
          "base_uri": "https://localhost:8080/",
          "height": 397
        },
        "id": "cTohWGIz4GwN",
        "outputId": "2e4a772e-1dd1-4e0c-c813-6d84cf98beaf"
      },
      "execution_count": 93,
      "outputs": [
        {
          "output_type": "execute_result",
          "data": {
            "text/plain": [
              "Person Ethnicity\n",
              "W - WHITE                          468\n",
              "H - HISPANIC                       190\n",
              "B - BLACK                          134\n",
              "99 - UNKNOWN                        64\n",
              "A - ASIAN                           58\n",
              "No Data                             15\n",
              "98 - OTHER                           9\n",
              "Unknown                              6\n",
              "I - AMER. INDIAN/ALASKAN NATIVE      4\n",
              "Name: count, dtype: int64"
            ],
            "text/html": [
              "<div>\n",
              "<style scoped>\n",
              "    .dataframe tbody tr th:only-of-type {\n",
              "        vertical-align: middle;\n",
              "    }\n",
              "\n",
              "    .dataframe tbody tr th {\n",
              "        vertical-align: top;\n",
              "    }\n",
              "\n",
              "    .dataframe thead th {\n",
              "        text-align: right;\n",
              "    }\n",
              "</style>\n",
              "<table border=\"1\" class=\"dataframe\">\n",
              "  <thead>\n",
              "    <tr style=\"text-align: right;\">\n",
              "      <th></th>\n",
              "      <th>count</th>\n",
              "    </tr>\n",
              "    <tr>\n",
              "      <th>Person Ethnicity</th>\n",
              "      <th></th>\n",
              "    </tr>\n",
              "  </thead>\n",
              "  <tbody>\n",
              "    <tr>\n",
              "      <th>W - WHITE</th>\n",
              "      <td>468</td>\n",
              "    </tr>\n",
              "    <tr>\n",
              "      <th>H - HISPANIC</th>\n",
              "      <td>190</td>\n",
              "    </tr>\n",
              "    <tr>\n",
              "      <th>B - BLACK</th>\n",
              "      <td>134</td>\n",
              "    </tr>\n",
              "    <tr>\n",
              "      <th>99 - UNKNOWN</th>\n",
              "      <td>64</td>\n",
              "    </tr>\n",
              "    <tr>\n",
              "      <th>A - ASIAN</th>\n",
              "      <td>58</td>\n",
              "    </tr>\n",
              "    <tr>\n",
              "      <th>No Data</th>\n",
              "      <td>15</td>\n",
              "    </tr>\n",
              "    <tr>\n",
              "      <th>98 - OTHER</th>\n",
              "      <td>9</td>\n",
              "    </tr>\n",
              "    <tr>\n",
              "      <th>Unknown</th>\n",
              "      <td>6</td>\n",
              "    </tr>\n",
              "    <tr>\n",
              "      <th>I - AMER. INDIAN/ALASKAN NATIVE</th>\n",
              "      <td>4</td>\n",
              "    </tr>\n",
              "  </tbody>\n",
              "</table>\n",
              "</div><br><label><b>dtype:</b> int64</label>"
            ]
          },
          "metadata": {},
          "execution_count": 93
        }
      ]
    },
    {
      "cell_type": "code",
      "source": [
        "# Merging unknown categories\n",
        "df_test['Person Ethnicity'].replace({\n",
        "    '99 - UNKNOWN': 'Unknown',\n",
        "    'No Data': 'Unknown',\n",
        "    'Unknown': 'Unknown',\n",
        "    '98 - OTHER': 'Unknown'\n",
        "}, inplace=True)\n",
        "\n",
        "# Replacing 'Unknown' with the most frequent category (mode)\n",
        "mode_ethnicity_1 = df_test['Person Ethnicity'].mode()[0]\n",
        "df_test['Person Ethnicity'].replace('Unknown', mode_ethnicity_1, inplace=True)\n",
        "\n",
        "# One-Hot Encoding\n",
        "df_test = pd.get_dummies(df_test, columns=['Person Ethnicity'], drop_first=True)"
      ],
      "metadata": {
        "id": "NBpTM8uB4Gto"
      },
      "execution_count": 94,
      "outputs": []
    },
    {
      "cell_type": "code",
      "source": [
        "df_test.info()"
      ],
      "metadata": {
        "colab": {
          "base_uri": "https://localhost:8080/"
        },
        "id": "YX9v9_9z0C6J",
        "outputId": "1cb479b0-79b9-4f4d-c4bb-13097204c80c"
      },
      "execution_count": 95,
      "outputs": [
        {
          "output_type": "stream",
          "name": "stdout",
          "text": [
            "<class 'pandas.core.frame.DataFrame'>\n",
            "RangeIndex: 948 entries, 0 to 947\n",
            "Data columns (total 27 columns):\n",
            " #   Column                                            Non-Null Count  Dtype  \n",
            "---  ------                                            --------------  -----  \n",
            " 0   Unnamed: 0                                        948 non-null    int64  \n",
            " 1   Crash ID                                          930 non-null    float64\n",
            " 2   Crash Date                                        919 non-null    object \n",
            " 3   Crash Severity                                    948 non-null    int64  \n",
            " 4   Nearest Trauma Center Distance                    927 non-null    object \n",
            " 5   Time Arrived                                      934 non-null    object \n",
            " 6   Time Notified                                     930 non-null    object \n",
            " 7   Autonomous Level Engaged                          929 non-null    object \n",
            " 8   Autonomous Unit - Reported                        926 non-null    object \n",
            " 9   Vehicle Damage Rating 1 - Severity                948 non-null    int64  \n",
            " 10  Vehicle Model Year                                888 non-null    float64\n",
            " 11  Person Age                                        948 non-null    float64\n",
            " 12  Person Alcohol Result                             933 non-null    object \n",
            " 13  Person Drug Test Result                           931 non-null    object \n",
            " 14  Person Gender                                     926 non-null    object \n",
            " 15  Day_Sin                                           948 non-null    float64\n",
            " 16  Day_Cos                                           948 non-null    float64\n",
            " 17  Vehicle Model Year Binned_2011-2020               948 non-null    bool   \n",
            " 18  Vehicle Model Year Binned_2021-present            948 non-null    bool   \n",
            " 19  Weather Condition_2 - CLOUDY                      948 non-null    bool   \n",
            " 20  Weather Condition_3 - RAIN                        948 non-null    bool   \n",
            " 21  Weather Condition_6 - FOG                         948 non-null    bool   \n",
            " 22  Weather Condition_Unknown                         948 non-null    bool   \n",
            " 23  Person Ethnicity_B - BLACK                        948 non-null    bool   \n",
            " 24  Person Ethnicity_H - HISPANIC                     948 non-null    bool   \n",
            " 25  Person Ethnicity_I - AMER. INDIAN/ALASKAN NATIVE  948 non-null    bool   \n",
            " 26  Person Ethnicity_W - WHITE                        948 non-null    bool   \n",
            "dtypes: bool(10), float64(5), int64(3), object(9)\n",
            "memory usage: 135.3+ KB\n"
          ]
        }
      ]
    },
    {
      "cell_type": "code",
      "source": [
        "df_test['Person Gender'].value_counts()"
      ],
      "metadata": {
        "colab": {
          "base_uri": "https://localhost:8080/",
          "height": 209
        },
        "id": "yAdBjst_0C3R",
        "outputId": "90e68915-331a-42aa-9c6c-52ac1a186b5f"
      },
      "execution_count": 96,
      "outputs": [
        {
          "output_type": "execute_result",
          "data": {
            "text/plain": [
              "Person Gender\n",
              "1 - MALE        479\n",
              "2 - FEMALE      397\n",
              "99 - UNKNOWN     50\n",
              "Name: count, dtype: int64"
            ],
            "text/html": [
              "<div>\n",
              "<style scoped>\n",
              "    .dataframe tbody tr th:only-of-type {\n",
              "        vertical-align: middle;\n",
              "    }\n",
              "\n",
              "    .dataframe tbody tr th {\n",
              "        vertical-align: top;\n",
              "    }\n",
              "\n",
              "    .dataframe thead th {\n",
              "        text-align: right;\n",
              "    }\n",
              "</style>\n",
              "<table border=\"1\" class=\"dataframe\">\n",
              "  <thead>\n",
              "    <tr style=\"text-align: right;\">\n",
              "      <th></th>\n",
              "      <th>count</th>\n",
              "    </tr>\n",
              "    <tr>\n",
              "      <th>Person Gender</th>\n",
              "      <th></th>\n",
              "    </tr>\n",
              "  </thead>\n",
              "  <tbody>\n",
              "    <tr>\n",
              "      <th>1 - MALE</th>\n",
              "      <td>479</td>\n",
              "    </tr>\n",
              "    <tr>\n",
              "      <th>2 - FEMALE</th>\n",
              "      <td>397</td>\n",
              "    </tr>\n",
              "    <tr>\n",
              "      <th>99 - UNKNOWN</th>\n",
              "      <td>50</td>\n",
              "    </tr>\n",
              "  </tbody>\n",
              "</table>\n",
              "</div><br><label><b>dtype:</b> int64</label>"
            ]
          },
          "metadata": {},
          "execution_count": 96
        }
      ]
    },
    {
      "cell_type": "code",
      "source": [
        "mode_gender_1 = df_test['Person Gender'].mode()[0]\n",
        "\n",
        "df_test['Person Gender'].replace('99 - UNKNOWN', mode_gender_1, inplace=True)\n",
        "\n",
        "df_test = pd.get_dummies(df_test, columns = ['Person Gender'], drop_first=True)"
      ],
      "metadata": {
        "id": "Mt8ISV3F0C0S"
      },
      "execution_count": 97,
      "outputs": []
    },
    {
      "cell_type": "code",
      "source": [
        "df_test.info()"
      ],
      "metadata": {
        "colab": {
          "base_uri": "https://localhost:8080/"
        },
        "id": "hqjiU8ZZ0Cxk",
        "outputId": "31b2c9e4-217c-499b-a0ef-c140f78f1461"
      },
      "execution_count": 98,
      "outputs": [
        {
          "output_type": "stream",
          "name": "stdout",
          "text": [
            "<class 'pandas.core.frame.DataFrame'>\n",
            "RangeIndex: 948 entries, 0 to 947\n",
            "Data columns (total 27 columns):\n",
            " #   Column                                            Non-Null Count  Dtype  \n",
            "---  ------                                            --------------  -----  \n",
            " 0   Unnamed: 0                                        948 non-null    int64  \n",
            " 1   Crash ID                                          930 non-null    float64\n",
            " 2   Crash Date                                        919 non-null    object \n",
            " 3   Crash Severity                                    948 non-null    int64  \n",
            " 4   Nearest Trauma Center Distance                    927 non-null    object \n",
            " 5   Time Arrived                                      934 non-null    object \n",
            " 6   Time Notified                                     930 non-null    object \n",
            " 7   Autonomous Level Engaged                          929 non-null    object \n",
            " 8   Autonomous Unit - Reported                        926 non-null    object \n",
            " 9   Vehicle Damage Rating 1 - Severity                948 non-null    int64  \n",
            " 10  Vehicle Model Year                                888 non-null    float64\n",
            " 11  Person Age                                        948 non-null    float64\n",
            " 12  Person Alcohol Result                             933 non-null    object \n",
            " 13  Person Drug Test Result                           931 non-null    object \n",
            " 14  Day_Sin                                           948 non-null    float64\n",
            " 15  Day_Cos                                           948 non-null    float64\n",
            " 16  Vehicle Model Year Binned_2011-2020               948 non-null    bool   \n",
            " 17  Vehicle Model Year Binned_2021-present            948 non-null    bool   \n",
            " 18  Weather Condition_2 - CLOUDY                      948 non-null    bool   \n",
            " 19  Weather Condition_3 - RAIN                        948 non-null    bool   \n",
            " 20  Weather Condition_6 - FOG                         948 non-null    bool   \n",
            " 21  Weather Condition_Unknown                         948 non-null    bool   \n",
            " 22  Person Ethnicity_B - BLACK                        948 non-null    bool   \n",
            " 23  Person Ethnicity_H - HISPANIC                     948 non-null    bool   \n",
            " 24  Person Ethnicity_I - AMER. INDIAN/ALASKAN NATIVE  948 non-null    bool   \n",
            " 25  Person Ethnicity_W - WHITE                        948 non-null    bool   \n",
            " 26  Person Gender_2 - FEMALE                          948 non-null    bool   \n",
            "dtypes: bool(11), float64(5), int64(3), object(8)\n",
            "memory usage: 128.8+ KB\n"
          ]
        }
      ]
    },
    {
      "cell_type": "code",
      "source": [
        "df_test.drop(columns=[\n",
        "    'Nearest Trauma Center Distance',\n",
        "    'Autonomous Level Engaged',\n",
        "    'Autonomous Unit - Reported',\n",
        "    'Vehicle Model Year',\n",
        "    'Time Arrived',\n",
        "    'Time Notified',\n",
        "    'Weather Condition_Unknown',\n",
        "    'Crash ID',\n",
        "    'Crash Date',\n",
        "    'Person Alcohol Result',\n",
        "    'Person Drug Test Result',\n",
        "    'Unnamed: 0'\n",
        "], inplace=True)"
      ],
      "metadata": {
        "id": "ny675KGW0Cu-"
      },
      "execution_count": 99,
      "outputs": []
    },
    {
      "cell_type": "code",
      "source": [
        "df_test.info()"
      ],
      "metadata": {
        "colab": {
          "base_uri": "https://localhost:8080/"
        },
        "id": "wDpt8HLFjVPN",
        "outputId": "8920d0cc-ff66-4550-8b61-1825404f55f6"
      },
      "execution_count": 100,
      "outputs": [
        {
          "output_type": "stream",
          "name": "stdout",
          "text": [
            "<class 'pandas.core.frame.DataFrame'>\n",
            "RangeIndex: 948 entries, 0 to 947\n",
            "Data columns (total 15 columns):\n",
            " #   Column                                            Non-Null Count  Dtype  \n",
            "---  ------                                            --------------  -----  \n",
            " 0   Crash Severity                                    948 non-null    int64  \n",
            " 1   Vehicle Damage Rating 1 - Severity                948 non-null    int64  \n",
            " 2   Person Age                                        948 non-null    float64\n",
            " 3   Day_Sin                                           948 non-null    float64\n",
            " 4   Day_Cos                                           948 non-null    float64\n",
            " 5   Vehicle Model Year Binned_2011-2020               948 non-null    bool   \n",
            " 6   Vehicle Model Year Binned_2021-present            948 non-null    bool   \n",
            " 7   Weather Condition_2 - CLOUDY                      948 non-null    bool   \n",
            " 8   Weather Condition_3 - RAIN                        948 non-null    bool   \n",
            " 9   Weather Condition_6 - FOG                         948 non-null    bool   \n",
            " 10  Person Ethnicity_B - BLACK                        948 non-null    bool   \n",
            " 11  Person Ethnicity_H - HISPANIC                     948 non-null    bool   \n",
            " 12  Person Ethnicity_I - AMER. INDIAN/ALASKAN NATIVE  948 non-null    bool   \n",
            " 13  Person Ethnicity_W - WHITE                        948 non-null    bool   \n",
            " 14  Person Gender_2 - FEMALE                          948 non-null    bool   \n",
            "dtypes: bool(10), float64(3), int64(2)\n",
            "memory usage: 46.4 KB\n"
          ]
        }
      ]
    },
    {
      "cell_type": "code",
      "source": [
        "missing_cols = set(df_train.columns) - set(df_test.columns)\n",
        "extra_cols = set(df_test.columns) - set(df_train.columns)\n",
        "\n",
        "print(\"Columns in train but missing in test:\", missing_cols)\n",
        "print(\"Columns in test but not in train:\", extra_cols)"
      ],
      "metadata": {
        "colab": {
          "base_uri": "https://localhost:8080/"
        },
        "id": "0Vg2p80jjVMm",
        "outputId": "0fdb4d4d-738c-4c89-bf8a-454e49d3bf88"
      },
      "execution_count": 101,
      "outputs": [
        {
          "output_type": "stream",
          "name": "stdout",
          "text": [
            "Columns in train but missing in test: {'y', 'Crash Time', 'Weather Condition_4 - SLEET/HAIL', 'Weather Condition_5 - SNOW'}\n",
            "Columns in test but not in train: set()\n"
          ]
        }
      ]
    },
    {
      "cell_type": "code",
      "source": [
        "for col in missing_cols:\n",
        "    df_test[col] = 0  # Since one-hot encoded values are binary (0 or 1), set missing ones to 0"
      ],
      "metadata": {
        "id": "SEKrwNe1jVJ_"
      },
      "execution_count": 102,
      "outputs": []
    },
    {
      "cell_type": "code",
      "source": [
        "df_test.info()"
      ],
      "metadata": {
        "colab": {
          "base_uri": "https://localhost:8080/"
        },
        "id": "cWENmbRo-9_0",
        "outputId": "2e6c444e-ef10-4e60-c1ad-35681b936143"
      },
      "execution_count": 103,
      "outputs": [
        {
          "output_type": "stream",
          "name": "stdout",
          "text": [
            "<class 'pandas.core.frame.DataFrame'>\n",
            "RangeIndex: 948 entries, 0 to 947\n",
            "Data columns (total 19 columns):\n",
            " #   Column                                            Non-Null Count  Dtype  \n",
            "---  ------                                            --------------  -----  \n",
            " 0   Crash Severity                                    948 non-null    int64  \n",
            " 1   Vehicle Damage Rating 1 - Severity                948 non-null    int64  \n",
            " 2   Person Age                                        948 non-null    float64\n",
            " 3   Day_Sin                                           948 non-null    float64\n",
            " 4   Day_Cos                                           948 non-null    float64\n",
            " 5   Vehicle Model Year Binned_2011-2020               948 non-null    bool   \n",
            " 6   Vehicle Model Year Binned_2021-present            948 non-null    bool   \n",
            " 7   Weather Condition_2 - CLOUDY                      948 non-null    bool   \n",
            " 8   Weather Condition_3 - RAIN                        948 non-null    bool   \n",
            " 9   Weather Condition_6 - FOG                         948 non-null    bool   \n",
            " 10  Person Ethnicity_B - BLACK                        948 non-null    bool   \n",
            " 11  Person Ethnicity_H - HISPANIC                     948 non-null    bool   \n",
            " 12  Person Ethnicity_I - AMER. INDIAN/ALASKAN NATIVE  948 non-null    bool   \n",
            " 13  Person Ethnicity_W - WHITE                        948 non-null    bool   \n",
            " 14  Person Gender_2 - FEMALE                          948 non-null    bool   \n",
            " 15  y                                                 948 non-null    int64  \n",
            " 16  Crash Time                                        948 non-null    int64  \n",
            " 17  Weather Condition_4 - SLEET/HAIL                  948 non-null    int64  \n",
            " 18  Weather Condition_5 - SNOW                        948 non-null    int64  \n",
            "dtypes: bool(10), float64(3), int64(6)\n",
            "memory usage: 76.0 KB\n"
          ]
        }
      ]
    },
    {
      "cell_type": "code",
      "source": [
        "df_test.drop(['y'], axis=1, inplace=True)"
      ],
      "metadata": {
        "id": "cNLuLW7n-99o"
      },
      "execution_count": 104,
      "outputs": []
    },
    {
      "cell_type": "code",
      "source": [
        "df_test.info()"
      ],
      "metadata": {
        "colab": {
          "base_uri": "https://localhost:8080/"
        },
        "id": "qAv0UAqw-968",
        "outputId": "1e8b0bd8-0f8f-4d1b-b05c-243c5cecbc94"
      },
      "execution_count": 105,
      "outputs": [
        {
          "output_type": "stream",
          "name": "stdout",
          "text": [
            "<class 'pandas.core.frame.DataFrame'>\n",
            "RangeIndex: 948 entries, 0 to 947\n",
            "Data columns (total 18 columns):\n",
            " #   Column                                            Non-Null Count  Dtype  \n",
            "---  ------                                            --------------  -----  \n",
            " 0   Crash Severity                                    948 non-null    int64  \n",
            " 1   Vehicle Damage Rating 1 - Severity                948 non-null    int64  \n",
            " 2   Person Age                                        948 non-null    float64\n",
            " 3   Day_Sin                                           948 non-null    float64\n",
            " 4   Day_Cos                                           948 non-null    float64\n",
            " 5   Vehicle Model Year Binned_2011-2020               948 non-null    bool   \n",
            " 6   Vehicle Model Year Binned_2021-present            948 non-null    bool   \n",
            " 7   Weather Condition_2 - CLOUDY                      948 non-null    bool   \n",
            " 8   Weather Condition_3 - RAIN                        948 non-null    bool   \n",
            " 9   Weather Condition_6 - FOG                         948 non-null    bool   \n",
            " 10  Person Ethnicity_B - BLACK                        948 non-null    bool   \n",
            " 11  Person Ethnicity_H - HISPANIC                     948 non-null    bool   \n",
            " 12  Person Ethnicity_I - AMER. INDIAN/ALASKAN NATIVE  948 non-null    bool   \n",
            " 13  Person Ethnicity_W - WHITE                        948 non-null    bool   \n",
            " 14  Person Gender_2 - FEMALE                          948 non-null    bool   \n",
            " 15  Crash Time                                        948 non-null    int64  \n",
            " 16  Weather Condition_4 - SLEET/HAIL                  948 non-null    int64  \n",
            " 17  Weather Condition_5 - SNOW                        948 non-null    int64  \n",
            "dtypes: bool(10), float64(3), int64(5)\n",
            "memory usage: 68.6 KB\n"
          ]
        }
      ]
    },
    {
      "cell_type": "markdown",
      "source": [
        "# **Model Building**"
      ],
      "metadata": {
        "id": "3OEA_iNwjp_5"
      }
    },
    {
      "cell_type": "markdown",
      "source": [
        "## **Regression**"
      ],
      "metadata": {
        "id": "qC48BPr3k_Gb"
      }
    },
    {
      "cell_type": "code",
      "source": [
        "from sklearn.model_selection import train_test_split\n",
        "from sklearn.linear_model import LinearRegression\n",
        "from sklearn.metrics import mean_absolute_error, mean_squared_error, r2_score\n",
        "import numpy as np\n",
        "\n",
        "# Defining features (X) and target (y)\n",
        "X = df_train.drop(columns=['y'])  # Drop target variable\n",
        "y = df_train['y']  # Target variable\n",
        "\n",
        "# Splitting training data into train and validation sets\n",
        "X_train, X_val, y_train, y_val = train_test_split(X, y, test_size=0.2, random_state=42)\n",
        "\n",
        "# Initializing and training the model\n",
        "model = LinearRegression()\n",
        "model.fit(X_train, y_train)\n",
        "\n",
        "# Making predictions on validation set\n",
        "y_pred = model.predict(X_val)\n",
        "\n",
        "# Model performance evaluation\n",
        "mae = mean_absolute_error(y_val, y_pred)\n",
        "rmse = np.sqrt(mean_squared_error(y_val, y_pred))\n",
        "r2 = r2_score(y_val, y_pred)\n",
        "\n",
        "print(f\"Mean Absolute Error: {mae}\")\n",
        "print(f\"Root Mean Squared Error: {rmse}\")\n",
        "print(f\"R² Score: {r2}\")"
      ],
      "metadata": {
        "colab": {
          "base_uri": "https://localhost:8080/"
        },
        "id": "mZzp_nRI-94M",
        "outputId": "92c19d28-5941-4e33-b029-ff82a0cd7902"
      },
      "execution_count": 106,
      "outputs": [
        {
          "output_type": "stream",
          "name": "stdout",
          "text": [
            "Mean Absolute Error: 54.55285670076912\n",
            "Root Mean Squared Error: 132.0768074408594\n",
            "R² Score: 0.03188388807030962\n"
          ]
        }
      ]
    },
    {
      "cell_type": "markdown",
      "source": [
        "Since the Linear regression model is not able to understand the patterns properly and delivering an accuracy of 0.03, we'll try Random Forest Regressor. Let's see how it performs..."
      ],
      "metadata": {
        "id": "r0AVCea3j7pY"
      }
    },
    {
      "cell_type": "markdown",
      "source": [
        "## **Random Forest Regressor**"
      ],
      "metadata": {
        "id": "uM3TF5BPkOTP"
      }
    },
    {
      "cell_type": "code",
      "source": [
        "from sklearn.ensemble import RandomForestRegressor\n",
        "\n",
        "# Initializing the model\n",
        "rf_model = RandomForestRegressor(n_estimators=100, random_state=42)\n",
        "\n",
        "# Model training\n",
        "rf_model.fit(X_train, y_train)\n",
        "\n",
        "# Prediction on validation set\n",
        "y_pred_rf = rf_model.predict(X_val)\n",
        "\n",
        "# Model evaluation\n",
        "mae_rf = mean_absolute_error(y_val, y_pred_rf)\n",
        "rmse_rf = np.sqrt(mean_squared_error(y_val, y_pred_rf))\n",
        "r2_rf = r2_score(y_val, y_pred_rf)\n",
        "\n",
        "print(f\"Random Forest - MAE: {mae_rf}\")\n",
        "print(f\"Random Forest - RMSE: {rmse_rf}\")\n",
        "print(f\"Random Forest - R² Score: {r2_rf}\")"
      ],
      "metadata": {
        "colab": {
          "base_uri": "https://localhost:8080/"
        },
        "id": "5k9p7Miq-91v",
        "outputId": "b689e5f4-9c37-43b4-d867-3b69f853c2f1"
      },
      "execution_count": 107,
      "outputs": [
        {
          "output_type": "stream",
          "name": "stdout",
          "text": [
            "Random Forest - MAE: 29.241960037174724\n",
            "Random Forest - RMSE: 61.77224076364764\n",
            "Random Forest - R² Score: 0.7882316593257636\n"
          ]
        }
      ]
    },
    {
      "cell_type": "markdown",
      "source": [
        "This is a huge improvement comparing with the Linear Regression model. Let's see if we can use Hyperparameter tuning to extract even better results."
      ],
      "metadata": {
        "id": "EPmzkg1MkaTT"
      }
    },
    {
      "cell_type": "markdown",
      "source": [
        "## **Hyperparameter Tuning**"
      ],
      "metadata": {
        "id": "u0g6CHorkmUb"
      }
    },
    {
      "cell_type": "code",
      "source": [
        "from sklearn.model_selection import RandomizedSearchCV\n",
        "\n",
        "param_grid = {\n",
        "    'n_estimators': [100, 200, 300],\n",
        "    'max_depth': [10, 20, None],\n",
        "    'min_samples_split': [2, 5, 10],\n",
        "    'min_samples_leaf': [1, 2, 4]\n",
        "}\n",
        "\n",
        "rf_tuned = RandomizedSearchCV(RandomForestRegressor(random_state=42),\n",
        "                              param_grid, n_iter=10, cv=3, n_jobs=-1)\n",
        "rf_tuned.fit(X_train, y_train)\n",
        "\n",
        "print(\"Best Parameters:\", rf_tuned.best_params_)"
      ],
      "metadata": {
        "colab": {
          "base_uri": "https://localhost:8080/"
        },
        "id": "L6B43D93_-uz",
        "outputId": "fc3b80cf-fadc-4afd-9f15-a539239c686a"
      },
      "execution_count": 108,
      "outputs": [
        {
          "output_type": "stream",
          "name": "stdout",
          "text": [
            "Best Parameters: {'n_estimators': 200, 'min_samples_split': 2, 'min_samples_leaf': 1, 'max_depth': 10}\n"
          ]
        }
      ]
    },
    {
      "cell_type": "code",
      "source": [
        "# Defining feature columns (excluding 'y' which is the target in training data)\n",
        "feature_cols = [col for col in df_train.columns if col != 'y']\n",
        "\n",
        "# Extracting features\n",
        "X_train = df_train[feature_cols]\n",
        "y_train = df_train['y']  # Our Target\n",
        "\n",
        "X_test = df_test[feature_cols]  # Ensuring test also has the same features\n"
      ],
      "metadata": {
        "id": "z79WqxPxBAI_"
      },
      "execution_count": 109,
      "outputs": []
    },
    {
      "cell_type": "code",
      "source": [
        "from sklearn.metrics import mean_absolute_error, mean_squared_error, r2_score\n",
        "import numpy as np\n",
        "\n",
        "# Training model with best params\n",
        "rf_best = RandomForestRegressor(n_estimators=100,\n",
        "                                max_depth=10,\n",
        "                                min_samples_split=2,\n",
        "                                min_samples_leaf=2,\n",
        "                                random_state=42)\n",
        "rf_best.fit(X_train, y_train)\n",
        "\n",
        "# Making Predictions\n",
        "y_train_pred = rf_best.predict(X_train)\n",
        "y_test_pred = rf_best.predict(X_test)\n",
        "\n",
        "# Evaluation Function\n",
        "def evaluate_model(y_true, y_pred, dataset_name=\"Dataset\"):\n",
        "    mae = mean_absolute_error(y_true, y_pred)\n",
        "    rmse = np.sqrt(mean_squared_error(y_true, y_pred))\n",
        "    r2 = r2_score(y_true, y_pred)\n",
        "    print(f\" {dataset_name} - MAE: {mae:.4f}, RMSE: {rmse:.4f}, R² Score: {r2:.4f}\")\n",
        "\n",
        "# Evaluate\n",
        "evaluate_model(y_train, y_train_pred, \"Training Set\")\n",
        "# We can't evaluate test set without true y values, so we only print predictions\n",
        "print(\"\\n First 10 Predictions on Test Set:\", y_test_pred[:10])"
      ],
      "metadata": {
        "colab": {
          "base_uri": "https://localhost:8080/"
        },
        "id": "Oe0_RFobBAFv",
        "outputId": "a90150f0-a38d-4b0a-c3fc-e61a0e84025a"
      },
      "execution_count": 110,
      "outputs": [
        {
          "output_type": "stream",
          "name": "stdout",
          "text": [
            " Training Set - MAE: 29.8290, RMSE: 59.7462, R² Score: 0.8492\n",
            "\n",
            " First 10 Predictions on Test Set: [253.27977168 260.28087259 284.35511977 262.12932851 256.89279795\n",
            " 258.51553929 262.64661461 277.47515858 283.83413752 249.10891308]\n"
          ]
        }
      ]
    },
    {
      "cell_type": "markdown",
      "source": [
        "We achieved an R² value of 0.84, which is quite high than out initial regression model's performance."
      ],
      "metadata": {
        "id": "E3CDOI3ClZ0G"
      }
    },
    {
      "cell_type": "code",
      "source": [],
      "metadata": {
        "id": "BV6hddY7AANS"
      },
      "execution_count": 111,
      "outputs": []
    },
    {
      "cell_type": "code",
      "source": [],
      "metadata": {
        "id": "j-mrBsBjAAK4"
      },
      "execution_count": 111,
      "outputs": []
    },
    {
      "cell_type": "code",
      "source": [],
      "metadata": {
        "id": "_tlDhkqKAAIj"
      },
      "execution_count": 111,
      "outputs": []
    }
  ]
}